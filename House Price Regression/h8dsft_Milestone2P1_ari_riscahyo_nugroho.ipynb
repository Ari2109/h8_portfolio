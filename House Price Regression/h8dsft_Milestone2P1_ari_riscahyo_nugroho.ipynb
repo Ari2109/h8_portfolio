{
  "nbformat": 4,
  "nbformat_minor": 0,
  "metadata": {
    "colab": {
      "name": "h8dsft_Milestone2P1_ari_riscahyo_nugroho.ipynb",
      "provenance": [],
      "collapsed_sections": [
        "rpsfVajk3H1Q",
        "cQpaDVZC3M1B",
        "gEix8CA13Yp8",
        "oNVnw-583pLR",
        "8XOAnMtb3D9d",
        "ru3RYP4Z31QE",
        "pqUjTOFu33kR",
        "-sXXXWdKaTf2",
        "VoZJvxFCCDW8",
        "1l6-kchxHZ-C"
      ]
    },
    "kernelspec": {
      "name": "python3",
      "display_name": "Python 3"
    },
    "language_info": {
      "name": "python"
    }
  },
  "cells": [
    {
      "cell_type": "markdown",
      "source": [
        "## Introduction"
      ],
      "metadata": {
        "id": "BZQrjHcV252L"
      }
    },
    {
      "cell_type": "markdown",
      "source": [
        "`Name  : Ari Riscahyo Nugroho`\n",
        "\n",
        "`Batch : 007`\n",
        "\n",
        "`Github: Ari2109`"
      ],
      "metadata": {
        "id": "CslExKD-GinM"
      }
    },
    {
      "cell_type": "markdown",
      "source": [
        "This notebook contains house price dataset from here:\n",
        "https://www.kaggle.com/c/house-prices-advanced-regression-techniques/data\n",
        "\n",
        "This notebook tried to predict the house price with given features. The model used here is Random Forest Regression with the consideration of no outlier handling with hope to preserve the information of those outlier\n"
      ],
      "metadata": {
        "id": "L0hZ3ejvGseU"
      }
    },
    {
      "cell_type": "markdown",
      "source": [
        "## Import Library"
      ],
      "metadata": {
        "id": "FcyJNbeC28li"
      }
    },
    {
      "cell_type": "code",
      "source": [
        "import pandas as pd\n",
        "import numpy as np\n",
        "import seaborn as sns\n",
        "import matplotlib.pyplot as plt\n",
        "\n",
        "from sklearn.compose import ColumnTransformer\n",
        "from sklearn.pipeline import Pipeline\n",
        "from sklearn.impute import SimpleImputer\n",
        "from sklearn.ensemble import RandomForestRegressor\n",
        "from sklearn.preprocessing import OrdinalEncoder\n",
        "from sklearn.metrics import mean_squared_error as mse\n",
        "from sklearn.model_selection import train_test_split\n",
        "from sklearn.model_selection import GridSearchCV\n",
        "\n",
        "from sklearn.feature_selection import RFE"
      ],
      "metadata": {
        "id": "4UoM3u3uaE9W"
      },
      "execution_count": null,
      "outputs": []
    },
    {
      "cell_type": "markdown",
      "source": [
        ""
      ],
      "metadata": {
        "id": "tWZLPJl8NktK"
      }
    },
    {
      "cell_type": "code",
      "source": [
        "pd.get_option(\"display.max_columns\")\n",
        "pd.set_option('display.max_columns', 81)"
      ],
      "metadata": {
        "id": "woRA7ioId7Bd"
      },
      "execution_count": null,
      "outputs": []
    },
    {
      "cell_type": "code",
      "source": [
        "train_data = pd.read_csv('train.csv')"
      ],
      "metadata": {
        "id": "8lQ-dsRFeNoC"
      },
      "execution_count": null,
      "outputs": []
    },
    {
      "cell_type": "code",
      "source": [
        "train_data.sample(5)"
      ],
      "metadata": {
        "colab": {
          "base_uri": "https://localhost:8080/",
          "height": 270
        },
        "id": "yWYneka-hzpv",
        "outputId": "9f070a01-e0f8-4cd6-a069-b2acc6f5278d"
      },
      "execution_count": null,
      "outputs": [
        {
          "output_type": "execute_result",
          "data": {
            "text/html": [
              "\n",
              "  <div id=\"df-f0c9b9d3-8183-42d9-9269-c5cbc73a7aae\">\n",
              "    <div class=\"colab-df-container\">\n",
              "      <div>\n",
              "<style scoped>\n",
              "    .dataframe tbody tr th:only-of-type {\n",
              "        vertical-align: middle;\n",
              "    }\n",
              "\n",
              "    .dataframe tbody tr th {\n",
              "        vertical-align: top;\n",
              "    }\n",
              "\n",
              "    .dataframe thead th {\n",
              "        text-align: right;\n",
              "    }\n",
              "</style>\n",
              "<table border=\"1\" class=\"dataframe\">\n",
              "  <thead>\n",
              "    <tr style=\"text-align: right;\">\n",
              "      <th></th>\n",
              "      <th>Id</th>\n",
              "      <th>MSSubClass</th>\n",
              "      <th>MSZoning</th>\n",
              "      <th>LotFrontage</th>\n",
              "      <th>LotArea</th>\n",
              "      <th>Street</th>\n",
              "      <th>Alley</th>\n",
              "      <th>LotShape</th>\n",
              "      <th>LandContour</th>\n",
              "      <th>Utilities</th>\n",
              "      <th>LotConfig</th>\n",
              "      <th>LandSlope</th>\n",
              "      <th>Neighborhood</th>\n",
              "      <th>Condition1</th>\n",
              "      <th>Condition2</th>\n",
              "      <th>BldgType</th>\n",
              "      <th>HouseStyle</th>\n",
              "      <th>OverallQual</th>\n",
              "      <th>OverallCond</th>\n",
              "      <th>YearBuilt</th>\n",
              "      <th>YearRemodAdd</th>\n",
              "      <th>RoofStyle</th>\n",
              "      <th>RoofMatl</th>\n",
              "      <th>Exterior1st</th>\n",
              "      <th>Exterior2nd</th>\n",
              "      <th>MasVnrType</th>\n",
              "      <th>MasVnrArea</th>\n",
              "      <th>ExterQual</th>\n",
              "      <th>ExterCond</th>\n",
              "      <th>Foundation</th>\n",
              "      <th>BsmtQual</th>\n",
              "      <th>BsmtCond</th>\n",
              "      <th>BsmtExposure</th>\n",
              "      <th>BsmtFinType1</th>\n",
              "      <th>BsmtFinSF1</th>\n",
              "      <th>BsmtFinType2</th>\n",
              "      <th>BsmtFinSF2</th>\n",
              "      <th>BsmtUnfSF</th>\n",
              "      <th>TotalBsmtSF</th>\n",
              "      <th>Heating</th>\n",
              "      <th>HeatingQC</th>\n",
              "      <th>CentralAir</th>\n",
              "      <th>Electrical</th>\n",
              "      <th>1stFlrSF</th>\n",
              "      <th>2ndFlrSF</th>\n",
              "      <th>LowQualFinSF</th>\n",
              "      <th>GrLivArea</th>\n",
              "      <th>BsmtFullBath</th>\n",
              "      <th>BsmtHalfBath</th>\n",
              "      <th>FullBath</th>\n",
              "      <th>HalfBath</th>\n",
              "      <th>BedroomAbvGr</th>\n",
              "      <th>KitchenAbvGr</th>\n",
              "      <th>KitchenQual</th>\n",
              "      <th>TotRmsAbvGrd</th>\n",
              "      <th>Functional</th>\n",
              "      <th>Fireplaces</th>\n",
              "      <th>FireplaceQu</th>\n",
              "      <th>GarageType</th>\n",
              "      <th>GarageYrBlt</th>\n",
              "      <th>GarageFinish</th>\n",
              "      <th>GarageCars</th>\n",
              "      <th>GarageArea</th>\n",
              "      <th>GarageQual</th>\n",
              "      <th>GarageCond</th>\n",
              "      <th>PavedDrive</th>\n",
              "      <th>WoodDeckSF</th>\n",
              "      <th>OpenPorchSF</th>\n",
              "      <th>EnclosedPorch</th>\n",
              "      <th>3SsnPorch</th>\n",
              "      <th>ScreenPorch</th>\n",
              "      <th>PoolArea</th>\n",
              "      <th>PoolQC</th>\n",
              "      <th>Fence</th>\n",
              "      <th>MiscFeature</th>\n",
              "      <th>MiscVal</th>\n",
              "      <th>MoSold</th>\n",
              "      <th>YrSold</th>\n",
              "      <th>SaleType</th>\n",
              "      <th>SaleCondition</th>\n",
              "      <th>SalePrice</th>\n",
              "    </tr>\n",
              "  </thead>\n",
              "  <tbody>\n",
              "    <tr>\n",
              "      <th>1350</th>\n",
              "      <td>1351</td>\n",
              "      <td>90</td>\n",
              "      <td>RL</td>\n",
              "      <td>91.0</td>\n",
              "      <td>11643</td>\n",
              "      <td>Pave</td>\n",
              "      <td>NaN</td>\n",
              "      <td>Reg</td>\n",
              "      <td>Lvl</td>\n",
              "      <td>AllPub</td>\n",
              "      <td>Inside</td>\n",
              "      <td>Gtl</td>\n",
              "      <td>NAmes</td>\n",
              "      <td>Artery</td>\n",
              "      <td>Norm</td>\n",
              "      <td>Duplex</td>\n",
              "      <td>2Story</td>\n",
              "      <td>5</td>\n",
              "      <td>5</td>\n",
              "      <td>1969</td>\n",
              "      <td>1969</td>\n",
              "      <td>Gable</td>\n",
              "      <td>CompShg</td>\n",
              "      <td>MetalSd</td>\n",
              "      <td>MetalSd</td>\n",
              "      <td>BrkFace</td>\n",
              "      <td>368.0</td>\n",
              "      <td>TA</td>\n",
              "      <td>TA</td>\n",
              "      <td>CBlock</td>\n",
              "      <td>TA</td>\n",
              "      <td>TA</td>\n",
              "      <td>No</td>\n",
              "      <td>LwQ</td>\n",
              "      <td>500</td>\n",
              "      <td>Unf</td>\n",
              "      <td>0</td>\n",
              "      <td>748</td>\n",
              "      <td>1248</td>\n",
              "      <td>GasA</td>\n",
              "      <td>TA</td>\n",
              "      <td>Y</td>\n",
              "      <td>SBrkr</td>\n",
              "      <td>1338</td>\n",
              "      <td>1296</td>\n",
              "      <td>0</td>\n",
              "      <td>2634</td>\n",
              "      <td>1</td>\n",
              "      <td>1</td>\n",
              "      <td>2</td>\n",
              "      <td>2</td>\n",
              "      <td>6</td>\n",
              "      <td>2</td>\n",
              "      <td>TA</td>\n",
              "      <td>12</td>\n",
              "      <td>Typ</td>\n",
              "      <td>0</td>\n",
              "      <td>NaN</td>\n",
              "      <td>Detchd</td>\n",
              "      <td>1969.0</td>\n",
              "      <td>Unf</td>\n",
              "      <td>4</td>\n",
              "      <td>968</td>\n",
              "      <td>TA</td>\n",
              "      <td>TA</td>\n",
              "      <td>Y</td>\n",
              "      <td>0</td>\n",
              "      <td>0</td>\n",
              "      <td>0</td>\n",
              "      <td>0</td>\n",
              "      <td>0</td>\n",
              "      <td>0</td>\n",
              "      <td>NaN</td>\n",
              "      <td>NaN</td>\n",
              "      <td>NaN</td>\n",
              "      <td>0</td>\n",
              "      <td>8</td>\n",
              "      <td>2009</td>\n",
              "      <td>WD</td>\n",
              "      <td>Normal</td>\n",
              "      <td>200000</td>\n",
              "    </tr>\n",
              "    <tr>\n",
              "      <th>555</th>\n",
              "      <td>556</td>\n",
              "      <td>45</td>\n",
              "      <td>RM</td>\n",
              "      <td>58.0</td>\n",
              "      <td>6380</td>\n",
              "      <td>Pave</td>\n",
              "      <td>NaN</td>\n",
              "      <td>Reg</td>\n",
              "      <td>Lvl</td>\n",
              "      <td>AllPub</td>\n",
              "      <td>Inside</td>\n",
              "      <td>Gtl</td>\n",
              "      <td>BrkSide</td>\n",
              "      <td>Norm</td>\n",
              "      <td>Norm</td>\n",
              "      <td>1Fam</td>\n",
              "      <td>1.5Unf</td>\n",
              "      <td>5</td>\n",
              "      <td>6</td>\n",
              "      <td>1922</td>\n",
              "      <td>1950</td>\n",
              "      <td>Gable</td>\n",
              "      <td>CompShg</td>\n",
              "      <td>MetalSd</td>\n",
              "      <td>MetalSd</td>\n",
              "      <td>None</td>\n",
              "      <td>0.0</td>\n",
              "      <td>TA</td>\n",
              "      <td>TA</td>\n",
              "      <td>BrkTil</td>\n",
              "      <td>TA</td>\n",
              "      <td>Fa</td>\n",
              "      <td>No</td>\n",
              "      <td>Unf</td>\n",
              "      <td>0</td>\n",
              "      <td>Unf</td>\n",
              "      <td>0</td>\n",
              "      <td>993</td>\n",
              "      <td>993</td>\n",
              "      <td>GasA</td>\n",
              "      <td>TA</td>\n",
              "      <td>Y</td>\n",
              "      <td>FuseA</td>\n",
              "      <td>1048</td>\n",
              "      <td>0</td>\n",
              "      <td>0</td>\n",
              "      <td>1048</td>\n",
              "      <td>0</td>\n",
              "      <td>0</td>\n",
              "      <td>1</td>\n",
              "      <td>0</td>\n",
              "      <td>2</td>\n",
              "      <td>1</td>\n",
              "      <td>TA</td>\n",
              "      <td>5</td>\n",
              "      <td>Typ</td>\n",
              "      <td>1</td>\n",
              "      <td>Gd</td>\n",
              "      <td>Detchd</td>\n",
              "      <td>1922.0</td>\n",
              "      <td>Unf</td>\n",
              "      <td>1</td>\n",
              "      <td>280</td>\n",
              "      <td>TA</td>\n",
              "      <td>TA</td>\n",
              "      <td>Y</td>\n",
              "      <td>0</td>\n",
              "      <td>0</td>\n",
              "      <td>116</td>\n",
              "      <td>0</td>\n",
              "      <td>0</td>\n",
              "      <td>0</td>\n",
              "      <td>NaN</td>\n",
              "      <td>NaN</td>\n",
              "      <td>NaN</td>\n",
              "      <td>0</td>\n",
              "      <td>8</td>\n",
              "      <td>2006</td>\n",
              "      <td>WD</td>\n",
              "      <td>Normal</td>\n",
              "      <td>113000</td>\n",
              "    </tr>\n",
              "    <tr>\n",
              "      <th>56</th>\n",
              "      <td>57</td>\n",
              "      <td>160</td>\n",
              "      <td>FV</td>\n",
              "      <td>24.0</td>\n",
              "      <td>2645</td>\n",
              "      <td>Pave</td>\n",
              "      <td>Pave</td>\n",
              "      <td>Reg</td>\n",
              "      <td>Lvl</td>\n",
              "      <td>AllPub</td>\n",
              "      <td>Inside</td>\n",
              "      <td>Gtl</td>\n",
              "      <td>Somerst</td>\n",
              "      <td>Norm</td>\n",
              "      <td>Norm</td>\n",
              "      <td>Twnhs</td>\n",
              "      <td>2Story</td>\n",
              "      <td>8</td>\n",
              "      <td>5</td>\n",
              "      <td>1999</td>\n",
              "      <td>2000</td>\n",
              "      <td>Gable</td>\n",
              "      <td>CompShg</td>\n",
              "      <td>MetalSd</td>\n",
              "      <td>MetalSd</td>\n",
              "      <td>BrkFace</td>\n",
              "      <td>456.0</td>\n",
              "      <td>Gd</td>\n",
              "      <td>TA</td>\n",
              "      <td>PConc</td>\n",
              "      <td>Gd</td>\n",
              "      <td>TA</td>\n",
              "      <td>No</td>\n",
              "      <td>GLQ</td>\n",
              "      <td>649</td>\n",
              "      <td>Unf</td>\n",
              "      <td>0</td>\n",
              "      <td>321</td>\n",
              "      <td>970</td>\n",
              "      <td>GasA</td>\n",
              "      <td>Ex</td>\n",
              "      <td>Y</td>\n",
              "      <td>SBrkr</td>\n",
              "      <td>983</td>\n",
              "      <td>756</td>\n",
              "      <td>0</td>\n",
              "      <td>1739</td>\n",
              "      <td>1</td>\n",
              "      <td>0</td>\n",
              "      <td>2</td>\n",
              "      <td>1</td>\n",
              "      <td>3</td>\n",
              "      <td>1</td>\n",
              "      <td>Gd</td>\n",
              "      <td>7</td>\n",
              "      <td>Typ</td>\n",
              "      <td>0</td>\n",
              "      <td>NaN</td>\n",
              "      <td>Attchd</td>\n",
              "      <td>1999.0</td>\n",
              "      <td>Fin</td>\n",
              "      <td>2</td>\n",
              "      <td>480</td>\n",
              "      <td>TA</td>\n",
              "      <td>TA</td>\n",
              "      <td>Y</td>\n",
              "      <td>115</td>\n",
              "      <td>0</td>\n",
              "      <td>0</td>\n",
              "      <td>0</td>\n",
              "      <td>0</td>\n",
              "      <td>0</td>\n",
              "      <td>NaN</td>\n",
              "      <td>NaN</td>\n",
              "      <td>NaN</td>\n",
              "      <td>0</td>\n",
              "      <td>8</td>\n",
              "      <td>2009</td>\n",
              "      <td>WD</td>\n",
              "      <td>Abnorml</td>\n",
              "      <td>172500</td>\n",
              "    </tr>\n",
              "    <tr>\n",
              "      <th>375</th>\n",
              "      <td>376</td>\n",
              "      <td>30</td>\n",
              "      <td>RL</td>\n",
              "      <td>NaN</td>\n",
              "      <td>10020</td>\n",
              "      <td>Pave</td>\n",
              "      <td>NaN</td>\n",
              "      <td>IR1</td>\n",
              "      <td>Low</td>\n",
              "      <td>AllPub</td>\n",
              "      <td>Inside</td>\n",
              "      <td>Sev</td>\n",
              "      <td>Edwards</td>\n",
              "      <td>Norm</td>\n",
              "      <td>Norm</td>\n",
              "      <td>1Fam</td>\n",
              "      <td>1Story</td>\n",
              "      <td>1</td>\n",
              "      <td>1</td>\n",
              "      <td>1922</td>\n",
              "      <td>1950</td>\n",
              "      <td>Gable</td>\n",
              "      <td>CompShg</td>\n",
              "      <td>Wd Sdng</td>\n",
              "      <td>Wd Sdng</td>\n",
              "      <td>None</td>\n",
              "      <td>0.0</td>\n",
              "      <td>Fa</td>\n",
              "      <td>Fa</td>\n",
              "      <td>BrkTil</td>\n",
              "      <td>Fa</td>\n",
              "      <td>Po</td>\n",
              "      <td>Gd</td>\n",
              "      <td>BLQ</td>\n",
              "      <td>350</td>\n",
              "      <td>Unf</td>\n",
              "      <td>0</td>\n",
              "      <td>333</td>\n",
              "      <td>683</td>\n",
              "      <td>GasA</td>\n",
              "      <td>Gd</td>\n",
              "      <td>N</td>\n",
              "      <td>FuseA</td>\n",
              "      <td>904</td>\n",
              "      <td>0</td>\n",
              "      <td>0</td>\n",
              "      <td>904</td>\n",
              "      <td>1</td>\n",
              "      <td>0</td>\n",
              "      <td>0</td>\n",
              "      <td>1</td>\n",
              "      <td>1</td>\n",
              "      <td>1</td>\n",
              "      <td>Fa</td>\n",
              "      <td>4</td>\n",
              "      <td>Maj1</td>\n",
              "      <td>0</td>\n",
              "      <td>NaN</td>\n",
              "      <td>NaN</td>\n",
              "      <td>NaN</td>\n",
              "      <td>NaN</td>\n",
              "      <td>0</td>\n",
              "      <td>0</td>\n",
              "      <td>NaN</td>\n",
              "      <td>NaN</td>\n",
              "      <td>Y</td>\n",
              "      <td>0</td>\n",
              "      <td>0</td>\n",
              "      <td>0</td>\n",
              "      <td>0</td>\n",
              "      <td>0</td>\n",
              "      <td>0</td>\n",
              "      <td>NaN</td>\n",
              "      <td>NaN</td>\n",
              "      <td>NaN</td>\n",
              "      <td>0</td>\n",
              "      <td>3</td>\n",
              "      <td>2009</td>\n",
              "      <td>WD</td>\n",
              "      <td>Normal</td>\n",
              "      <td>61000</td>\n",
              "    </tr>\n",
              "    <tr>\n",
              "      <th>611</th>\n",
              "      <td>612</td>\n",
              "      <td>80</td>\n",
              "      <td>RL</td>\n",
              "      <td>NaN</td>\n",
              "      <td>10395</td>\n",
              "      <td>Pave</td>\n",
              "      <td>NaN</td>\n",
              "      <td>IR1</td>\n",
              "      <td>Lvl</td>\n",
              "      <td>AllPub</td>\n",
              "      <td>FR2</td>\n",
              "      <td>Gtl</td>\n",
              "      <td>NWAmes</td>\n",
              "      <td>Norm</td>\n",
              "      <td>Norm</td>\n",
              "      <td>1Fam</td>\n",
              "      <td>SLvl</td>\n",
              "      <td>6</td>\n",
              "      <td>6</td>\n",
              "      <td>1978</td>\n",
              "      <td>1978</td>\n",
              "      <td>Gable</td>\n",
              "      <td>CompShg</td>\n",
              "      <td>HdBoard</td>\n",
              "      <td>HdBoard</td>\n",
              "      <td>BrkFace</td>\n",
              "      <td>233.0</td>\n",
              "      <td>TA</td>\n",
              "      <td>TA</td>\n",
              "      <td>CBlock</td>\n",
              "      <td>Gd</td>\n",
              "      <td>TA</td>\n",
              "      <td>Av</td>\n",
              "      <td>ALQ</td>\n",
              "      <td>605</td>\n",
              "      <td>Unf</td>\n",
              "      <td>0</td>\n",
              "      <td>427</td>\n",
              "      <td>1032</td>\n",
              "      <td>GasA</td>\n",
              "      <td>TA</td>\n",
              "      <td>Y</td>\n",
              "      <td>SBrkr</td>\n",
              "      <td>1032</td>\n",
              "      <td>0</td>\n",
              "      <td>0</td>\n",
              "      <td>1032</td>\n",
              "      <td>0</td>\n",
              "      <td>1</td>\n",
              "      <td>2</td>\n",
              "      <td>0</td>\n",
              "      <td>3</td>\n",
              "      <td>1</td>\n",
              "      <td>TA</td>\n",
              "      <td>6</td>\n",
              "      <td>Typ</td>\n",
              "      <td>1</td>\n",
              "      <td>TA</td>\n",
              "      <td>Attchd</td>\n",
              "      <td>1978.0</td>\n",
              "      <td>Unf</td>\n",
              "      <td>2</td>\n",
              "      <td>564</td>\n",
              "      <td>TA</td>\n",
              "      <td>TA</td>\n",
              "      <td>Y</td>\n",
              "      <td>0</td>\n",
              "      <td>0</td>\n",
              "      <td>0</td>\n",
              "      <td>0</td>\n",
              "      <td>0</td>\n",
              "      <td>0</td>\n",
              "      <td>NaN</td>\n",
              "      <td>MnPrv</td>\n",
              "      <td>Shed</td>\n",
              "      <td>500</td>\n",
              "      <td>7</td>\n",
              "      <td>2007</td>\n",
              "      <td>WD</td>\n",
              "      <td>Normal</td>\n",
              "      <td>148000</td>\n",
              "    </tr>\n",
              "  </tbody>\n",
              "</table>\n",
              "</div>\n",
              "      <button class=\"colab-df-convert\" onclick=\"convertToInteractive('df-f0c9b9d3-8183-42d9-9269-c5cbc73a7aae')\"\n",
              "              title=\"Convert this dataframe to an interactive table.\"\n",
              "              style=\"display:none;\">\n",
              "        \n",
              "  <svg xmlns=\"http://www.w3.org/2000/svg\" height=\"24px\"viewBox=\"0 0 24 24\"\n",
              "       width=\"24px\">\n",
              "    <path d=\"M0 0h24v24H0V0z\" fill=\"none\"/>\n",
              "    <path d=\"M18.56 5.44l.94 2.06.94-2.06 2.06-.94-2.06-.94-.94-2.06-.94 2.06-2.06.94zm-11 1L8.5 8.5l.94-2.06 2.06-.94-2.06-.94L8.5 2.5l-.94 2.06-2.06.94zm10 10l.94 2.06.94-2.06 2.06-.94-2.06-.94-.94-2.06-.94 2.06-2.06.94z\"/><path d=\"M17.41 7.96l-1.37-1.37c-.4-.4-.92-.59-1.43-.59-.52 0-1.04.2-1.43.59L10.3 9.45l-7.72 7.72c-.78.78-.78 2.05 0 2.83L4 21.41c.39.39.9.59 1.41.59.51 0 1.02-.2 1.41-.59l7.78-7.78 2.81-2.81c.8-.78.8-2.07 0-2.86zM5.41 20L4 18.59l7.72-7.72 1.47 1.35L5.41 20z\"/>\n",
              "  </svg>\n",
              "      </button>\n",
              "      \n",
              "  <style>\n",
              "    .colab-df-container {\n",
              "      display:flex;\n",
              "      flex-wrap:wrap;\n",
              "      gap: 12px;\n",
              "    }\n",
              "\n",
              "    .colab-df-convert {\n",
              "      background-color: #E8F0FE;\n",
              "      border: none;\n",
              "      border-radius: 50%;\n",
              "      cursor: pointer;\n",
              "      display: none;\n",
              "      fill: #1967D2;\n",
              "      height: 32px;\n",
              "      padding: 0 0 0 0;\n",
              "      width: 32px;\n",
              "    }\n",
              "\n",
              "    .colab-df-convert:hover {\n",
              "      background-color: #E2EBFA;\n",
              "      box-shadow: 0px 1px 2px rgba(60, 64, 67, 0.3), 0px 1px 3px 1px rgba(60, 64, 67, 0.15);\n",
              "      fill: #174EA6;\n",
              "    }\n",
              "\n",
              "    [theme=dark] .colab-df-convert {\n",
              "      background-color: #3B4455;\n",
              "      fill: #D2E3FC;\n",
              "    }\n",
              "\n",
              "    [theme=dark] .colab-df-convert:hover {\n",
              "      background-color: #434B5C;\n",
              "      box-shadow: 0px 1px 3px 1px rgba(0, 0, 0, 0.15);\n",
              "      filter: drop-shadow(0px 1px 2px rgba(0, 0, 0, 0.3));\n",
              "      fill: #FFFFFF;\n",
              "    }\n",
              "  </style>\n",
              "\n",
              "      <script>\n",
              "        const buttonEl =\n",
              "          document.querySelector('#df-f0c9b9d3-8183-42d9-9269-c5cbc73a7aae button.colab-df-convert');\n",
              "        buttonEl.style.display =\n",
              "          google.colab.kernel.accessAllowed ? 'block' : 'none';\n",
              "\n",
              "        async function convertToInteractive(key) {\n",
              "          const element = document.querySelector('#df-f0c9b9d3-8183-42d9-9269-c5cbc73a7aae');\n",
              "          const dataTable =\n",
              "            await google.colab.kernel.invokeFunction('convertToInteractive',\n",
              "                                                     [key], {});\n",
              "          if (!dataTable) return;\n",
              "\n",
              "          const docLinkHtml = 'Like what you see? Visit the ' +\n",
              "            '<a target=\"_blank\" href=https://colab.research.google.com/notebooks/data_table.ipynb>data table notebook</a>'\n",
              "            + ' to learn more about interactive tables.';\n",
              "          element.innerHTML = '';\n",
              "          dataTable['output_type'] = 'display_data';\n",
              "          await google.colab.output.renderOutput(dataTable, element);\n",
              "          const docLink = document.createElement('div');\n",
              "          docLink.innerHTML = docLinkHtml;\n",
              "          element.appendChild(docLink);\n",
              "        }\n",
              "      </script>\n",
              "    </div>\n",
              "  </div>\n",
              "  "
            ],
            "text/plain": [
              "        Id  MSSubClass MSZoning  LotFrontage  LotArea Street Alley LotShape  \\\n",
              "1350  1351          90       RL         91.0    11643   Pave   NaN      Reg   \n",
              "555    556          45       RM         58.0     6380   Pave   NaN      Reg   \n",
              "56      57         160       FV         24.0     2645   Pave  Pave      Reg   \n",
              "375    376          30       RL          NaN    10020   Pave   NaN      IR1   \n",
              "611    612          80       RL          NaN    10395   Pave   NaN      IR1   \n",
              "\n",
              "     LandContour Utilities LotConfig LandSlope Neighborhood Condition1  \\\n",
              "1350         Lvl    AllPub    Inside       Gtl        NAmes     Artery   \n",
              "555          Lvl    AllPub    Inside       Gtl      BrkSide       Norm   \n",
              "56           Lvl    AllPub    Inside       Gtl      Somerst       Norm   \n",
              "375          Low    AllPub    Inside       Sev      Edwards       Norm   \n",
              "611          Lvl    AllPub       FR2       Gtl       NWAmes       Norm   \n",
              "\n",
              "     Condition2 BldgType HouseStyle  OverallQual  OverallCond  YearBuilt  \\\n",
              "1350       Norm   Duplex     2Story            5            5       1969   \n",
              "555        Norm     1Fam     1.5Unf            5            6       1922   \n",
              "56         Norm    Twnhs     2Story            8            5       1999   \n",
              "375        Norm     1Fam     1Story            1            1       1922   \n",
              "611        Norm     1Fam       SLvl            6            6       1978   \n",
              "\n",
              "      YearRemodAdd RoofStyle RoofMatl Exterior1st Exterior2nd MasVnrType  \\\n",
              "1350          1969     Gable  CompShg     MetalSd     MetalSd    BrkFace   \n",
              "555           1950     Gable  CompShg     MetalSd     MetalSd       None   \n",
              "56            2000     Gable  CompShg     MetalSd     MetalSd    BrkFace   \n",
              "375           1950     Gable  CompShg     Wd Sdng     Wd Sdng       None   \n",
              "611           1978     Gable  CompShg     HdBoard     HdBoard    BrkFace   \n",
              "\n",
              "      MasVnrArea ExterQual ExterCond Foundation BsmtQual BsmtCond  \\\n",
              "1350       368.0        TA        TA     CBlock       TA       TA   \n",
              "555          0.0        TA        TA     BrkTil       TA       Fa   \n",
              "56         456.0        Gd        TA      PConc       Gd       TA   \n",
              "375          0.0        Fa        Fa     BrkTil       Fa       Po   \n",
              "611        233.0        TA        TA     CBlock       Gd       TA   \n",
              "\n",
              "     BsmtExposure BsmtFinType1  BsmtFinSF1 BsmtFinType2  BsmtFinSF2  \\\n",
              "1350           No          LwQ         500          Unf           0   \n",
              "555            No          Unf           0          Unf           0   \n",
              "56             No          GLQ         649          Unf           0   \n",
              "375            Gd          BLQ         350          Unf           0   \n",
              "611            Av          ALQ         605          Unf           0   \n",
              "\n",
              "      BsmtUnfSF  TotalBsmtSF Heating HeatingQC CentralAir Electrical  \\\n",
              "1350        748         1248    GasA        TA          Y      SBrkr   \n",
              "555         993          993    GasA        TA          Y      FuseA   \n",
              "56          321          970    GasA        Ex          Y      SBrkr   \n",
              "375         333          683    GasA        Gd          N      FuseA   \n",
              "611         427         1032    GasA        TA          Y      SBrkr   \n",
              "\n",
              "      1stFlrSF  2ndFlrSF  LowQualFinSF  GrLivArea  BsmtFullBath  BsmtHalfBath  \\\n",
              "1350      1338      1296             0       2634             1             1   \n",
              "555       1048         0             0       1048             0             0   \n",
              "56         983       756             0       1739             1             0   \n",
              "375        904         0             0        904             1             0   \n",
              "611       1032         0             0       1032             0             1   \n",
              "\n",
              "      FullBath  HalfBath  BedroomAbvGr  KitchenAbvGr KitchenQual  \\\n",
              "1350         2         2             6             2          TA   \n",
              "555          1         0             2             1          TA   \n",
              "56           2         1             3             1          Gd   \n",
              "375          0         1             1             1          Fa   \n",
              "611          2         0             3             1          TA   \n",
              "\n",
              "      TotRmsAbvGrd Functional  Fireplaces FireplaceQu GarageType  GarageYrBlt  \\\n",
              "1350            12        Typ           0         NaN     Detchd       1969.0   \n",
              "555              5        Typ           1          Gd     Detchd       1922.0   \n",
              "56               7        Typ           0         NaN     Attchd       1999.0   \n",
              "375              4       Maj1           0         NaN        NaN          NaN   \n",
              "611              6        Typ           1          TA     Attchd       1978.0   \n",
              "\n",
              "     GarageFinish  GarageCars  GarageArea GarageQual GarageCond PavedDrive  \\\n",
              "1350          Unf           4         968         TA         TA          Y   \n",
              "555           Unf           1         280         TA         TA          Y   \n",
              "56            Fin           2         480         TA         TA          Y   \n",
              "375           NaN           0           0        NaN        NaN          Y   \n",
              "611           Unf           2         564         TA         TA          Y   \n",
              "\n",
              "      WoodDeckSF  OpenPorchSF  EnclosedPorch  3SsnPorch  ScreenPorch  \\\n",
              "1350           0            0              0          0            0   \n",
              "555            0            0            116          0            0   \n",
              "56           115            0              0          0            0   \n",
              "375            0            0              0          0            0   \n",
              "611            0            0              0          0            0   \n",
              "\n",
              "      PoolArea PoolQC  Fence MiscFeature  MiscVal  MoSold  YrSold SaleType  \\\n",
              "1350         0    NaN    NaN         NaN        0       8    2009       WD   \n",
              "555          0    NaN    NaN         NaN        0       8    2006       WD   \n",
              "56           0    NaN    NaN         NaN        0       8    2009       WD   \n",
              "375          0    NaN    NaN         NaN        0       3    2009       WD   \n",
              "611          0    NaN  MnPrv        Shed      500       7    2007       WD   \n",
              "\n",
              "     SaleCondition  SalePrice  \n",
              "1350        Normal     200000  \n",
              "555         Normal     113000  \n",
              "56         Abnorml     172500  \n",
              "375         Normal      61000  \n",
              "611         Normal     148000  "
            ]
          },
          "metadata": {},
          "execution_count": 4
        }
      ]
    },
    {
      "cell_type": "markdown",
      "source": [
        "We can drop ID since it's not relevant to our model. The input will also never assume the ID input anyway"
      ],
      "metadata": {
        "id": "_2X4XXAc-2Y1"
      }
    },
    {
      "cell_type": "code",
      "source": [
        "train_data.drop(columns='Id', inplace=True)"
      ],
      "metadata": {
        "id": "lxjU5uQl-1ZB"
      },
      "execution_count": null,
      "outputs": []
    },
    {
      "cell_type": "markdown",
      "source": [
        "Null data check!"
      ],
      "metadata": {
        "id": "MMDYP7sa_XVe"
      }
    },
    {
      "cell_type": "code",
      "source": [
        "pd.DataFrame(train_data.isnull().sum()).T / train_data.shape[0]"
      ],
      "metadata": {
        "colab": {
          "base_uri": "https://localhost:8080/",
          "height": 145
        },
        "id": "BdNp3OdOhzkQ",
        "outputId": "51f46b72-e7cb-4901-9212-7054d4a239d3"
      },
      "execution_count": null,
      "outputs": [
        {
          "output_type": "execute_result",
          "data": {
            "text/html": [
              "\n",
              "  <div id=\"df-5e80c8d3-d79c-41c3-b7e2-41a9c675121f\">\n",
              "    <div class=\"colab-df-container\">\n",
              "      <div>\n",
              "<style scoped>\n",
              "    .dataframe tbody tr th:only-of-type {\n",
              "        vertical-align: middle;\n",
              "    }\n",
              "\n",
              "    .dataframe tbody tr th {\n",
              "        vertical-align: top;\n",
              "    }\n",
              "\n",
              "    .dataframe thead th {\n",
              "        text-align: right;\n",
              "    }\n",
              "</style>\n",
              "<table border=\"1\" class=\"dataframe\">\n",
              "  <thead>\n",
              "    <tr style=\"text-align: right;\">\n",
              "      <th></th>\n",
              "      <th>MSSubClass</th>\n",
              "      <th>MSZoning</th>\n",
              "      <th>LotFrontage</th>\n",
              "      <th>LotArea</th>\n",
              "      <th>Street</th>\n",
              "      <th>Alley</th>\n",
              "      <th>LotShape</th>\n",
              "      <th>LandContour</th>\n",
              "      <th>Utilities</th>\n",
              "      <th>LotConfig</th>\n",
              "      <th>LandSlope</th>\n",
              "      <th>Neighborhood</th>\n",
              "      <th>Condition1</th>\n",
              "      <th>Condition2</th>\n",
              "      <th>BldgType</th>\n",
              "      <th>HouseStyle</th>\n",
              "      <th>OverallQual</th>\n",
              "      <th>OverallCond</th>\n",
              "      <th>YearBuilt</th>\n",
              "      <th>YearRemodAdd</th>\n",
              "      <th>RoofStyle</th>\n",
              "      <th>RoofMatl</th>\n",
              "      <th>Exterior1st</th>\n",
              "      <th>Exterior2nd</th>\n",
              "      <th>MasVnrType</th>\n",
              "      <th>MasVnrArea</th>\n",
              "      <th>ExterQual</th>\n",
              "      <th>ExterCond</th>\n",
              "      <th>Foundation</th>\n",
              "      <th>BsmtQual</th>\n",
              "      <th>BsmtCond</th>\n",
              "      <th>BsmtExposure</th>\n",
              "      <th>BsmtFinType1</th>\n",
              "      <th>BsmtFinSF1</th>\n",
              "      <th>BsmtFinType2</th>\n",
              "      <th>BsmtFinSF2</th>\n",
              "      <th>BsmtUnfSF</th>\n",
              "      <th>TotalBsmtSF</th>\n",
              "      <th>Heating</th>\n",
              "      <th>HeatingQC</th>\n",
              "      <th>CentralAir</th>\n",
              "      <th>Electrical</th>\n",
              "      <th>1stFlrSF</th>\n",
              "      <th>2ndFlrSF</th>\n",
              "      <th>LowQualFinSF</th>\n",
              "      <th>GrLivArea</th>\n",
              "      <th>BsmtFullBath</th>\n",
              "      <th>BsmtHalfBath</th>\n",
              "      <th>FullBath</th>\n",
              "      <th>HalfBath</th>\n",
              "      <th>BedroomAbvGr</th>\n",
              "      <th>KitchenAbvGr</th>\n",
              "      <th>KitchenQual</th>\n",
              "      <th>TotRmsAbvGrd</th>\n",
              "      <th>Functional</th>\n",
              "      <th>Fireplaces</th>\n",
              "      <th>FireplaceQu</th>\n",
              "      <th>GarageType</th>\n",
              "      <th>GarageYrBlt</th>\n",
              "      <th>GarageFinish</th>\n",
              "      <th>GarageCars</th>\n",
              "      <th>GarageArea</th>\n",
              "      <th>GarageQual</th>\n",
              "      <th>GarageCond</th>\n",
              "      <th>PavedDrive</th>\n",
              "      <th>WoodDeckSF</th>\n",
              "      <th>OpenPorchSF</th>\n",
              "      <th>EnclosedPorch</th>\n",
              "      <th>3SsnPorch</th>\n",
              "      <th>ScreenPorch</th>\n",
              "      <th>PoolArea</th>\n",
              "      <th>PoolQC</th>\n",
              "      <th>Fence</th>\n",
              "      <th>MiscFeature</th>\n",
              "      <th>MiscVal</th>\n",
              "      <th>MoSold</th>\n",
              "      <th>YrSold</th>\n",
              "      <th>SaleType</th>\n",
              "      <th>SaleCondition</th>\n",
              "      <th>SalePrice</th>\n",
              "    </tr>\n",
              "  </thead>\n",
              "  <tbody>\n",
              "    <tr>\n",
              "      <th>0</th>\n",
              "      <td>0.0</td>\n",
              "      <td>0.0</td>\n",
              "      <td>0.177397</td>\n",
              "      <td>0.0</td>\n",
              "      <td>0.0</td>\n",
              "      <td>0.937671</td>\n",
              "      <td>0.0</td>\n",
              "      <td>0.0</td>\n",
              "      <td>0.0</td>\n",
              "      <td>0.0</td>\n",
              "      <td>0.0</td>\n",
              "      <td>0.0</td>\n",
              "      <td>0.0</td>\n",
              "      <td>0.0</td>\n",
              "      <td>0.0</td>\n",
              "      <td>0.0</td>\n",
              "      <td>0.0</td>\n",
              "      <td>0.0</td>\n",
              "      <td>0.0</td>\n",
              "      <td>0.0</td>\n",
              "      <td>0.0</td>\n",
              "      <td>0.0</td>\n",
              "      <td>0.0</td>\n",
              "      <td>0.0</td>\n",
              "      <td>0.005479</td>\n",
              "      <td>0.005479</td>\n",
              "      <td>0.0</td>\n",
              "      <td>0.0</td>\n",
              "      <td>0.0</td>\n",
              "      <td>0.025342</td>\n",
              "      <td>0.025342</td>\n",
              "      <td>0.026027</td>\n",
              "      <td>0.025342</td>\n",
              "      <td>0.0</td>\n",
              "      <td>0.026027</td>\n",
              "      <td>0.0</td>\n",
              "      <td>0.0</td>\n",
              "      <td>0.0</td>\n",
              "      <td>0.0</td>\n",
              "      <td>0.0</td>\n",
              "      <td>0.0</td>\n",
              "      <td>0.000685</td>\n",
              "      <td>0.0</td>\n",
              "      <td>0.0</td>\n",
              "      <td>0.0</td>\n",
              "      <td>0.0</td>\n",
              "      <td>0.0</td>\n",
              "      <td>0.0</td>\n",
              "      <td>0.0</td>\n",
              "      <td>0.0</td>\n",
              "      <td>0.0</td>\n",
              "      <td>0.0</td>\n",
              "      <td>0.0</td>\n",
              "      <td>0.0</td>\n",
              "      <td>0.0</td>\n",
              "      <td>0.0</td>\n",
              "      <td>0.472603</td>\n",
              "      <td>0.055479</td>\n",
              "      <td>0.055479</td>\n",
              "      <td>0.055479</td>\n",
              "      <td>0.0</td>\n",
              "      <td>0.0</td>\n",
              "      <td>0.055479</td>\n",
              "      <td>0.055479</td>\n",
              "      <td>0.0</td>\n",
              "      <td>0.0</td>\n",
              "      <td>0.0</td>\n",
              "      <td>0.0</td>\n",
              "      <td>0.0</td>\n",
              "      <td>0.0</td>\n",
              "      <td>0.0</td>\n",
              "      <td>0.995205</td>\n",
              "      <td>0.807534</td>\n",
              "      <td>0.963014</td>\n",
              "      <td>0.0</td>\n",
              "      <td>0.0</td>\n",
              "      <td>0.0</td>\n",
              "      <td>0.0</td>\n",
              "      <td>0.0</td>\n",
              "      <td>0.0</td>\n",
              "    </tr>\n",
              "  </tbody>\n",
              "</table>\n",
              "</div>\n",
              "      <button class=\"colab-df-convert\" onclick=\"convertToInteractive('df-5e80c8d3-d79c-41c3-b7e2-41a9c675121f')\"\n",
              "              title=\"Convert this dataframe to an interactive table.\"\n",
              "              style=\"display:none;\">\n",
              "        \n",
              "  <svg xmlns=\"http://www.w3.org/2000/svg\" height=\"24px\"viewBox=\"0 0 24 24\"\n",
              "       width=\"24px\">\n",
              "    <path d=\"M0 0h24v24H0V0z\" fill=\"none\"/>\n",
              "    <path d=\"M18.56 5.44l.94 2.06.94-2.06 2.06-.94-2.06-.94-.94-2.06-.94 2.06-2.06.94zm-11 1L8.5 8.5l.94-2.06 2.06-.94-2.06-.94L8.5 2.5l-.94 2.06-2.06.94zm10 10l.94 2.06.94-2.06 2.06-.94-2.06-.94-.94-2.06-.94 2.06-2.06.94z\"/><path d=\"M17.41 7.96l-1.37-1.37c-.4-.4-.92-.59-1.43-.59-.52 0-1.04.2-1.43.59L10.3 9.45l-7.72 7.72c-.78.78-.78 2.05 0 2.83L4 21.41c.39.39.9.59 1.41.59.51 0 1.02-.2 1.41-.59l7.78-7.78 2.81-2.81c.8-.78.8-2.07 0-2.86zM5.41 20L4 18.59l7.72-7.72 1.47 1.35L5.41 20z\"/>\n",
              "  </svg>\n",
              "      </button>\n",
              "      \n",
              "  <style>\n",
              "    .colab-df-container {\n",
              "      display:flex;\n",
              "      flex-wrap:wrap;\n",
              "      gap: 12px;\n",
              "    }\n",
              "\n",
              "    .colab-df-convert {\n",
              "      background-color: #E8F0FE;\n",
              "      border: none;\n",
              "      border-radius: 50%;\n",
              "      cursor: pointer;\n",
              "      display: none;\n",
              "      fill: #1967D2;\n",
              "      height: 32px;\n",
              "      padding: 0 0 0 0;\n",
              "      width: 32px;\n",
              "    }\n",
              "\n",
              "    .colab-df-convert:hover {\n",
              "      background-color: #E2EBFA;\n",
              "      box-shadow: 0px 1px 2px rgba(60, 64, 67, 0.3), 0px 1px 3px 1px rgba(60, 64, 67, 0.15);\n",
              "      fill: #174EA6;\n",
              "    }\n",
              "\n",
              "    [theme=dark] .colab-df-convert {\n",
              "      background-color: #3B4455;\n",
              "      fill: #D2E3FC;\n",
              "    }\n",
              "\n",
              "    [theme=dark] .colab-df-convert:hover {\n",
              "      background-color: #434B5C;\n",
              "      box-shadow: 0px 1px 3px 1px rgba(0, 0, 0, 0.15);\n",
              "      filter: drop-shadow(0px 1px 2px rgba(0, 0, 0, 0.3));\n",
              "      fill: #FFFFFF;\n",
              "    }\n",
              "  </style>\n",
              "\n",
              "      <script>\n",
              "        const buttonEl =\n",
              "          document.querySelector('#df-5e80c8d3-d79c-41c3-b7e2-41a9c675121f button.colab-df-convert');\n",
              "        buttonEl.style.display =\n",
              "          google.colab.kernel.accessAllowed ? 'block' : 'none';\n",
              "\n",
              "        async function convertToInteractive(key) {\n",
              "          const element = document.querySelector('#df-5e80c8d3-d79c-41c3-b7e2-41a9c675121f');\n",
              "          const dataTable =\n",
              "            await google.colab.kernel.invokeFunction('convertToInteractive',\n",
              "                                                     [key], {});\n",
              "          if (!dataTable) return;\n",
              "\n",
              "          const docLinkHtml = 'Like what you see? Visit the ' +\n",
              "            '<a target=\"_blank\" href=https://colab.research.google.com/notebooks/data_table.ipynb>data table notebook</a>'\n",
              "            + ' to learn more about interactive tables.';\n",
              "          element.innerHTML = '';\n",
              "          dataTable['output_type'] = 'display_data';\n",
              "          await google.colab.output.renderOutput(dataTable, element);\n",
              "          const docLink = document.createElement('div');\n",
              "          docLink.innerHTML = docLinkHtml;\n",
              "          element.appendChild(docLink);\n",
              "        }\n",
              "      </script>\n",
              "    </div>\n",
              "  </div>\n",
              "  "
            ],
            "text/plain": [
              "   MSSubClass  MSZoning  LotFrontage  LotArea  Street     Alley  LotShape  \\\n",
              "0         0.0       0.0     0.177397      0.0     0.0  0.937671       0.0   \n",
              "\n",
              "   LandContour  Utilities  LotConfig  LandSlope  Neighborhood  Condition1  \\\n",
              "0          0.0        0.0        0.0        0.0           0.0         0.0   \n",
              "\n",
              "   Condition2  BldgType  HouseStyle  OverallQual  OverallCond  YearBuilt  \\\n",
              "0         0.0       0.0         0.0          0.0          0.0        0.0   \n",
              "\n",
              "   YearRemodAdd  RoofStyle  RoofMatl  Exterior1st  Exterior2nd  MasVnrType  \\\n",
              "0           0.0        0.0       0.0          0.0          0.0    0.005479   \n",
              "\n",
              "   MasVnrArea  ExterQual  ExterCond  Foundation  BsmtQual  BsmtCond  \\\n",
              "0    0.005479        0.0        0.0         0.0  0.025342  0.025342   \n",
              "\n",
              "   BsmtExposure  BsmtFinType1  BsmtFinSF1  BsmtFinType2  BsmtFinSF2  \\\n",
              "0      0.026027      0.025342         0.0      0.026027         0.0   \n",
              "\n",
              "   BsmtUnfSF  TotalBsmtSF  Heating  HeatingQC  CentralAir  Electrical  \\\n",
              "0        0.0          0.0      0.0        0.0         0.0    0.000685   \n",
              "\n",
              "   1stFlrSF  2ndFlrSF  LowQualFinSF  GrLivArea  BsmtFullBath  BsmtHalfBath  \\\n",
              "0       0.0       0.0           0.0        0.0           0.0           0.0   \n",
              "\n",
              "   FullBath  HalfBath  BedroomAbvGr  KitchenAbvGr  KitchenQual  TotRmsAbvGrd  \\\n",
              "0       0.0       0.0           0.0           0.0          0.0           0.0   \n",
              "\n",
              "   Functional  Fireplaces  FireplaceQu  GarageType  GarageYrBlt  GarageFinish  \\\n",
              "0         0.0         0.0     0.472603    0.055479     0.055479      0.055479   \n",
              "\n",
              "   GarageCars  GarageArea  GarageQual  GarageCond  PavedDrive  WoodDeckSF  \\\n",
              "0         0.0         0.0    0.055479    0.055479         0.0         0.0   \n",
              "\n",
              "   OpenPorchSF  EnclosedPorch  3SsnPorch  ScreenPorch  PoolArea    PoolQC  \\\n",
              "0          0.0            0.0        0.0          0.0       0.0  0.995205   \n",
              "\n",
              "      Fence  MiscFeature  MiscVal  MoSold  YrSold  SaleType  SaleCondition  \\\n",
              "0  0.807534     0.963014      0.0     0.0     0.0       0.0            0.0   \n",
              "\n",
              "   SalePrice  \n",
              "0        0.0  "
            ]
          },
          "metadata": {},
          "execution_count": 6
        }
      ]
    },
    {
      "cell_type": "markdown",
      "source": [
        "NA Data with more than 20%:\n",
        "1. Alley\n",
        "2. PoolQC\n",
        "3. FireplaceQu\n",
        "4. Fence\n",
        "5. MiscFeature"
      ],
      "metadata": {
        "id": "tVVFkug_uw_k"
      }
    },
    {
      "cell_type": "markdown",
      "source": [
        "Let's see the description on each category:\n",
        "1. Alley - Type of alley access\n",
        "2. PoolQC - Pool quality\n",
        "3. FireplaceQu - Fireplace Quality\n",
        "4. Fence - Fence quality \n",
        "5. MiscFeature - $Value of miscellaneous feature"
      ],
      "metadata": {
        "id": "NBesthx_wR0c"
      }
    },
    {
      "cell_type": "markdown",
      "source": [
        "We can deduce that these columns aren't as common as the other ones:\n",
        "1. Alley - this is not as common as 'Street'. Most house will have Street type but not necessarily alley\n",
        "2. PoolQC - this is even rarer. The Pool part, which is also included in column, will contain 0 instead of NA if there is no pool\n",
        "3. FireplaceQu - this is the same as PoolQC, although it's not as rare as pool\n",
        "4. Fence - We have no data if fence is 'existing' or not, so we'll deduct that it is the same as other quality marks\n",
        "5. MiscFeature - We can deduce that this is valued 0 if there's no misc. feature"
      ],
      "metadata": {
        "id": "zm3i1UgCyZ9Y"
      }
    },
    {
      "cell_type": "markdown",
      "source": [
        "So to replace the missing values, we can use 0/NA to all as they simply marked the non-existent things"
      ],
      "metadata": {
        "id": "CuCPoOIGzm1C"
      }
    },
    {
      "cell_type": "markdown",
      "source": [
        "## EDA"
      ],
      "metadata": {
        "id": "3zYgkMMn2-nz"
      }
    },
    {
      "cell_type": "markdown",
      "source": [
        "As note, we'll do the splitting early to "
      ],
      "metadata": {
        "id": "NGavmBYs-oCE"
      }
    },
    {
      "cell_type": "code",
      "source": [
        "train_data.hist(bins=50, figsize=(24,12))\n",
        "plt.show()"
      ],
      "metadata": {
        "colab": {
          "base_uri": "https://localhost:8080/",
          "height": 491
        },
        "id": "60QZuFlH9fkj",
        "outputId": "08212bac-00f0-4b99-9630-16e1e4fe65a3"
      },
      "execution_count": null,
      "outputs": [
        {
          "output_type": "display_data",
          "data": {
            "image/png": "[encoded data removed]",
            "text/plain": [
              "<Figure size 1728x864 with 42 Axes>"
            ]
          },
          "metadata": {
            "needs_background": "light"
          }
        }
      ]
    },
    {
      "cell_type": "markdown",
      "source": [
        "Lots of skewed data, meaning that we will use median in case of imputing null data"
      ],
      "metadata": {
        "id": "BblP2ubgZaET"
      }
    },
    {
      "cell_type": "markdown",
      "source": [
        "## Pipeline Definition"
      ],
      "metadata": {
        "id": "H5I_sFrt3Ajz"
      }
    },
    {
      "cell_type": "code",
      "source": [
        "X = train_data.drop(columns='SalePrice')\n",
        "y = train_data['SalePrice']\n",
        "X_train, X_test, y_train, y_test = train_test_split(X, y, test_size = 0.2, random_state=42)"
      ],
      "metadata": {
        "id": "HZ48vK4f_enQ"
      },
      "execution_count": null,
      "outputs": []
    },
    {
      "cell_type": "code",
      "source": [
        "house_num = X_train.select_dtypes(include=[np.number])\n",
        "house_cat = X_train.drop(columns=house_num.columns.tolist())"
      ],
      "metadata": {
        "id": "HzZhcO-_1PMS"
      },
      "execution_count": null,
      "outputs": []
    },
    {
      "cell_type": "markdown",
      "source": [
        "Since we use tree-based models, we'll be using Ordinal Encoder for categorical data. To make sure that we handle unknown data correctly, we'll see how much unique values on each our categorical data have:"
      ],
      "metadata": {
        "id": "wuFp9igL66HA"
      }
    },
    {
      "cell_type": "code",
      "source": [
        "for col in house_cat:\n",
        "    print(f'{col}: ', house_cat[col].nunique())"
      ],
      "metadata": {
        "colab": {
          "base_uri": "https://localhost:8080/"
        },
        "id": "nWlanPve6r8g",
        "outputId": "983d61d9-efa3-49cb-eab0-36498eecc42a"
      },
      "execution_count": null,
      "outputs": [
        {
          "output_type": "stream",
          "name": "stdout",
          "text": [
            "MSZoning:  5\n",
            "Street:  2\n",
            "Alley:  2\n",
            "LotShape:  4\n",
            "LandContour:  4\n",
            "Utilities:  2\n",
            "LotConfig:  5\n",
            "LandSlope:  3\n",
            "Neighborhood:  25\n",
            "Condition1:  9\n",
            "Condition2:  8\n",
            "BldgType:  5\n",
            "HouseStyle:  8\n",
            "RoofStyle:  6\n",
            "RoofMatl:  7\n",
            "Exterior1st:  15\n",
            "Exterior2nd:  16\n",
            "MasVnrType:  4\n",
            "ExterQual:  4\n",
            "ExterCond:  5\n",
            "Foundation:  6\n",
            "BsmtQual:  4\n",
            "BsmtCond:  4\n",
            "BsmtExposure:  4\n",
            "BsmtFinType1:  6\n",
            "BsmtFinType2:  6\n",
            "Heating:  6\n",
            "HeatingQC:  5\n",
            "CentralAir:  2\n",
            "Electrical:  4\n",
            "KitchenQual:  4\n",
            "Functional:  7\n",
            "FireplaceQu:  5\n",
            "GarageType:  6\n",
            "GarageFinish:  3\n",
            "GarageQual:  5\n",
            "GarageCond:  5\n",
            "PavedDrive:  3\n",
            "PoolQC:  3\n",
            "Fence:  4\n",
            "MiscFeature:  4\n",
            "SaleType:  9\n",
            "SaleCondition:  6\n"
          ]
        }
      ]
    },
    {
      "cell_type": "markdown",
      "source": [
        "A maximum of 25 category in Neighborhood. That means if we find unknown value in the test set, we want to encode it to 26 so that it doesn't incur the error"
      ],
      "metadata": {
        "id": "TYxXWNvm7txF"
      }
    },
    {
      "cell_type": "code",
      "source": [
        "house_cat['Neighborhood'].isnull().sum()"
      ],
      "metadata": {
        "colab": {
          "base_uri": "https://localhost:8080/"
        },
        "id": "c4pOGzIN7lmZ",
        "outputId": "321c617a-f49b-40f5-a8ba-672347d8a3e5"
      },
      "execution_count": null,
      "outputs": [
        {
          "output_type": "execute_result",
          "data": {
            "text/plain": [
              "0"
            ]
          },
          "metadata": {},
          "execution_count": 11
        }
      ]
    },
    {
      "cell_type": "markdown",
      "source": [
        "We wanted to label missing value as 'NA'. Since Neighborhood doesn't contain any null data, our OrdinalEncoder will still be handling unknown value with label 26"
      ],
      "metadata": {
        "id": "qe8NUEu17Igg"
      }
    },
    {
      "cell_type": "code",
      "source": [
        "cat_imputer = SimpleImputer(strategy=\"constant\", fill_value='NA')\n",
        "ord_enc = OrdinalEncoder(handle_unknown = 'use_encoded_value', unknown_value = 26)\n",
        "cat_imputer.fit(house_cat)\n",
        "ord_enc.fit(house_cat)\n"
      ],
      "metadata": {
        "colab": {
          "base_uri": "https://localhost:8080/"
        },
        "id": "bx9i_Zxb42c8",
        "outputId": "79e16920-6bd5-4e9a-869a-91ffa08ed6a2"
      },
      "execution_count": null,
      "outputs": [
        {
          "output_type": "execute_result",
          "data": {
            "text/plain": [
              "OrdinalEncoder(handle_unknown='use_encoded_value', unknown_value=26)"
            ]
          },
          "metadata": {},
          "execution_count": 12
        }
      ]
    },
    {
      "cell_type": "code",
      "source": [
        "cat_pipeline = Pipeline([(\"cat_im\", cat_imputer),\n",
        "                         (\"ord_enc\", ord_enc),\n",
        "                        ])"
      ],
      "metadata": {
        "id": "T7PgjfeUDuhb"
      },
      "execution_count": null,
      "outputs": []
    },
    {
      "cell_type": "markdown",
      "source": [
        "Now for the numerical data.\n",
        "\n",
        "Since we are using tree-based model, there's no need for outlier handling. Also no need to do the scaling\n",
        "\n",
        "There wasn't any significant null (20% or more) from numerical value, so we'll use median for the imputer since most of our data are skewed"
      ],
      "metadata": {
        "id": "yfME2Wit8PD6"
      }
    },
    {
      "cell_type": "code",
      "source": [
        "num_imputer = SimpleImputer(strategy='median')\n",
        "num_imputer.fit(house_num)"
      ],
      "metadata": {
        "colab": {
          "base_uri": "https://localhost:8080/"
        },
        "id": "xYjqsjVVABu_",
        "outputId": "85608b38-facb-49ca-e2cb-886ca0818ae8"
      },
      "execution_count": null,
      "outputs": [
        {
          "output_type": "execute_result",
          "data": {
            "text/plain": [
              "SimpleImputer(strategy='median')"
            ]
          },
          "metadata": {},
          "execution_count": 14
        }
      ]
    },
    {
      "cell_type": "code",
      "source": [
        "num_pipeline = Pipeline([(\"num_im\", num_imputer)])"
      ],
      "metadata": {
        "id": "00nZjRqK8bAi"
      },
      "execution_count": null,
      "outputs": []
    },
    {
      "cell_type": "markdown",
      "source": [
        "Now we define the full preprocess pipeline"
      ],
      "metadata": {
        "id": "RBAs9SBOFXK5"
      }
    },
    {
      "cell_type": "code",
      "source": [
        "num_attribs = list(house_num)\n",
        "cat_attribs = list(house_cat)\n",
        "\n",
        "full_prep = ColumnTransformer([\n",
        "        (\"num\", num_pipeline, num_attribs),\n",
        "        (\"cat\", cat_pipeline, cat_attribs),\n",
        "    ])"
      ],
      "metadata": {
        "id": "Cq9D9hOi1Ecl"
      },
      "execution_count": null,
      "outputs": []
    },
    {
      "cell_type": "markdown",
      "source": [
        "## Baseline Model (Imputed-Encoded) Check"
      ],
      "metadata": {
        "id": "rpsfVajk3H1Q"
      }
    },
    {
      "cell_type": "code",
      "source": [
        "rfr_base = Pipeline([('preprocess', full_prep),\n",
        "                     ('rfr', RandomForestRegressor(random_state=42))\n",
        "                    ])"
      ],
      "metadata": {
        "id": "rcWi6g8sEHCx"
      },
      "execution_count": null,
      "outputs": []
    },
    {
      "cell_type": "code",
      "source": [
        "rfr_base.fit(X_train, y_train)"
      ],
      "metadata": {
        "colab": {
          "base_uri": "https://localhost:8080/"
        },
        "id": "Fvij7uZyE65t",
        "outputId": "32bb4398-7e8b-4cbb-feab-42dc2b6456ab"
      },
      "execution_count": null,
      "outputs": [
        {
          "output_type": "execute_result",
          "data": {
            "text/plain": [
              "Pipeline(steps=[('preprocess',\n",
              "                 ColumnTransformer(transformers=[('num',\n",
              "                                                  Pipeline(steps=[('num_im',\n",
              "                                                                   SimpleImputer(strategy='median'))]),\n",
              "                                                  ['MSSubClass', 'LotFrontage',\n",
              "                                                   'LotArea', 'OverallQual',\n",
              "                                                   'OverallCond', 'YearBuilt',\n",
              "                                                   'YearRemodAdd', 'MasVnrArea',\n",
              "                                                   'BsmtFinSF1', 'BsmtFinSF2',\n",
              "                                                   'BsmtUnfSF', 'TotalBsmtSF',\n",
              "                                                   '1stFlrSF', '2ndFlrSF',\n",
              "                                                   'LowQualFinSF', 'GrLivArea',\n",
              "                                                   'BsmtFullBat...\n",
              "                                                   'LotConfig', 'LandSlope',\n",
              "                                                   'Neighborhood', 'Condition1',\n",
              "                                                   'Condition2', 'BldgType',\n",
              "                                                   'HouseStyle', 'RoofStyle',\n",
              "                                                   'RoofMatl', 'Exterior1st',\n",
              "                                                   'Exterior2nd', 'MasVnrType',\n",
              "                                                   'ExterQual', 'ExterCond',\n",
              "                                                   'Foundation', 'BsmtQual',\n",
              "                                                   'BsmtCond', 'BsmtExposure',\n",
              "                                                   'BsmtFinType1',\n",
              "                                                   'BsmtFinType2', 'Heating',\n",
              "                                                   'HeatingQC', 'CentralAir',\n",
              "                                                   'Electrical', ...])])),\n",
              "                ('rfr', RandomForestRegressor(random_state=42))])"
            ]
          },
          "metadata": {},
          "execution_count": 18
        }
      ]
    },
    {
      "cell_type": "code",
      "source": [
        "y_pred_rfr_base = rfr_base.predict(X_test)\n",
        "print(mse(y_test, y_pred_rfr_base, squared=False))"
      ],
      "metadata": {
        "colab": {
          "base_uri": "https://localhost:8080/"
        },
        "id": "S-60kBKBF0Ck",
        "outputId": "3f6abd6c-977a-4558-f1a8-82e1aabd480b"
      },
      "execution_count": null,
      "outputs": [
        {
          "output_type": "stream",
          "name": "stdout",
          "text": [
            "28606.7736813092\n"
          ]
        }
      ]
    },
    {
      "cell_type": "markdown",
      "source": [
        "We got 28k in RMSE. To depict how much is this matters, let's see our actual data range"
      ],
      "metadata": {
        "id": "GGBhRwiGMYZ4"
      }
    },
    {
      "cell_type": "code",
      "source": [
        "print(f'Max: {y.max()}')\n",
        "print(f'Min: {y.min()}')\n",
        "print(f'Median: {y.median()}')\n"
      ],
      "metadata": {
        "colab": {
          "base_uri": "https://localhost:8080/"
        },
        "id": "RunHbk2cMXoo",
        "outputId": "9ca8ca4d-1734-478d-b858-99f8e59f8975"
      },
      "execution_count": null,
      "outputs": [
        {
          "output_type": "stream",
          "name": "stdout",
          "text": [
            "Max: 755000\n",
            "Min: 34900\n",
            "Median: 163000.0\n"
          ]
        }
      ]
    },
    {
      "cell_type": "markdown",
      "source": [
        "From our median, the RMSE is almost 20% off. Let's see if we can improve this"
      ],
      "metadata": {
        "id": "FVmrc8H-M679"
      }
    },
    {
      "cell_type": "markdown",
      "source": [
        "## Grid Search without Feature Engineering"
      ],
      "metadata": {
        "id": "cQpaDVZC3M1B"
      }
    },
    {
      "cell_type": "code",
      "source": [
        "%%time\n",
        "param_grid_rfr = [\n",
        "    {\n",
        "      'rfr__n_estimators': [50, 100, 200, 400],\n",
        "      'rfr__min_samples_split':[2, 4, 6]\n",
        "    }]\n",
        "\n",
        "grid_rfr = GridSearchCV(rfr_base, param_grid_rfr, cv=5, error_score='raise', \n",
        "                        scoring = 'neg_root_mean_squared_error', return_train_score = True, n_jobs=-1)\n",
        "grid_rfr.fit(X_train, y_train)"
      ],
      "metadata": {
        "colab": {
          "base_uri": "https://localhost:8080/"
        },
        "id": "F9N4uuIGLM_2",
        "outputId": "fe68179e-de0a-4aa1-ffcd-8cdc965eae5d"
      },
      "execution_count": null,
      "outputs": [
        {
          "output_type": "stream",
          "name": "stdout",
          "text": [
            "CPU times: user 3.21 s, sys: 184 ms, total: 3.39 s\n",
            "Wall time: 2min 10s\n"
          ]
        }
      ]
    },
    {
      "cell_type": "code",
      "source": [
        "base_res = pd.DataFrame(grid_rfr.cv_results_)\n",
        "base_res.sort_values(by=['rank_test_score']).head(5)"
      ],
      "metadata": {
        "colab": {
          "base_uri": "https://localhost:8080/",
          "height": 357
        },
        "id": "PM0GVPSPO2ax",
        "outputId": "33379997-9cd1-4dff-85f4-06888e8ade23"
      },
      "execution_count": null,
      "outputs": [
        {
          "output_type": "execute_result",
          "data": {
            "text/html": [
              "\n",
              "  <div id=\"df-5b3bf702-fdd9-48ce-a96b-92045b5acc89\">\n",
              "    <div class=\"colab-df-container\">\n",
              "      <div>\n",
              "<style scoped>\n",
              "    .dataframe tbody tr th:only-of-type {\n",
              "        vertical-align: middle;\n",
              "    }\n",
              "\n",
              "    .dataframe tbody tr th {\n",
              "        vertical-align: top;\n",
              "    }\n",
              "\n",
              "    .dataframe thead th {\n",
              "        text-align: right;\n",
              "    }\n",
              "</style>\n",
              "<table border=\"1\" class=\"dataframe\">\n",
              "  <thead>\n",
              "    <tr style=\"text-align: right;\">\n",
              "      <th></th>\n",
              "      <th>mean_fit_time</th>\n",
              "      <th>std_fit_time</th>\n",
              "      <th>mean_score_time</th>\n",
              "      <th>std_score_time</th>\n",
              "      <th>param_rfr__min_samples_split</th>\n",
              "      <th>param_rfr__n_estimators</th>\n",
              "      <th>params</th>\n",
              "      <th>split0_test_score</th>\n",
              "      <th>split1_test_score</th>\n",
              "      <th>split2_test_score</th>\n",
              "      <th>split3_test_score</th>\n",
              "      <th>split4_test_score</th>\n",
              "      <th>mean_test_score</th>\n",
              "      <th>std_test_score</th>\n",
              "      <th>rank_test_score</th>\n",
              "      <th>split0_train_score</th>\n",
              "      <th>split1_train_score</th>\n",
              "      <th>split2_train_score</th>\n",
              "      <th>split3_train_score</th>\n",
              "      <th>split4_train_score</th>\n",
              "      <th>mean_train_score</th>\n",
              "      <th>std_train_score</th>\n",
              "    </tr>\n",
              "  </thead>\n",
              "  <tbody>\n",
              "    <tr>\n",
              "      <th>9</th>\n",
              "      <td>1.845508</td>\n",
              "      <td>0.017784</td>\n",
              "      <td>0.041851</td>\n",
              "      <td>0.001329</td>\n",
              "      <td>6</td>\n",
              "      <td>100</td>\n",
              "      <td>{'rfr__min_samples_split': 6, 'rfr__n_estimato...</td>\n",
              "      <td>-28997.278798</td>\n",
              "      <td>-34617.966546</td>\n",
              "      <td>-37229.070542</td>\n",
              "      <td>-25077.281393</td>\n",
              "      <td>-25566.208269</td>\n",
              "      <td>-30297.561110</td>\n",
              "      <td>4858.795741</td>\n",
              "      <td>1</td>\n",
              "      <td>-13990.926165</td>\n",
              "      <td>-14353.693893</td>\n",
              "      <td>-12955.783694</td>\n",
              "      <td>-13945.117158</td>\n",
              "      <td>-14217.060707</td>\n",
              "      <td>-13892.516323</td>\n",
              "      <td>491.514633</td>\n",
              "    </tr>\n",
              "    <tr>\n",
              "      <th>3</th>\n",
              "      <td>8.872268</td>\n",
              "      <td>0.040316</td>\n",
              "      <td>0.109198</td>\n",
              "      <td>0.003682</td>\n",
              "      <td>2</td>\n",
              "      <td>400</td>\n",
              "      <td>{'rfr__min_samples_split': 2, 'rfr__n_estimato...</td>\n",
              "      <td>-28894.486013</td>\n",
              "      <td>-35743.594013</td>\n",
              "      <td>-36534.309022</td>\n",
              "      <td>-25197.250814</td>\n",
              "      <td>-25120.514950</td>\n",
              "      <td>-30298.030962</td>\n",
              "      <td>4966.686815</td>\n",
              "      <td>2</td>\n",
              "      <td>-11464.040148</td>\n",
              "      <td>-11151.204302</td>\n",
              "      <td>-11215.789468</td>\n",
              "      <td>-11818.808018</td>\n",
              "      <td>-11776.761041</td>\n",
              "      <td>-11485.320595</td>\n",
              "      <td>276.001804</td>\n",
              "    </tr>\n",
              "    <tr>\n",
              "      <th>11</th>\n",
              "      <td>7.118383</td>\n",
              "      <td>0.733633</td>\n",
              "      <td>0.091328</td>\n",
              "      <td>0.017756</td>\n",
              "      <td>6</td>\n",
              "      <td>400</td>\n",
              "      <td>{'rfr__min_samples_split': 6, 'rfr__n_estimato...</td>\n",
              "      <td>-29031.328417</td>\n",
              "      <td>-35227.717306</td>\n",
              "      <td>-36974.767302</td>\n",
              "      <td>-25198.643684</td>\n",
              "      <td>-25271.363151</td>\n",
              "      <td>-30340.763972</td>\n",
              "      <td>4934.514369</td>\n",
              "      <td>3</td>\n",
              "      <td>-13536.197300</td>\n",
              "      <td>-13712.523761</td>\n",
              "      <td>-13133.497332</td>\n",
              "      <td>-14086.568820</td>\n",
              "      <td>-14049.879745</td>\n",
              "      <td>-13703.733392</td>\n",
              "      <td>352.049723</td>\n",
              "    </tr>\n",
              "    <tr>\n",
              "      <th>10</th>\n",
              "      <td>3.632248</td>\n",
              "      <td>0.023002</td>\n",
              "      <td>0.057334</td>\n",
              "      <td>0.001334</td>\n",
              "      <td>6</td>\n",
              "      <td>200</td>\n",
              "      <td>{'rfr__min_samples_split': 6, 'rfr__n_estimato...</td>\n",
              "      <td>-28731.982963</td>\n",
              "      <td>-35180.004497</td>\n",
              "      <td>-37513.911786</td>\n",
              "      <td>-25003.138963</td>\n",
              "      <td>-25536.899767</td>\n",
              "      <td>-30393.187595</td>\n",
              "      <td>5079.647342</td>\n",
              "      <td>4</td>\n",
              "      <td>-13543.148051</td>\n",
              "      <td>-13832.309497</td>\n",
              "      <td>-13106.800432</td>\n",
              "      <td>-13999.820408</td>\n",
              "      <td>-14118.673086</td>\n",
              "      <td>-13720.150295</td>\n",
              "      <td>362.530915</td>\n",
              "    </tr>\n",
              "    <tr>\n",
              "      <th>7</th>\n",
              "      <td>7.798891</td>\n",
              "      <td>0.043214</td>\n",
              "      <td>0.109155</td>\n",
              "      <td>0.011221</td>\n",
              "      <td>4</td>\n",
              "      <td>400</td>\n",
              "      <td>{'rfr__min_samples_split': 4, 'rfr__n_estimato...</td>\n",
              "      <td>-29256.936715</td>\n",
              "      <td>-35498.710081</td>\n",
              "      <td>-36922.413960</td>\n",
              "      <td>-25481.159501</td>\n",
              "      <td>-25225.418812</td>\n",
              "      <td>-30476.927814</td>\n",
              "      <td>4915.018106</td>\n",
              "      <td>5</td>\n",
              "      <td>-12346.964753</td>\n",
              "      <td>-12384.191522</td>\n",
              "      <td>-12206.267806</td>\n",
              "      <td>-13088.005676</td>\n",
              "      <td>-12728.831774</td>\n",
              "      <td>-12550.852306</td>\n",
              "      <td>318.840042</td>\n",
              "    </tr>\n",
              "  </tbody>\n",
              "</table>\n",
              "</div>\n",
              "      <button class=\"colab-df-convert\" onclick=\"convertToInteractive('df-5b3bf702-fdd9-48ce-a96b-92045b5acc89')\"\n",
              "              title=\"Convert this dataframe to an interactive table.\"\n",
              "              style=\"display:none;\">\n",
              "        \n",
              "  <svg xmlns=\"http://www.w3.org/2000/svg\" height=\"24px\"viewBox=\"0 0 24 24\"\n",
              "       width=\"24px\">\n",
              "    <path d=\"M0 0h24v24H0V0z\" fill=\"none\"/>\n",
              "    <path d=\"M18.56 5.44l.94 2.06.94-2.06 2.06-.94-2.06-.94-.94-2.06-.94 2.06-2.06.94zm-11 1L8.5 8.5l.94-2.06 2.06-.94-2.06-.94L8.5 2.5l-.94 2.06-2.06.94zm10 10l.94 2.06.94-2.06 2.06-.94-2.06-.94-.94-2.06-.94 2.06-2.06.94z\"/><path d=\"M17.41 7.96l-1.37-1.37c-.4-.4-.92-.59-1.43-.59-.52 0-1.04.2-1.43.59L10.3 9.45l-7.72 7.72c-.78.78-.78 2.05 0 2.83L4 21.41c.39.39.9.59 1.41.59.51 0 1.02-.2 1.41-.59l7.78-7.78 2.81-2.81c.8-.78.8-2.07 0-2.86zM5.41 20L4 18.59l7.72-7.72 1.47 1.35L5.41 20z\"/>\n",
              "  </svg>\n",
              "      </button>\n",
              "      \n",
              "  <style>\n",
              "    .colab-df-container {\n",
              "      display:flex;\n",
              "      flex-wrap:wrap;\n",
              "      gap: 12px;\n",
              "    }\n",
              "\n",
              "    .colab-df-convert {\n",
              "      background-color: #E8F0FE;\n",
              "      border: none;\n",
              "      border-radius: 50%;\n",
              "      cursor: pointer;\n",
              "      display: none;\n",
              "      fill: #1967D2;\n",
              "      height: 32px;\n",
              "      padding: 0 0 0 0;\n",
              "      width: 32px;\n",
              "    }\n",
              "\n",
              "    .colab-df-convert:hover {\n",
              "      background-color: #E2EBFA;\n",
              "      box-shadow: 0px 1px 2px rgba(60, 64, 67, 0.3), 0px 1px 3px 1px rgba(60, 64, 67, 0.15);\n",
              "      fill: #174EA6;\n",
              "    }\n",
              "\n",
              "    [theme=dark] .colab-df-convert {\n",
              "      background-color: #3B4455;\n",
              "      fill: #D2E3FC;\n",
              "    }\n",
              "\n",
              "    [theme=dark] .colab-df-convert:hover {\n",
              "      background-color: #434B5C;\n",
              "      box-shadow: 0px 1px 3px 1px rgba(0, 0, 0, 0.15);\n",
              "      filter: drop-shadow(0px 1px 2px rgba(0, 0, 0, 0.3));\n",
              "      fill: #FFFFFF;\n",
              "    }\n",
              "  </style>\n",
              "\n",
              "      <script>\n",
              "        const buttonEl =\n",
              "          document.querySelector('#df-5b3bf702-fdd9-48ce-a96b-92045b5acc89 button.colab-df-convert');\n",
              "        buttonEl.style.display =\n",
              "          google.colab.kernel.accessAllowed ? 'block' : 'none';\n",
              "\n",
              "        async function convertToInteractive(key) {\n",
              "          const element = document.querySelector('#df-5b3bf702-fdd9-48ce-a96b-92045b5acc89');\n",
              "          const dataTable =\n",
              "            await google.colab.kernel.invokeFunction('convertToInteractive',\n",
              "                                                     [key], {});\n",
              "          if (!dataTable) return;\n",
              "\n",
              "          const docLinkHtml = 'Like what you see? Visit the ' +\n",
              "            '<a target=\"_blank\" href=https://colab.research.google.com/notebooks/data_table.ipynb>data table notebook</a>'\n",
              "            + ' to learn more about interactive tables.';\n",
              "          element.innerHTML = '';\n",
              "          dataTable['output_type'] = 'display_data';\n",
              "          await google.colab.output.renderOutput(dataTable, element);\n",
              "          const docLink = document.createElement('div');\n",
              "          docLink.innerHTML = docLinkHtml;\n",
              "          element.appendChild(docLink);\n",
              "        }\n",
              "      </script>\n",
              "    </div>\n",
              "  </div>\n",
              "  "
            ],
            "text/plain": [
              "    mean_fit_time  std_fit_time  mean_score_time  std_score_time  \\\n",
              "9        1.845508      0.017784         0.041851        0.001329   \n",
              "3        8.872268      0.040316         0.109198        0.003682   \n",
              "11       7.118383      0.733633         0.091328        0.017756   \n",
              "10       3.632248      0.023002         0.057334        0.001334   \n",
              "7        7.798891      0.043214         0.109155        0.011221   \n",
              "\n",
              "   param_rfr__min_samples_split param_rfr__n_estimators  \\\n",
              "9                             6                     100   \n",
              "3                             2                     400   \n",
              "11                            6                     400   \n",
              "10                            6                     200   \n",
              "7                             4                     400   \n",
              "\n",
              "                                               params  split0_test_score  \\\n",
              "9   {'rfr__min_samples_split': 6, 'rfr__n_estimato...      -28997.278798   \n",
              "3   {'rfr__min_samples_split': 2, 'rfr__n_estimato...      -28894.486013   \n",
              "11  {'rfr__min_samples_split': 6, 'rfr__n_estimato...      -29031.328417   \n",
              "10  {'rfr__min_samples_split': 6, 'rfr__n_estimato...      -28731.982963   \n",
              "7   {'rfr__min_samples_split': 4, 'rfr__n_estimato...      -29256.936715   \n",
              "\n",
              "    split1_test_score  split2_test_score  split3_test_score  \\\n",
              "9       -34617.966546      -37229.070542      -25077.281393   \n",
              "3       -35743.594013      -36534.309022      -25197.250814   \n",
              "11      -35227.717306      -36974.767302      -25198.643684   \n",
              "10      -35180.004497      -37513.911786      -25003.138963   \n",
              "7       -35498.710081      -36922.413960      -25481.159501   \n",
              "\n",
              "    split4_test_score  mean_test_score  std_test_score  rank_test_score  \\\n",
              "9       -25566.208269    -30297.561110     4858.795741                1   \n",
              "3       -25120.514950    -30298.030962     4966.686815                2   \n",
              "11      -25271.363151    -30340.763972     4934.514369                3   \n",
              "10      -25536.899767    -30393.187595     5079.647342                4   \n",
              "7       -25225.418812    -30476.927814     4915.018106                5   \n",
              "\n",
              "    split0_train_score  split1_train_score  split2_train_score  \\\n",
              "9        -13990.926165       -14353.693893       -12955.783694   \n",
              "3        -11464.040148       -11151.204302       -11215.789468   \n",
              "11       -13536.197300       -13712.523761       -13133.497332   \n",
              "10       -13543.148051       -13832.309497       -13106.800432   \n",
              "7        -12346.964753       -12384.191522       -12206.267806   \n",
              "\n",
              "    split3_train_score  split4_train_score  mean_train_score  std_train_score  \n",
              "9        -13945.117158       -14217.060707     -13892.516323       491.514633  \n",
              "3        -11818.808018       -11776.761041     -11485.320595       276.001804  \n",
              "11       -14086.568820       -14049.879745     -13703.733392       352.049723  \n",
              "10       -13999.820408       -14118.673086     -13720.150295       362.530915  \n",
              "7        -13088.005676       -12728.831774     -12550.852306       318.840042  "
            ]
          },
          "metadata": {},
          "execution_count": 22
        }
      ]
    },
    {
      "cell_type": "code",
      "source": [
        "y_pred_grid = grid_rfr.predict(X_test)\n",
        "print(mse(y_test, y_pred_grid, squared=False))"
      ],
      "metadata": {
        "colab": {
          "base_uri": "https://localhost:8080/"
        },
        "id": "_cYCS72jNhlo",
        "outputId": "49a04988-07f9-4070-a0a5-30034eead099"
      },
      "execution_count": null,
      "outputs": [
        {
          "output_type": "stream",
          "name": "stdout",
          "text": [
            "28535.368416808105\n"
          ]
        }
      ]
    },
    {
      "cell_type": "markdown",
      "source": [
        "## Baseline Model WITH Feature Selection"
      ],
      "metadata": {
        "id": "gEix8CA13Yp8"
      }
    },
    {
      "cell_type": "markdown",
      "source": [
        "### RFE Feature Selection"
      ],
      "metadata": {
        "id": "oNVnw-583pLR"
      }
    },
    {
      "cell_type": "markdown",
      "source": [
        "Now we try to lower our dimension. We'll use RFE to help with our feature selection here. First, we'll check again how much features our data have"
      ],
      "metadata": {
        "id": "9IXgrrtmSsNl"
      }
    },
    {
      "cell_type": "code",
      "source": [
        "X_train.shape"
      ],
      "metadata": {
        "colab": {
          "base_uri": "https://localhost:8080/"
        },
        "id": "q7yYx-N9TZGQ",
        "outputId": "3d2382ea-fabd-4f6d-d31b-00e5cbf79f0b"
      },
      "execution_count": null,
      "outputs": [
        {
          "output_type": "execute_result",
          "data": {
            "text/plain": [
              "(1168, 79)"
            ]
          },
          "metadata": {},
          "execution_count": 24
        }
      ]
    },
    {
      "cell_type": "markdown",
      "source": [
        "We have 79 features. We'll try to reduce this features to 15 and 35 with 4 features to delete per step, then see which one is the best "
      ],
      "metadata": {
        "id": "ZLWUVleoTUTs"
      }
    },
    {
      "cell_type": "code",
      "source": [
        "rfe_selector_35 = RFE(estimator=RandomForestRegressor(random_state=42), n_features_to_select = 35, step = 4)\n",
        "rfr_base_rfe35 = Pipeline([('preprocess', full_prep),\n",
        "                         ('rfe', rfe_selector_35),\n",
        "                     ('rfr', RandomForestRegressor(random_state=42))\n",
        "                    ])\n",
        "rfr_base_rfe35.fit(X_train, y_train)"
      ],
      "metadata": {
        "colab": {
          "base_uri": "https://localhost:8080/"
        },
        "id": "iW1UNqPfVj6Q",
        "outputId": "1d2d9f7f-a44f-491c-e938-a160a1e2ac5d"
      },
      "execution_count": null,
      "outputs": [
        {
          "output_type": "execute_result",
          "data": {
            "text/plain": [
              "Pipeline(steps=[('preprocess',\n",
              "                 ColumnTransformer(transformers=[('num',\n",
              "                                                  Pipeline(steps=[('num_im',\n",
              "                                                                   SimpleImputer(strategy='median'))]),\n",
              "                                                  ['MSSubClass', 'LotFrontage',\n",
              "                                                   'LotArea', 'OverallQual',\n",
              "                                                   'OverallCond', 'YearBuilt',\n",
              "                                                   'YearRemodAdd', 'MasVnrArea',\n",
              "                                                   'BsmtFinSF1', 'BsmtFinSF2',\n",
              "                                                   'BsmtUnfSF', 'TotalBsmtSF',\n",
              "                                                   '1stFlrSF', '2ndFlrSF',\n",
              "                                                   'LowQualFinSF', 'GrLivArea',\n",
              "                                                   'BsmtFullBat...\n",
              "                                                   'RoofMatl', 'Exterior1st',\n",
              "                                                   'Exterior2nd', 'MasVnrType',\n",
              "                                                   'ExterQual', 'ExterCond',\n",
              "                                                   'Foundation', 'BsmtQual',\n",
              "                                                   'BsmtCond', 'BsmtExposure',\n",
              "                                                   'BsmtFinType1',\n",
              "                                                   'BsmtFinType2', 'Heating',\n",
              "                                                   'HeatingQC', 'CentralAir',\n",
              "                                                   'Electrical', ...])])),\n",
              "                ('rfe',\n",
              "                 RFE(estimator=RandomForestRegressor(random_state=42),\n",
              "                     n_features_to_select=35, step=4)),\n",
              "                ('rfr', RandomForestRegressor(random_state=42))])"
            ]
          },
          "metadata": {},
          "execution_count": 25
        }
      ]
    },
    {
      "cell_type": "code",
      "source": [
        "y_pred_rfr_rfe35 = rfr_base_rfe35.predict(X_test)\n",
        "print(mse(y_test, y_pred_rfr_rfe35, squared=False))"
      ],
      "metadata": {
        "colab": {
          "base_uri": "https://localhost:8080/"
        },
        "id": "qlJ0N58SSng8",
        "outputId": "7a779582-9ef0-47df-d51f-fb53b5298496"
      },
      "execution_count": null,
      "outputs": [
        {
          "output_type": "stream",
          "name": "stdout",
          "text": [
            "28155.618531975517\n"
          ]
        }
      ]
    },
    {
      "cell_type": "code",
      "source": [
        "rfe_selector_35.ranking_"
      ],
      "metadata": {
        "colab": {
          "base_uri": "https://localhost:8080/"
        },
        "id": "24XKPc-6dnvx",
        "outputId": "380b8438-20d4-4bc9-a6e0-35a7b1c81981"
      },
      "execution_count": null,
      "outputs": [
        {
          "output_type": "execute_result",
          "data": {
            "text/plain": [
              "array([ 1,  1,  1,  1,  1,  1,  1,  1,  1,  8,  1,  1,  1,  1, 11,  1,  4,\n",
              "       10,  1,  5,  2,  6,  1,  1,  1,  1,  1,  1,  1,  6,  9,  1,  4, 12,\n",
              "        1,  2,  1, 12, 10,  1,  2, 12,  5,  5,  1,  6, 11,  9,  8,  3, 11,\n",
              "        3,  3,  4,  1,  9,  7,  1,  8,  1,  2,  7, 10,  5,  1, 10,  1,  7,\n",
              "        1,  1,  3,  4,  8,  9, 12,  6, 11,  7,  1])"
            ]
          },
          "metadata": {},
          "execution_count": 27
        }
      ]
    },
    {
      "cell_type": "code",
      "source": [
        "rfe_selector_15 = RFE(estimator=RandomForestRegressor(random_state=42), n_features_to_select = 15, step = 4)\n",
        "rfr_base_rfe15 = Pipeline([('preprocess', full_prep),\n",
        "                         ('rfe', rfe_selector_15),\n",
        "                     ('rfr', RandomForestRegressor(random_state=42))\n",
        "                    ])\n",
        "rfr_base_rfe15.fit(X_train, y_train)"
      ],
      "metadata": {
        "colab": {
          "base_uri": "https://localhost:8080/"
        },
        "id": "dCXgVMMsRtjK",
        "outputId": "a7bf7fee-0225-4ae0-db27-95085df892c3"
      },
      "execution_count": null,
      "outputs": [
        {
          "output_type": "execute_result",
          "data": {
            "text/plain": [
              "Pipeline(steps=[('preprocess',\n",
              "                 ColumnTransformer(transformers=[('num',\n",
              "                                                  Pipeline(steps=[('num_im',\n",
              "                                                                   SimpleImputer(strategy='median'))]),\n",
              "                                                  ['MSSubClass', 'LotFrontage',\n",
              "                                                   'LotArea', 'OverallQual',\n",
              "                                                   'OverallCond', 'YearBuilt',\n",
              "                                                   'YearRemodAdd', 'MasVnrArea',\n",
              "                                                   'BsmtFinSF1', 'BsmtFinSF2',\n",
              "                                                   'BsmtUnfSF', 'TotalBsmtSF',\n",
              "                                                   '1stFlrSF', '2ndFlrSF',\n",
              "                                                   'LowQualFinSF', 'GrLivArea',\n",
              "                                                   'BsmtFullBat...\n",
              "                                                   'RoofMatl', 'Exterior1st',\n",
              "                                                   'Exterior2nd', 'MasVnrType',\n",
              "                                                   'ExterQual', 'ExterCond',\n",
              "                                                   'Foundation', 'BsmtQual',\n",
              "                                                   'BsmtCond', 'BsmtExposure',\n",
              "                                                   'BsmtFinType1',\n",
              "                                                   'BsmtFinType2', 'Heating',\n",
              "                                                   'HeatingQC', 'CentralAir',\n",
              "                                                   'Electrical', ...])])),\n",
              "                ('rfe',\n",
              "                 RFE(estimator=RandomForestRegressor(random_state=42),\n",
              "                     n_features_to_select=15, step=4)),\n",
              "                ('rfr', RandomForestRegressor(random_state=42))])"
            ]
          },
          "metadata": {},
          "execution_count": 28
        }
      ]
    },
    {
      "cell_type": "code",
      "source": [
        "y_pred_rfr_rfe15 = rfr_base_rfe15.predict(X_test)\n",
        "print(mse(y_test, y_pred_rfr_rfe15, squared=False))"
      ],
      "metadata": {
        "colab": {
          "base_uri": "https://localhost:8080/"
        },
        "id": "rr6aaUvDVO0C",
        "outputId": "09fdb0c5-3080-4458-ed6f-f149692feb48"
      },
      "execution_count": null,
      "outputs": [
        {
          "output_type": "stream",
          "name": "stdout",
          "text": [
            "28174.611301733956\n"
          ]
        }
      ]
    },
    {
      "cell_type": "markdown",
      "source": [
        "## Grid Search WITH Feature Selection"
      ],
      "metadata": {
        "id": "8XOAnMtb3D9d"
      }
    },
    {
      "cell_type": "markdown",
      "source": [
        "### RFE Feature Selection"
      ],
      "metadata": {
        "id": "ru3RYP4Z31QE"
      }
    },
    {
      "cell_type": "markdown",
      "source": [
        "Now we'll do GridSearch and selecting features with RFE. "
      ],
      "metadata": {
        "id": "BZQpHxsUXTQg"
      }
    },
    {
      "cell_type": "code",
      "source": [
        "%%time \n",
        "#this code took about 23 minutes on Google Colab. Run with caution\n",
        "param_grid_rfr_rfe = [\n",
        "    {\n",
        "      'rfr__n_estimators': [100, 400],\n",
        "      'rfr__min_samples_split':[2, 6],\n",
        "      'rfe__n_features_to_select':[35, 23, 15, 7]\n",
        "    }]\n",
        "\n",
        "grid_rfr_rfe = GridSearchCV(rfr_base_rfe35, param_grid_rfr_rfe, cv=5, error_score='raise', \n",
        "                        scoring = 'neg_root_mean_squared_error', return_train_score = True, n_jobs=-1)\n",
        "grid_rfr_rfe.fit(X_train, y_train)"
      ],
      "metadata": {
        "colab": {
          "base_uri": "https://localhost:8080/"
        },
        "id": "U08YDjcOXa60",
        "outputId": "e5551e32-07a5-4c45-de4b-32779cce84c4"
      },
      "execution_count": null,
      "outputs": [
        {
          "output_type": "stream",
          "name": "stdout",
          "text": [
            "CPU times: user 30.7 s, sys: 949 ms, total: 31.7 s\n",
            "Wall time: 22min 6s\n"
          ]
        }
      ]
    },
    {
      "cell_type": "code",
      "source": [
        "gridfe_res = pd.DataFrame(grid_rfr_rfe.cv_results_)\n",
        "gridfe_res.sort_values(by=['rank_test_score']).head(5)"
      ],
      "metadata": {
        "colab": {
          "base_uri": "https://localhost:8080/",
          "height": 357
        },
        "id": "s5DYPRwt2dmo",
        "outputId": "1b4e6c70-53f4-468c-c7f6-8d3a1c4a4c20"
      },
      "execution_count": null,
      "outputs": [
        {
          "output_type": "execute_result",
          "data": {
            "text/html": [
              "\n",
              "  <div id=\"df-4f06dc5a-69cb-4bbf-a0cf-8af8569b6e24\">\n",
              "    <div class=\"colab-df-container\">\n",
              "      <div>\n",
              "<style scoped>\n",
              "    .dataframe tbody tr th:only-of-type {\n",
              "        vertical-align: middle;\n",
              "    }\n",
              "\n",
              "    .dataframe tbody tr th {\n",
              "        vertical-align: top;\n",
              "    }\n",
              "\n",
              "    .dataframe thead th {\n",
              "        text-align: right;\n",
              "    }\n",
              "</style>\n",
              "<table border=\"1\" class=\"dataframe\">\n",
              "  <thead>\n",
              "    <tr style=\"text-align: right;\">\n",
              "      <th></th>\n",
              "      <th>mean_fit_time</th>\n",
              "      <th>std_fit_time</th>\n",
              "      <th>mean_score_time</th>\n",
              "      <th>std_score_time</th>\n",
              "      <th>param_rfe__n_features_to_select</th>\n",
              "      <th>param_rfr__min_samples_split</th>\n",
              "      <th>param_rfr__n_estimators</th>\n",
              "      <th>params</th>\n",
              "      <th>split0_test_score</th>\n",
              "      <th>split1_test_score</th>\n",
              "      <th>split2_test_score</th>\n",
              "      <th>split3_test_score</th>\n",
              "      <th>split4_test_score</th>\n",
              "      <th>mean_test_score</th>\n",
              "      <th>std_test_score</th>\n",
              "      <th>rank_test_score</th>\n",
              "      <th>split0_train_score</th>\n",
              "      <th>split1_train_score</th>\n",
              "      <th>split2_train_score</th>\n",
              "      <th>split3_train_score</th>\n",
              "      <th>split4_train_score</th>\n",
              "      <th>mean_train_score</th>\n",
              "      <th>std_train_score</th>\n",
              "    </tr>\n",
              "  </thead>\n",
              "  <tbody>\n",
              "    <tr>\n",
              "      <th>0</th>\n",
              "      <td>26.494010</td>\n",
              "      <td>0.415788</td>\n",
              "      <td>0.047856</td>\n",
              "      <td>0.006460</td>\n",
              "      <td>35</td>\n",
              "      <td>2</td>\n",
              "      <td>100</td>\n",
              "      <td>{'rfe__n_features_to_select': 35, 'rfr__min_sa...</td>\n",
              "      <td>-27955.386444</td>\n",
              "      <td>-34837.582051</td>\n",
              "      <td>-37678.718094</td>\n",
              "      <td>-24825.848329</td>\n",
              "      <td>-25494.431999</td>\n",
              "      <td>-30158.393383</td>\n",
              "      <td>5167.047561</td>\n",
              "      <td>1</td>\n",
              "      <td>-11943.036763</td>\n",
              "      <td>-11914.777864</td>\n",
              "      <td>-11082.353407</td>\n",
              "      <td>-11921.424795</td>\n",
              "      <td>-12105.432270</td>\n",
              "      <td>-11793.405020</td>\n",
              "      <td>362.343894</td>\n",
              "    </tr>\n",
              "    <tr>\n",
              "      <th>1</th>\n",
              "      <td>31.615758</td>\n",
              "      <td>0.503190</td>\n",
              "      <td>0.110198</td>\n",
              "      <td>0.005287</td>\n",
              "      <td>35</td>\n",
              "      <td>2</td>\n",
              "      <td>400</td>\n",
              "      <td>{'rfe__n_features_to_select': 35, 'rfr__min_sa...</td>\n",
              "      <td>-28359.382943</td>\n",
              "      <td>-35875.103022</td>\n",
              "      <td>-36774.860159</td>\n",
              "      <td>-25127.156755</td>\n",
              "      <td>-25242.893783</td>\n",
              "      <td>-30275.879332</td>\n",
              "      <td>5081.364066</td>\n",
              "      <td>2</td>\n",
              "      <td>-11417.365452</td>\n",
              "      <td>-11162.446393</td>\n",
              "      <td>-11075.060306</td>\n",
              "      <td>-11735.802752</td>\n",
              "      <td>-11703.175166</td>\n",
              "      <td>-11418.770014</td>\n",
              "      <td>270.272523</td>\n",
              "    </tr>\n",
              "    <tr>\n",
              "      <th>3</th>\n",
              "      <td>29.849108</td>\n",
              "      <td>0.206390</td>\n",
              "      <td>0.103107</td>\n",
              "      <td>0.008451</td>\n",
              "      <td>35</td>\n",
              "      <td>6</td>\n",
              "      <td>400</td>\n",
              "      <td>{'rfe__n_features_to_select': 35, 'rfr__min_sa...</td>\n",
              "      <td>-29258.684269</td>\n",
              "      <td>-35069.869233</td>\n",
              "      <td>-37152.100556</td>\n",
              "      <td>-25238.430912</td>\n",
              "      <td>-25251.433795</td>\n",
              "      <td>-30394.103753</td>\n",
              "      <td>4936.608102</td>\n",
              "      <td>3</td>\n",
              "      <td>-13453.348134</td>\n",
              "      <td>-13684.020694</td>\n",
              "      <td>-13113.941427</td>\n",
              "      <td>-14169.729188</td>\n",
              "      <td>-14011.377321</td>\n",
              "      <td>-13686.483353</td>\n",
              "      <td>379.801259</td>\n",
              "    </tr>\n",
              "    <tr>\n",
              "      <th>11</th>\n",
              "      <td>34.960279</td>\n",
              "      <td>0.348312</td>\n",
              "      <td>0.103382</td>\n",
              "      <td>0.003495</td>\n",
              "      <td>15</td>\n",
              "      <td>6</td>\n",
              "      <td>400</td>\n",
              "      <td>{'rfe__n_features_to_select': 15, 'rfr__min_sa...</td>\n",
              "      <td>-26874.959089</td>\n",
              "      <td>-36913.100866</td>\n",
              "      <td>-35961.025177</td>\n",
              "      <td>-26104.661961</td>\n",
              "      <td>-26143.234698</td>\n",
              "      <td>-30399.396358</td>\n",
              "      <td>4946.541726</td>\n",
              "      <td>4</td>\n",
              "      <td>-14004.603410</td>\n",
              "      <td>-14027.506760</td>\n",
              "      <td>-13791.415121</td>\n",
              "      <td>-14336.927438</td>\n",
              "      <td>-14467.682408</td>\n",
              "      <td>-14125.627027</td>\n",
              "      <td>243.976084</td>\n",
              "    </tr>\n",
              "    <tr>\n",
              "      <th>6</th>\n",
              "      <td>30.004619</td>\n",
              "      <td>0.251357</td>\n",
              "      <td>0.041756</td>\n",
              "      <td>0.003080</td>\n",
              "      <td>23</td>\n",
              "      <td>6</td>\n",
              "      <td>100</td>\n",
              "      <td>{'rfe__n_features_to_select': 23, 'rfr__min_sa...</td>\n",
              "      <td>-29229.288335</td>\n",
              "      <td>-34808.285295</td>\n",
              "      <td>-36575.133183</td>\n",
              "      <td>-25354.257244</td>\n",
              "      <td>-26038.006697</td>\n",
              "      <td>-30400.994151</td>\n",
              "      <td>4548.017490</td>\n",
              "      <td>5</td>\n",
              "      <td>-14172.029359</td>\n",
              "      <td>-14377.274673</td>\n",
              "      <td>-13161.685239</td>\n",
              "      <td>-14350.657802</td>\n",
              "      <td>-14164.063726</td>\n",
              "      <td>-14045.142160</td>\n",
              "      <td>450.419947</td>\n",
              "    </tr>\n",
              "  </tbody>\n",
              "</table>\n",
              "</div>\n",
              "      <button class=\"colab-df-convert\" onclick=\"convertToInteractive('df-4f06dc5a-69cb-4bbf-a0cf-8af8569b6e24')\"\n",
              "              title=\"Convert this dataframe to an interactive table.\"\n",
              "              style=\"display:none;\">\n",
              "        \n",
              "  <svg xmlns=\"http://www.w3.org/2000/svg\" height=\"24px\"viewBox=\"0 0 24 24\"\n",
              "       width=\"24px\">\n",
              "    <path d=\"M0 0h24v24H0V0z\" fill=\"none\"/>\n",
              "    <path d=\"M18.56 5.44l.94 2.06.94-2.06 2.06-.94-2.06-.94-.94-2.06-.94 2.06-2.06.94zm-11 1L8.5 8.5l.94-2.06 2.06-.94-2.06-.94L8.5 2.5l-.94 2.06-2.06.94zm10 10l.94 2.06.94-2.06 2.06-.94-2.06-.94-.94-2.06-.94 2.06-2.06.94z\"/><path d=\"M17.41 7.96l-1.37-1.37c-.4-.4-.92-.59-1.43-.59-.52 0-1.04.2-1.43.59L10.3 9.45l-7.72 7.72c-.78.78-.78 2.05 0 2.83L4 21.41c.39.39.9.59 1.41.59.51 0 1.02-.2 1.41-.59l7.78-7.78 2.81-2.81c.8-.78.8-2.07 0-2.86zM5.41 20L4 18.59l7.72-7.72 1.47 1.35L5.41 20z\"/>\n",
              "  </svg>\n",
              "      </button>\n",
              "      \n",
              "  <style>\n",
              "    .colab-df-container {\n",
              "      display:flex;\n",
              "      flex-wrap:wrap;\n",
              "      gap: 12px;\n",
              "    }\n",
              "\n",
              "    .colab-df-convert {\n",
              "      background-color: #E8F0FE;\n",
              "      border: none;\n",
              "      border-radius: 50%;\n",
              "      cursor: pointer;\n",
              "      display: none;\n",
              "      fill: #1967D2;\n",
              "      height: 32px;\n",
              "      padding: 0 0 0 0;\n",
              "      width: 32px;\n",
              "    }\n",
              "\n",
              "    .colab-df-convert:hover {\n",
              "      background-color: #E2EBFA;\n",
              "      box-shadow: 0px 1px 2px rgba(60, 64, 67, 0.3), 0px 1px 3px 1px rgba(60, 64, 67, 0.15);\n",
              "      fill: #174EA6;\n",
              "    }\n",
              "\n",
              "    [theme=dark] .colab-df-convert {\n",
              "      background-color: #3B4455;\n",
              "      fill: #D2E3FC;\n",
              "    }\n",
              "\n",
              "    [theme=dark] .colab-df-convert:hover {\n",
              "      background-color: #434B5C;\n",
              "      box-shadow: 0px 1px 3px 1px rgba(0, 0, 0, 0.15);\n",
              "      filter: drop-shadow(0px 1px 2px rgba(0, 0, 0, 0.3));\n",
              "      fill: #FFFFFF;\n",
              "    }\n",
              "  </style>\n",
              "\n",
              "      <script>\n",
              "        const buttonEl =\n",
              "          document.querySelector('#df-4f06dc5a-69cb-4bbf-a0cf-8af8569b6e24 button.colab-df-convert');\n",
              "        buttonEl.style.display =\n",
              "          google.colab.kernel.accessAllowed ? 'block' : 'none';\n",
              "\n",
              "        async function convertToInteractive(key) {\n",
              "          const element = document.querySelector('#df-4f06dc5a-69cb-4bbf-a0cf-8af8569b6e24');\n",
              "          const dataTable =\n",
              "            await google.colab.kernel.invokeFunction('convertToInteractive',\n",
              "                                                     [key], {});\n",
              "          if (!dataTable) return;\n",
              "\n",
              "          const docLinkHtml = 'Like what you see? Visit the ' +\n",
              "            '<a target=\"_blank\" href=https://colab.research.google.com/notebooks/data_table.ipynb>data table notebook</a>'\n",
              "            + ' to learn more about interactive tables.';\n",
              "          element.innerHTML = '';\n",
              "          dataTable['output_type'] = 'display_data';\n",
              "          await google.colab.output.renderOutput(dataTable, element);\n",
              "          const docLink = document.createElement('div');\n",
              "          docLink.innerHTML = docLinkHtml;\n",
              "          element.appendChild(docLink);\n",
              "        }\n",
              "      </script>\n",
              "    </div>\n",
              "  </div>\n",
              "  "
            ],
            "text/plain": [
              "    mean_fit_time  std_fit_time  mean_score_time  std_score_time  \\\n",
              "0       26.494010      0.415788         0.047856        0.006460   \n",
              "1       31.615758      0.503190         0.110198        0.005287   \n",
              "3       29.849108      0.206390         0.103107        0.008451   \n",
              "11      34.960279      0.348312         0.103382        0.003495   \n",
              "6       30.004619      0.251357         0.041756        0.003080   \n",
              "\n",
              "   param_rfe__n_features_to_select param_rfr__min_samples_split  \\\n",
              "0                               35                            2   \n",
              "1                               35                            2   \n",
              "3                               35                            6   \n",
              "11                              15                            6   \n",
              "6                               23                            6   \n",
              "\n",
              "   param_rfr__n_estimators                                             params  \\\n",
              "0                      100  {'rfe__n_features_to_select': 35, 'rfr__min_sa...   \n",
              "1                      400  {'rfe__n_features_to_select': 35, 'rfr__min_sa...   \n",
              "3                      400  {'rfe__n_features_to_select': 35, 'rfr__min_sa...   \n",
              "11                     400  {'rfe__n_features_to_select': 15, 'rfr__min_sa...   \n",
              "6                      100  {'rfe__n_features_to_select': 23, 'rfr__min_sa...   \n",
              "\n",
              "    split0_test_score  split1_test_score  split2_test_score  \\\n",
              "0       -27955.386444      -34837.582051      -37678.718094   \n",
              "1       -28359.382943      -35875.103022      -36774.860159   \n",
              "3       -29258.684269      -35069.869233      -37152.100556   \n",
              "11      -26874.959089      -36913.100866      -35961.025177   \n",
              "6       -29229.288335      -34808.285295      -36575.133183   \n",
              "\n",
              "    split3_test_score  split4_test_score  mean_test_score  std_test_score  \\\n",
              "0       -24825.848329      -25494.431999    -30158.393383     5167.047561   \n",
              "1       -25127.156755      -25242.893783    -30275.879332     5081.364066   \n",
              "3       -25238.430912      -25251.433795    -30394.103753     4936.608102   \n",
              "11      -26104.661961      -26143.234698    -30399.396358     4946.541726   \n",
              "6       -25354.257244      -26038.006697    -30400.994151     4548.017490   \n",
              "\n",
              "    rank_test_score  split0_train_score  split1_train_score  \\\n",
              "0                 1       -11943.036763       -11914.777864   \n",
              "1                 2       -11417.365452       -11162.446393   \n",
              "3                 3       -13453.348134       -13684.020694   \n",
              "11                4       -14004.603410       -14027.506760   \n",
              "6                 5       -14172.029359       -14377.274673   \n",
              "\n",
              "    split2_train_score  split3_train_score  split4_train_score  \\\n",
              "0        -11082.353407       -11921.424795       -12105.432270   \n",
              "1        -11075.060306       -11735.802752       -11703.175166   \n",
              "3        -13113.941427       -14169.729188       -14011.377321   \n",
              "11       -13791.415121       -14336.927438       -14467.682408   \n",
              "6        -13161.685239       -14350.657802       -14164.063726   \n",
              "\n",
              "    mean_train_score  std_train_score  \n",
              "0      -11793.405020       362.343894  \n",
              "1      -11418.770014       270.272523  \n",
              "3      -13686.483353       379.801259  \n",
              "11     -14125.627027       243.976084  \n",
              "6      -14045.142160       450.419947  "
            ]
          },
          "metadata": {},
          "execution_count": 32
        }
      ]
    },
    {
      "cell_type": "markdown",
      "source": [
        "The best result from this GridSearch is 35 features selected, 2 samples split, 100 estimators."
      ],
      "metadata": {
        "id": "0vC-EoMX22nw"
      }
    },
    {
      "cell_type": "code",
      "source": [
        "y_pred_rfr_rfe_grid = grid_rfr_rfe.predict(X_test)\n",
        "print(mse(y_test, y_pred_rfr_rfe_grid, squared=False))"
      ],
      "metadata": {
        "colab": {
          "base_uri": "https://localhost:8080/"
        },
        "id": "NgjOLH34YoXC",
        "outputId": "7ad5aad8-db60-450f-f412-4ed1a94d38a1"
      },
      "execution_count": null,
      "outputs": [
        {
          "output_type": "stream",
          "name": "stdout",
          "text": [
            "28155.618531975517\n"
          ]
        }
      ]
    },
    {
      "cell_type": "markdown",
      "source": [
        "The result is the same as before, so we seems to hit the 'good' for now"
      ],
      "metadata": {
        "id": "uLvGQjS_2VnS"
      }
    },
    {
      "cell_type": "markdown",
      "source": [
        "## Overall Result"
      ],
      "metadata": {
        "id": "pqUjTOFu33kR"
      }
    },
    {
      "cell_type": "markdown",
      "source": [
        "Our result so far are as follows:"
      ],
      "metadata": {
        "id": "qPX_GKqm2UXC"
      }
    },
    {
      "cell_type": "code",
      "source": [
        "print(f'RMSE Basemodel: {mse(y_test, y_pred_rfr_base, squared=False)}')\n",
        "print(f'RMSE Basemodel with Grid Search: {mse(y_test, y_pred_grid, squared=False)}')\n",
        "print(f'RMSE Basemodel with Feature Selection: {mse(y_test, y_pred_rfr_rfe35, squared=False)}')\n",
        "print(f'RMSE Basemodel with Feature Selection and Grid Search: {mse(y_test, y_pred_rfr_rfe_grid, squared=False)}')"
      ],
      "metadata": {
        "colab": {
          "base_uri": "https://localhost:8080/"
        },
        "id": "12TC_EYX3hYN",
        "outputId": "d9a4b49d-f7df-4478-d29b-fd247d2ee583"
      },
      "execution_count": null,
      "outputs": [
        {
          "output_type": "stream",
          "name": "stdout",
          "text": [
            "RMSE Basemodel: 28606.7736813092\n",
            "RMSE Basemodel with Grid Search: 28535.368416808105\n",
            "RMSE Basemodel with Feature Selection: 28155.618531975517\n",
            "RMSE Basemodel with Feature Selection and Grid Search: 28155.618531975517\n"
          ]
        }
      ]
    },
    {
      "cell_type": "markdown",
      "source": [
        "While there's improvement, but it is just a little. Our best model is using RFE to cut the features down to 35, with the RandomForestRegressor using 100 n_estimators and 2 minimum samples to split"
      ],
      "metadata": {
        "id": "nP57ownN4rwj"
      }
    },
    {
      "cell_type": "markdown",
      "source": [
        "We'll build this model to be kept later on"
      ],
      "metadata": {
        "id": "bPN5mJz85wyF"
      }
    },
    {
      "cell_type": "code",
      "source": [
        "rfe_selector_35 = RFE(estimator=RandomForestRegressor(random_state=42), n_features_to_select = 35, step = 4)\n",
        "rfr_best = Pipeline([('preprocess', full_prep),\n",
        "                     ('rfe', rfe_selector_35),\n",
        "                     ('rfr', RandomForestRegressor(random_state=42, n_estimators=100, min_samples_split = 2))\n",
        "                    ])\n",
        "rfr_best.fit(X_train, y_train)"
      ],
      "metadata": {
        "colab": {
          "base_uri": "https://localhost:8080/"
        },
        "id": "jbsKuqIF57K1",
        "outputId": "114c9f33-de5d-418c-db48-576604db673f"
      },
      "execution_count": null,
      "outputs": [
        {
          "output_type": "execute_result",
          "data": {
            "text/plain": [
              "Pipeline(steps=[('preprocess',\n",
              "                 ColumnTransformer(transformers=[('num',\n",
              "                                                  Pipeline(steps=[('num_im',\n",
              "                                                                   SimpleImputer(strategy='median'))]),\n",
              "                                                  ['MSSubClass', 'LotFrontage',\n",
              "                                                   'LotArea', 'OverallQual',\n",
              "                                                   'OverallCond', 'YearBuilt',\n",
              "                                                   'YearRemodAdd', 'MasVnrArea',\n",
              "                                                   'BsmtFinSF1', 'BsmtFinSF2',\n",
              "                                                   'BsmtUnfSF', 'TotalBsmtSF',\n",
              "                                                   '1stFlrSF', '2ndFlrSF',\n",
              "                                                   'LowQualFinSF', 'GrLivArea',\n",
              "                                                   'BsmtFullBat...\n",
              "                                                   'RoofMatl', 'Exterior1st',\n",
              "                                                   'Exterior2nd', 'MasVnrType',\n",
              "                                                   'ExterQual', 'ExterCond',\n",
              "                                                   'Foundation', 'BsmtQual',\n",
              "                                                   'BsmtCond', 'BsmtExposure',\n",
              "                                                   'BsmtFinType1',\n",
              "                                                   'BsmtFinType2', 'Heating',\n",
              "                                                   'HeatingQC', 'CentralAir',\n",
              "                                                   'Electrical', ...])])),\n",
              "                ('rfe',\n",
              "                 RFE(estimator=RandomForestRegressor(random_state=42),\n",
              "                     n_features_to_select=35, step=4)),\n",
              "                ('rfr', RandomForestRegressor(random_state=42))])"
            ]
          },
          "metadata": {},
          "execution_count": 35
        }
      ]
    },
    {
      "cell_type": "markdown",
      "source": [
        "## Model Inference"
      ],
      "metadata": {
        "id": "4SFEMTTEaROB"
      }
    },
    {
      "cell_type": "markdown",
      "source": [
        "### Inference without user input (inputting all features)"
      ],
      "metadata": {
        "id": "-sXXXWdKaTf2"
      }
    },
    {
      "cell_type": "markdown",
      "source": [
        "We'll try to predict the house price using this model. First we'll take one house as an example"
      ],
      "metadata": {
        "id": "4DDNcx-F5l7j"
      }
    },
    {
      "cell_type": "code",
      "source": [
        "infer_test = pd.DataFrame(X_test.iloc[42]).T\n",
        "infer_test"
      ],
      "metadata": {
        "colab": {
          "base_uri": "https://localhost:8080/",
          "height": 145
        },
        "id": "P3XTOp416Z-a",
        "outputId": "a4cc6006-8ade-481a-8dbf-204faca6dde7"
      },
      "execution_count": null,
      "outputs": [
        {
          "output_type": "execute_result",
          "data": {
            "text/html": [
              "\n",
              "  <div id=\"df-24664695-08e2-41ee-8bbd-e576c3dc1b00\">\n",
              "    <div class=\"colab-df-container\">\n",
              "      <div>\n",
              "<style scoped>\n",
              "    .dataframe tbody tr th:only-of-type {\n",
              "        vertical-align: middle;\n",
              "    }\n",
              "\n",
              "    .dataframe tbody tr th {\n",
              "        vertical-align: top;\n",
              "    }\n",
              "\n",
              "    .dataframe thead th {\n",
              "        text-align: right;\n",
              "    }\n",
              "</style>\n",
              "<table border=\"1\" class=\"dataframe\">\n",
              "  <thead>\n",
              "    <tr style=\"text-align: right;\">\n",
              "      <th></th>\n",
              "      <th>MSSubClass</th>\n",
              "      <th>MSZoning</th>\n",
              "      <th>LotFrontage</th>\n",
              "      <th>LotArea</th>\n",
              "      <th>Street</th>\n",
              "      <th>Alley</th>\n",
              "      <th>LotShape</th>\n",
              "      <th>LandContour</th>\n",
              "      <th>Utilities</th>\n",
              "      <th>LotConfig</th>\n",
              "      <th>LandSlope</th>\n",
              "      <th>Neighborhood</th>\n",
              "      <th>Condition1</th>\n",
              "      <th>Condition2</th>\n",
              "      <th>BldgType</th>\n",
              "      <th>HouseStyle</th>\n",
              "      <th>OverallQual</th>\n",
              "      <th>OverallCond</th>\n",
              "      <th>YearBuilt</th>\n",
              "      <th>YearRemodAdd</th>\n",
              "      <th>RoofStyle</th>\n",
              "      <th>RoofMatl</th>\n",
              "      <th>Exterior1st</th>\n",
              "      <th>Exterior2nd</th>\n",
              "      <th>MasVnrType</th>\n",
              "      <th>MasVnrArea</th>\n",
              "      <th>ExterQual</th>\n",
              "      <th>ExterCond</th>\n",
              "      <th>Foundation</th>\n",
              "      <th>BsmtQual</th>\n",
              "      <th>BsmtCond</th>\n",
              "      <th>BsmtExposure</th>\n",
              "      <th>BsmtFinType1</th>\n",
              "      <th>BsmtFinSF1</th>\n",
              "      <th>BsmtFinType2</th>\n",
              "      <th>BsmtFinSF2</th>\n",
              "      <th>BsmtUnfSF</th>\n",
              "      <th>TotalBsmtSF</th>\n",
              "      <th>Heating</th>\n",
              "      <th>HeatingQC</th>\n",
              "      <th>CentralAir</th>\n",
              "      <th>Electrical</th>\n",
              "      <th>1stFlrSF</th>\n",
              "      <th>2ndFlrSF</th>\n",
              "      <th>LowQualFinSF</th>\n",
              "      <th>GrLivArea</th>\n",
              "      <th>BsmtFullBath</th>\n",
              "      <th>BsmtHalfBath</th>\n",
              "      <th>FullBath</th>\n",
              "      <th>HalfBath</th>\n",
              "      <th>BedroomAbvGr</th>\n",
              "      <th>KitchenAbvGr</th>\n",
              "      <th>KitchenQual</th>\n",
              "      <th>TotRmsAbvGrd</th>\n",
              "      <th>Functional</th>\n",
              "      <th>Fireplaces</th>\n",
              "      <th>FireplaceQu</th>\n",
              "      <th>GarageType</th>\n",
              "      <th>GarageYrBlt</th>\n",
              "      <th>GarageFinish</th>\n",
              "      <th>GarageCars</th>\n",
              "      <th>GarageArea</th>\n",
              "      <th>GarageQual</th>\n",
              "      <th>GarageCond</th>\n",
              "      <th>PavedDrive</th>\n",
              "      <th>WoodDeckSF</th>\n",
              "      <th>OpenPorchSF</th>\n",
              "      <th>EnclosedPorch</th>\n",
              "      <th>3SsnPorch</th>\n",
              "      <th>ScreenPorch</th>\n",
              "      <th>PoolArea</th>\n",
              "      <th>PoolQC</th>\n",
              "      <th>Fence</th>\n",
              "      <th>MiscFeature</th>\n",
              "      <th>MiscVal</th>\n",
              "      <th>MoSold</th>\n",
              "      <th>YrSold</th>\n",
              "      <th>SaleType</th>\n",
              "      <th>SaleCondition</th>\n",
              "    </tr>\n",
              "  </thead>\n",
              "  <tbody>\n",
              "    <tr>\n",
              "      <th>1101</th>\n",
              "      <td>20</td>\n",
              "      <td>RL</td>\n",
              "      <td>61.0</td>\n",
              "      <td>9758</td>\n",
              "      <td>Pave</td>\n",
              "      <td>NaN</td>\n",
              "      <td>IR1</td>\n",
              "      <td>Lvl</td>\n",
              "      <td>AllPub</td>\n",
              "      <td>Inside</td>\n",
              "      <td>Gtl</td>\n",
              "      <td>NAmes</td>\n",
              "      <td>Norm</td>\n",
              "      <td>Norm</td>\n",
              "      <td>1Fam</td>\n",
              "      <td>1Story</td>\n",
              "      <td>5</td>\n",
              "      <td>5</td>\n",
              "      <td>1971</td>\n",
              "      <td>1971</td>\n",
              "      <td>Gable</td>\n",
              "      <td>CompShg</td>\n",
              "      <td>HdBoard</td>\n",
              "      <td>MetalSd</td>\n",
              "      <td>None</td>\n",
              "      <td>0.0</td>\n",
              "      <td>TA</td>\n",
              "      <td>TA</td>\n",
              "      <td>CBlock</td>\n",
              "      <td>TA</td>\n",
              "      <td>TA</td>\n",
              "      <td>No</td>\n",
              "      <td>BLQ</td>\n",
              "      <td>412</td>\n",
              "      <td>LwQ</td>\n",
              "      <td>287</td>\n",
              "      <td>251</td>\n",
              "      <td>950</td>\n",
              "      <td>GasA</td>\n",
              "      <td>TA</td>\n",
              "      <td>Y</td>\n",
              "      <td>SBrkr</td>\n",
              "      <td>950</td>\n",
              "      <td>0</td>\n",
              "      <td>0</td>\n",
              "      <td>950</td>\n",
              "      <td>0</td>\n",
              "      <td>0</td>\n",
              "      <td>1</td>\n",
              "      <td>0</td>\n",
              "      <td>3</td>\n",
              "      <td>1</td>\n",
              "      <td>TA</td>\n",
              "      <td>5</td>\n",
              "      <td>Typ</td>\n",
              "      <td>0</td>\n",
              "      <td>NaN</td>\n",
              "      <td>Detchd</td>\n",
              "      <td>1981.0</td>\n",
              "      <td>Unf</td>\n",
              "      <td>1</td>\n",
              "      <td>280</td>\n",
              "      <td>TA</td>\n",
              "      <td>TA</td>\n",
              "      <td>Y</td>\n",
              "      <td>0</td>\n",
              "      <td>0</td>\n",
              "      <td>0</td>\n",
              "      <td>0</td>\n",
              "      <td>0</td>\n",
              "      <td>0</td>\n",
              "      <td>NaN</td>\n",
              "      <td>NaN</td>\n",
              "      <td>NaN</td>\n",
              "      <td>0</td>\n",
              "      <td>7</td>\n",
              "      <td>2007</td>\n",
              "      <td>WD</td>\n",
              "      <td>Normal</td>\n",
              "    </tr>\n",
              "  </tbody>\n",
              "</table>\n",
              "</div>\n",
              "      <button class=\"colab-df-convert\" onclick=\"convertToInteractive('df-24664695-08e2-41ee-8bbd-e576c3dc1b00')\"\n",
              "              title=\"Convert this dataframe to an interactive table.\"\n",
              "              style=\"display:none;\">\n",
              "        \n",
              "  <svg xmlns=\"http://www.w3.org/2000/svg\" height=\"24px\"viewBox=\"0 0 24 24\"\n",
              "       width=\"24px\">\n",
              "    <path d=\"M0 0h24v24H0V0z\" fill=\"none\"/>\n",
              "    <path d=\"M18.56 5.44l.94 2.06.94-2.06 2.06-.94-2.06-.94-.94-2.06-.94 2.06-2.06.94zm-11 1L8.5 8.5l.94-2.06 2.06-.94-2.06-.94L8.5 2.5l-.94 2.06-2.06.94zm10 10l.94 2.06.94-2.06 2.06-.94-2.06-.94-.94-2.06-.94 2.06-2.06.94z\"/><path d=\"M17.41 7.96l-1.37-1.37c-.4-.4-.92-.59-1.43-.59-.52 0-1.04.2-1.43.59L10.3 9.45l-7.72 7.72c-.78.78-.78 2.05 0 2.83L4 21.41c.39.39.9.59 1.41.59.51 0 1.02-.2 1.41-.59l7.78-7.78 2.81-2.81c.8-.78.8-2.07 0-2.86zM5.41 20L4 18.59l7.72-7.72 1.47 1.35L5.41 20z\"/>\n",
              "  </svg>\n",
              "      </button>\n",
              "      \n",
              "  <style>\n",
              "    .colab-df-container {\n",
              "      display:flex;\n",
              "      flex-wrap:wrap;\n",
              "      gap: 12px;\n",
              "    }\n",
              "\n",
              "    .colab-df-convert {\n",
              "      background-color: #E8F0FE;\n",
              "      border: none;\n",
              "      border-radius: 50%;\n",
              "      cursor: pointer;\n",
              "      display: none;\n",
              "      fill: #1967D2;\n",
              "      height: 32px;\n",
              "      padding: 0 0 0 0;\n",
              "      width: 32px;\n",
              "    }\n",
              "\n",
              "    .colab-df-convert:hover {\n",
              "      background-color: #E2EBFA;\n",
              "      box-shadow: 0px 1px 2px rgba(60, 64, 67, 0.3), 0px 1px 3px 1px rgba(60, 64, 67, 0.15);\n",
              "      fill: #174EA6;\n",
              "    }\n",
              "\n",
              "    [theme=dark] .colab-df-convert {\n",
              "      background-color: #3B4455;\n",
              "      fill: #D2E3FC;\n",
              "    }\n",
              "\n",
              "    [theme=dark] .colab-df-convert:hover {\n",
              "      background-color: #434B5C;\n",
              "      box-shadow: 0px 1px 3px 1px rgba(0, 0, 0, 0.15);\n",
              "      filter: drop-shadow(0px 1px 2px rgba(0, 0, 0, 0.3));\n",
              "      fill: #FFFFFF;\n",
              "    }\n",
              "  </style>\n",
              "\n",
              "      <script>\n",
              "        const buttonEl =\n",
              "          document.querySelector('#df-24664695-08e2-41ee-8bbd-e576c3dc1b00 button.colab-df-convert');\n",
              "        buttonEl.style.display =\n",
              "          google.colab.kernel.accessAllowed ? 'block' : 'none';\n",
              "\n",
              "        async function convertToInteractive(key) {\n",
              "          const element = document.querySelector('#df-24664695-08e2-41ee-8bbd-e576c3dc1b00');\n",
              "          const dataTable =\n",
              "            await google.colab.kernel.invokeFunction('convertToInteractive',\n",
              "                                                     [key], {});\n",
              "          if (!dataTable) return;\n",
              "\n",
              "          const docLinkHtml = 'Like what you see? Visit the ' +\n",
              "            '<a target=\"_blank\" href=https://colab.research.google.com/notebooks/data_table.ipynb>data table notebook</a>'\n",
              "            + ' to learn more about interactive tables.';\n",
              "          element.innerHTML = '';\n",
              "          dataTable['output_type'] = 'display_data';\n",
              "          await google.colab.output.renderOutput(dataTable, element);\n",
              "          const docLink = document.createElement('div');\n",
              "          docLink.innerHTML = docLinkHtml;\n",
              "          element.appendChild(docLink);\n",
              "        }\n",
              "      </script>\n",
              "    </div>\n",
              "  </div>\n",
              "  "
            ],
            "text/plain": [
              "     MSSubClass MSZoning LotFrontage LotArea Street Alley LotShape  \\\n",
              "1101         20       RL        61.0    9758   Pave   NaN      IR1   \n",
              "\n",
              "     LandContour Utilities LotConfig LandSlope Neighborhood Condition1  \\\n",
              "1101         Lvl    AllPub    Inside       Gtl        NAmes       Norm   \n",
              "\n",
              "     Condition2 BldgType HouseStyle OverallQual OverallCond YearBuilt  \\\n",
              "1101       Norm     1Fam     1Story           5           5      1971   \n",
              "\n",
              "     YearRemodAdd RoofStyle RoofMatl Exterior1st Exterior2nd MasVnrType  \\\n",
              "1101         1971     Gable  CompShg     HdBoard     MetalSd       None   \n",
              "\n",
              "     MasVnrArea ExterQual ExterCond Foundation BsmtQual BsmtCond BsmtExposure  \\\n",
              "1101        0.0        TA        TA     CBlock       TA       TA           No   \n",
              "\n",
              "     BsmtFinType1 BsmtFinSF1 BsmtFinType2 BsmtFinSF2 BsmtUnfSF TotalBsmtSF  \\\n",
              "1101          BLQ        412          LwQ        287       251         950   \n",
              "\n",
              "     Heating HeatingQC CentralAir Electrical 1stFlrSF 2ndFlrSF LowQualFinSF  \\\n",
              "1101    GasA        TA          Y      SBrkr      950        0            0   \n",
              "\n",
              "     GrLivArea BsmtFullBath BsmtHalfBath FullBath HalfBath BedroomAbvGr  \\\n",
              "1101       950            0            0        1        0            3   \n",
              "\n",
              "     KitchenAbvGr KitchenQual TotRmsAbvGrd Functional Fireplaces FireplaceQu  \\\n",
              "1101            1          TA            5        Typ          0         NaN   \n",
              "\n",
              "     GarageType GarageYrBlt GarageFinish GarageCars GarageArea GarageQual  \\\n",
              "1101     Detchd      1981.0          Unf          1        280         TA   \n",
              "\n",
              "     GarageCond PavedDrive WoodDeckSF OpenPorchSF EnclosedPorch 3SsnPorch  \\\n",
              "1101         TA          Y          0           0             0         0   \n",
              "\n",
              "     ScreenPorch PoolArea PoolQC Fence MiscFeature MiscVal MoSold YrSold  \\\n",
              "1101           0        0    NaN   NaN         NaN       0      7   2007   \n",
              "\n",
              "     SaleType SaleCondition  \n",
              "1101       WD        Normal  "
            ]
          },
          "metadata": {},
          "execution_count": 46
        }
      ]
    },
    {
      "cell_type": "markdown",
      "source": [
        "Some notable features from this house:\n",
        "1. SubClass: 1-STORY 1946 & NEWER ALL STYLES\n",
        "2. Low Density Residential (RL)\n",
        "3. 9758 sqft Lot Area\n",
        "4. Paved Street from street to home\n",
        "5. No Alley\n",
        "6. Flat Contour LAnd\n",
        "7. North Ames Neighborhood\n",
        "8. One Story House\n",
        "9. No Remodeling since 1971\n",
        "10. Gable Roof Style with Composite Shingle material\n",
        "11. Gas Air Furnace Heating\n",
        "12. Standard Breaker Circuit\n",
        "13. 1 Full Bathroom\n",
        "14. 3 Bedroom above Basement\n",
        "15. 5 Rooms above Basement\n",
        "16. No Fireplace\n",
        "17. Unfinished Garage Detached from Home\n",
        "18. No Pool, No Fence, No Miscellanous Stuff\n",
        "19. Sold Normally"
      ],
      "metadata": {
        "id": "RQTyPPv37GwH"
      }
    },
    {
      "cell_type": "code",
      "source": [
        "rfr_best.predict(infer_test)"
      ],
      "metadata": {
        "colab": {
          "base_uri": "https://localhost:8080/"
        },
        "id": "1xc5ieoE6Z1l",
        "outputId": "1cad8989-4779-4066-c64c-76f27406a7bd"
      },
      "execution_count": null,
      "outputs": [
        {
          "output_type": "execute_result",
          "data": {
            "text/plain": [
              "array([120634.33])"
            ]
          },
          "metadata": {},
          "execution_count": 47
        }
      ]
    },
    {
      "cell_type": "markdown",
      "source": [
        "The model predicted that the house cost $120,634.33 "
      ],
      "metadata": {
        "id": "Ytrh0ZbV9aOE"
      }
    },
    {
      "cell_type": "markdown",
      "source": [
        "### Inference with user input (input with few features and median/mode the others)"
      ],
      "metadata": {
        "id": "RmOCJ0unaWq-"
      }
    },
    {
      "cell_type": "markdown",
      "source": [
        "Since we have so many features here, we cannot really ask the customer all of these, so we'll include some of familiar features for the customer and taking the median (for numerical) or mode (for categorical) for the rest of the data"
      ],
      "metadata": {
        "id": "81wnwd-l9y0C"
      }
    },
    {
      "cell_type": "code",
      "source": [
        "median_data_num = pd.DataFrame(house_num.median()).T\n",
        "mode_data_cat = pd.DataFrame(house_cat.mode().iloc[0]).T\n",
        "input_infer = pd.concat([median_data_num, mode_data_cat], axis=1)"
      ],
      "metadata": {
        "id": "rZp5njUdY1jU"
      },
      "execution_count": null,
      "outputs": []
    },
    {
      "cell_type": "code",
      "source": [
        "input_infer"
      ],
      "metadata": {
        "colab": {
          "base_uri": "https://localhost:8080/",
          "height": 145
        },
        "id": "BHrzhHQC-Vky",
        "outputId": "99d78c8a-70c6-4d94-f3d6-3ccc42681962"
      },
      "execution_count": null,
      "outputs": [
        {
          "output_type": "execute_result",
          "data": {
            "text/html": [
              "\n",
              "  <div id=\"df-c0a38b35-8a37-4c62-b19b-3d5b70b01c57\">\n",
              "    <div class=\"colab-df-container\">\n",
              "      <div>\n",
              "<style scoped>\n",
              "    .dataframe tbody tr th:only-of-type {\n",
              "        vertical-align: middle;\n",
              "    }\n",
              "\n",
              "    .dataframe tbody tr th {\n",
              "        vertical-align: top;\n",
              "    }\n",
              "\n",
              "    .dataframe thead th {\n",
              "        text-align: right;\n",
              "    }\n",
              "</style>\n",
              "<table border=\"1\" class=\"dataframe\">\n",
              "  <thead>\n",
              "    <tr style=\"text-align: right;\">\n",
              "      <th></th>\n",
              "      <th>MSSubClass</th>\n",
              "      <th>LotFrontage</th>\n",
              "      <th>LotArea</th>\n",
              "      <th>OverallQual</th>\n",
              "      <th>OverallCond</th>\n",
              "      <th>YearBuilt</th>\n",
              "      <th>YearRemodAdd</th>\n",
              "      <th>MasVnrArea</th>\n",
              "      <th>BsmtFinSF1</th>\n",
              "      <th>BsmtFinSF2</th>\n",
              "      <th>BsmtUnfSF</th>\n",
              "      <th>TotalBsmtSF</th>\n",
              "      <th>1stFlrSF</th>\n",
              "      <th>2ndFlrSF</th>\n",
              "      <th>LowQualFinSF</th>\n",
              "      <th>GrLivArea</th>\n",
              "      <th>BsmtFullBath</th>\n",
              "      <th>BsmtHalfBath</th>\n",
              "      <th>FullBath</th>\n",
              "      <th>HalfBath</th>\n",
              "      <th>BedroomAbvGr</th>\n",
              "      <th>KitchenAbvGr</th>\n",
              "      <th>TotRmsAbvGrd</th>\n",
              "      <th>Fireplaces</th>\n",
              "      <th>GarageYrBlt</th>\n",
              "      <th>GarageCars</th>\n",
              "      <th>GarageArea</th>\n",
              "      <th>WoodDeckSF</th>\n",
              "      <th>OpenPorchSF</th>\n",
              "      <th>EnclosedPorch</th>\n",
              "      <th>3SsnPorch</th>\n",
              "      <th>ScreenPorch</th>\n",
              "      <th>PoolArea</th>\n",
              "      <th>MiscVal</th>\n",
              "      <th>MoSold</th>\n",
              "      <th>YrSold</th>\n",
              "      <th>MSZoning</th>\n",
              "      <th>Street</th>\n",
              "      <th>Alley</th>\n",
              "      <th>LotShape</th>\n",
              "      <th>LandContour</th>\n",
              "      <th>Utilities</th>\n",
              "      <th>LotConfig</th>\n",
              "      <th>LandSlope</th>\n",
              "      <th>Neighborhood</th>\n",
              "      <th>Condition1</th>\n",
              "      <th>Condition2</th>\n",
              "      <th>BldgType</th>\n",
              "      <th>HouseStyle</th>\n",
              "      <th>RoofStyle</th>\n",
              "      <th>RoofMatl</th>\n",
              "      <th>Exterior1st</th>\n",
              "      <th>Exterior2nd</th>\n",
              "      <th>MasVnrType</th>\n",
              "      <th>ExterQual</th>\n",
              "      <th>ExterCond</th>\n",
              "      <th>Foundation</th>\n",
              "      <th>BsmtQual</th>\n",
              "      <th>BsmtCond</th>\n",
              "      <th>BsmtExposure</th>\n",
              "      <th>BsmtFinType1</th>\n",
              "      <th>BsmtFinType2</th>\n",
              "      <th>Heating</th>\n",
              "      <th>HeatingQC</th>\n",
              "      <th>CentralAir</th>\n",
              "      <th>Electrical</th>\n",
              "      <th>KitchenQual</th>\n",
              "      <th>Functional</th>\n",
              "      <th>FireplaceQu</th>\n",
              "      <th>GarageType</th>\n",
              "      <th>GarageFinish</th>\n",
              "      <th>GarageQual</th>\n",
              "      <th>GarageCond</th>\n",
              "      <th>PavedDrive</th>\n",
              "      <th>PoolQC</th>\n",
              "      <th>Fence</th>\n",
              "      <th>MiscFeature</th>\n",
              "      <th>SaleType</th>\n",
              "      <th>SaleCondition</th>\n",
              "    </tr>\n",
              "  </thead>\n",
              "  <tbody>\n",
              "    <tr>\n",
              "      <th>0</th>\n",
              "      <td>50.0</td>\n",
              "      <td>70.0</td>\n",
              "      <td>9600.0</td>\n",
              "      <td>6.0</td>\n",
              "      <td>5.0</td>\n",
              "      <td>1972.0</td>\n",
              "      <td>1994.0</td>\n",
              "      <td>0.0</td>\n",
              "      <td>384.5</td>\n",
              "      <td>0.0</td>\n",
              "      <td>480.0</td>\n",
              "      <td>997.5</td>\n",
              "      <td>1095.0</td>\n",
              "      <td>0.0</td>\n",
              "      <td>0.0</td>\n",
              "      <td>1473.0</td>\n",
              "      <td>0.0</td>\n",
              "      <td>0.0</td>\n",
              "      <td>2.0</td>\n",
              "      <td>0.0</td>\n",
              "      <td>3.0</td>\n",
              "      <td>1.0</td>\n",
              "      <td>6.0</td>\n",
              "      <td>1.0</td>\n",
              "      <td>1980.0</td>\n",
              "      <td>2.0</td>\n",
              "      <td>482.0</td>\n",
              "      <td>0.0</td>\n",
              "      <td>27.0</td>\n",
              "      <td>0.0</td>\n",
              "      <td>0.0</td>\n",
              "      <td>0.0</td>\n",
              "      <td>0.0</td>\n",
              "      <td>0.0</td>\n",
              "      <td>6.0</td>\n",
              "      <td>2008.0</td>\n",
              "      <td>RL</td>\n",
              "      <td>Pave</td>\n",
              "      <td>Grvl</td>\n",
              "      <td>Reg</td>\n",
              "      <td>Lvl</td>\n",
              "      <td>AllPub</td>\n",
              "      <td>Inside</td>\n",
              "      <td>Gtl</td>\n",
              "      <td>NAmes</td>\n",
              "      <td>Norm</td>\n",
              "      <td>Norm</td>\n",
              "      <td>1Fam</td>\n",
              "      <td>1Story</td>\n",
              "      <td>Gable</td>\n",
              "      <td>CompShg</td>\n",
              "      <td>VinylSd</td>\n",
              "      <td>VinylSd</td>\n",
              "      <td>None</td>\n",
              "      <td>TA</td>\n",
              "      <td>TA</td>\n",
              "      <td>PConc</td>\n",
              "      <td>TA</td>\n",
              "      <td>TA</td>\n",
              "      <td>No</td>\n",
              "      <td>Unf</td>\n",
              "      <td>Unf</td>\n",
              "      <td>GasA</td>\n",
              "      <td>Ex</td>\n",
              "      <td>Y</td>\n",
              "      <td>SBrkr</td>\n",
              "      <td>TA</td>\n",
              "      <td>Typ</td>\n",
              "      <td>Gd</td>\n",
              "      <td>Attchd</td>\n",
              "      <td>Unf</td>\n",
              "      <td>TA</td>\n",
              "      <td>TA</td>\n",
              "      <td>Y</td>\n",
              "      <td>Ex</td>\n",
              "      <td>MnPrv</td>\n",
              "      <td>Shed</td>\n",
              "      <td>WD</td>\n",
              "      <td>Normal</td>\n",
              "    </tr>\n",
              "  </tbody>\n",
              "</table>\n",
              "</div>\n",
              "      <button class=\"colab-df-convert\" onclick=\"convertToInteractive('df-c0a38b35-8a37-4c62-b19b-3d5b70b01c57')\"\n",
              "              title=\"Convert this dataframe to an interactive table.\"\n",
              "              style=\"display:none;\">\n",
              "        \n",
              "  <svg xmlns=\"http://www.w3.org/2000/svg\" height=\"24px\"viewBox=\"0 0 24 24\"\n",
              "       width=\"24px\">\n",
              "    <path d=\"M0 0h24v24H0V0z\" fill=\"none\"/>\n",
              "    <path d=\"M18.56 5.44l.94 2.06.94-2.06 2.06-.94-2.06-.94-.94-2.06-.94 2.06-2.06.94zm-11 1L8.5 8.5l.94-2.06 2.06-.94-2.06-.94L8.5 2.5l-.94 2.06-2.06.94zm10 10l.94 2.06.94-2.06 2.06-.94-2.06-.94-.94-2.06-.94 2.06-2.06.94z\"/><path d=\"M17.41 7.96l-1.37-1.37c-.4-.4-.92-.59-1.43-.59-.52 0-1.04.2-1.43.59L10.3 9.45l-7.72 7.72c-.78.78-.78 2.05 0 2.83L4 21.41c.39.39.9.59 1.41.59.51 0 1.02-.2 1.41-.59l7.78-7.78 2.81-2.81c.8-.78.8-2.07 0-2.86zM5.41 20L4 18.59l7.72-7.72 1.47 1.35L5.41 20z\"/>\n",
              "  </svg>\n",
              "      </button>\n",
              "      \n",
              "  <style>\n",
              "    .colab-df-container {\n",
              "      display:flex;\n",
              "      flex-wrap:wrap;\n",
              "      gap: 12px;\n",
              "    }\n",
              "\n",
              "    .colab-df-convert {\n",
              "      background-color: #E8F0FE;\n",
              "      border: none;\n",
              "      border-radius: 50%;\n",
              "      cursor: pointer;\n",
              "      display: none;\n",
              "      fill: #1967D2;\n",
              "      height: 32px;\n",
              "      padding: 0 0 0 0;\n",
              "      width: 32px;\n",
              "    }\n",
              "\n",
              "    .colab-df-convert:hover {\n",
              "      background-color: #E2EBFA;\n",
              "      box-shadow: 0px 1px 2px rgba(60, 64, 67, 0.3), 0px 1px 3px 1px rgba(60, 64, 67, 0.15);\n",
              "      fill: #174EA6;\n",
              "    }\n",
              "\n",
              "    [theme=dark] .colab-df-convert {\n",
              "      background-color: #3B4455;\n",
              "      fill: #D2E3FC;\n",
              "    }\n",
              "\n",
              "    [theme=dark] .colab-df-convert:hover {\n",
              "      background-color: #434B5C;\n",
              "      box-shadow: 0px 1px 3px 1px rgba(0, 0, 0, 0.15);\n",
              "      filter: drop-shadow(0px 1px 2px rgba(0, 0, 0, 0.3));\n",
              "      fill: #FFFFFF;\n",
              "    }\n",
              "  </style>\n",
              "\n",
              "      <script>\n",
              "        const buttonEl =\n",
              "          document.querySelector('#df-c0a38b35-8a37-4c62-b19b-3d5b70b01c57 button.colab-df-convert');\n",
              "        buttonEl.style.display =\n",
              "          google.colab.kernel.accessAllowed ? 'block' : 'none';\n",
              "\n",
              "        async function convertToInteractive(key) {\n",
              "          const element = document.querySelector('#df-c0a38b35-8a37-4c62-b19b-3d5b70b01c57');\n",
              "          const dataTable =\n",
              "            await google.colab.kernel.invokeFunction('convertToInteractive',\n",
              "                                                     [key], {});\n",
              "          if (!dataTable) return;\n",
              "\n",
              "          const docLinkHtml = 'Like what you see? Visit the ' +\n",
              "            '<a target=\"_blank\" href=https://colab.research.google.com/notebooks/data_table.ipynb>data table notebook</a>'\n",
              "            + ' to learn more about interactive tables.';\n",
              "          element.innerHTML = '';\n",
              "          dataTable['output_type'] = 'display_data';\n",
              "          await google.colab.output.renderOutput(dataTable, element);\n",
              "          const docLink = document.createElement('div');\n",
              "          docLink.innerHTML = docLinkHtml;\n",
              "          element.appendChild(docLink);\n",
              "        }\n",
              "      </script>\n",
              "    </div>\n",
              "  </div>\n",
              "  "
            ],
            "text/plain": [
              "   MSSubClass  LotFrontage  LotArea  OverallQual  OverallCond  YearBuilt  \\\n",
              "0        50.0         70.0   9600.0          6.0          5.0     1972.0   \n",
              "\n",
              "   YearRemodAdd  MasVnrArea  BsmtFinSF1  BsmtFinSF2  BsmtUnfSF  TotalBsmtSF  \\\n",
              "0        1994.0         0.0       384.5         0.0      480.0        997.5   \n",
              "\n",
              "   1stFlrSF  2ndFlrSF  LowQualFinSF  GrLivArea  BsmtFullBath  BsmtHalfBath  \\\n",
              "0    1095.0       0.0           0.0     1473.0           0.0           0.0   \n",
              "\n",
              "   FullBath  HalfBath  BedroomAbvGr  KitchenAbvGr  TotRmsAbvGrd  Fireplaces  \\\n",
              "0       2.0       0.0           3.0           1.0           6.0         1.0   \n",
              "\n",
              "   GarageYrBlt  GarageCars  GarageArea  WoodDeckSF  OpenPorchSF  \\\n",
              "0       1980.0         2.0       482.0         0.0         27.0   \n",
              "\n",
              "   EnclosedPorch  3SsnPorch  ScreenPorch  PoolArea  MiscVal  MoSold  YrSold  \\\n",
              "0            0.0        0.0          0.0       0.0      0.0     6.0  2008.0   \n",
              "\n",
              "  MSZoning Street Alley LotShape LandContour Utilities LotConfig LandSlope  \\\n",
              "0       RL   Pave  Grvl      Reg         Lvl    AllPub    Inside       Gtl   \n",
              "\n",
              "  Neighborhood Condition1 Condition2 BldgType HouseStyle RoofStyle RoofMatl  \\\n",
              "0        NAmes       Norm       Norm     1Fam     1Story     Gable  CompShg   \n",
              "\n",
              "  Exterior1st Exterior2nd MasVnrType ExterQual ExterCond Foundation BsmtQual  \\\n",
              "0     VinylSd     VinylSd       None        TA        TA      PConc       TA   \n",
              "\n",
              "  BsmtCond BsmtExposure BsmtFinType1 BsmtFinType2 Heating HeatingQC  \\\n",
              "0       TA           No          Unf          Unf    GasA        Ex   \n",
              "\n",
              "  CentralAir Electrical KitchenQual Functional FireplaceQu GarageType  \\\n",
              "0          Y      SBrkr          TA        Typ          Gd     Attchd   \n",
              "\n",
              "  GarageFinish GarageQual GarageCond PavedDrive PoolQC  Fence MiscFeature  \\\n",
              "0          Unf         TA         TA          Y     Ex  MnPrv        Shed   \n",
              "\n",
              "  SaleType SaleCondition  \n",
              "0       WD        Normal  "
            ]
          },
          "metadata": {},
          "execution_count": 67
        }
      ]
    },
    {
      "cell_type": "markdown",
      "source": [
        "Let's say that we wanted to take Lot Area, Number of Rooms, Bedrooms, Bathrooms, and Pool\n",
        "\n",
        "Suppose our customers wanted to have house with 10000 sqft, 8 rooms, 4 bedrooms, 2 bathrooms, a kitchen, hence we got:"
      ],
      "metadata": {
        "id": "rX9RvJ_y-_TL"
      }
    },
    {
      "cell_type": "code",
      "source": [
        "input_infer['LotArea'] = 10000\n",
        "input_infer['TotRmsAbvGrd'] = 8\n",
        "input_infer['BedroomAbvGrd'] = 4\n",
        "input_infer['FullBath'] = 2\n",
        "input_infer['KitchenAbvGrd'] = 1"
      ],
      "metadata": {
        "id": "rc_RN5_6-fz2"
      },
      "execution_count": null,
      "outputs": []
    },
    {
      "cell_type": "code",
      "source": [
        "rfr_best.predict(input_infer)"
      ],
      "metadata": {
        "colab": {
          "base_uri": "https://localhost:8080/"
        },
        "id": "2JeQQgnTAoWQ",
        "outputId": "900a16dc-6f40-4f07-cb90-152ce408e9e9"
      },
      "execution_count": null,
      "outputs": [
        {
          "output_type": "execute_result",
          "data": {
            "text/plain": [
              "array([167552.4])"
            ]
          },
          "metadata": {},
          "execution_count": 116
        }
      ]
    },
    {
      "cell_type": "markdown",
      "source": [
        "Our model predicted that the price will be around $167,552.4 "
      ],
      "metadata": {
        "id": "M5msUX2jAzRZ"
      }
    },
    {
      "cell_type": "markdown",
      "source": [
        "## General Conclusion:"
      ],
      "metadata": {
        "id": "VoZJvxFCCDW8"
      }
    },
    {
      "cell_type": "markdown",
      "source": [
        "1. Most of the data are skewed, indicating outliers, hence tree-based models is suitable to try to preserve the value\n",
        "2. After few experiments, our model didn't improve well in terms of the RMSE. There's improvement, but just a little\n",
        "3. Further feature engineering, such as 'manually' picking the relevant feature (and not by machine learning) or feature enrichment might result in much better result than the simple method\n",
        "4. The experiment might be tried with other model to compare the result"
      ],
      "metadata": {
        "id": "KXsXZ7KpCH_B"
      }
    },
    {
      "cell_type": "markdown",
      "source": [
        "## Saving the Model and the 'Median Data'"
      ],
      "metadata": {
        "id": "1l6-kchxHZ-C"
      }
    },
    {
      "cell_type": "code",
      "source": [
        "import pickle\n",
        "with open(\"house_model.pkl\", \"wb\") as model_file:\n",
        "  pickle.dump(rfr_best, model_file)"
      ],
      "metadata": {
        "id": "ZXlMrkI_EbAC"
      },
      "execution_count": null,
      "outputs": []
    },
    {
      "cell_type": "code",
      "source": [
        "median_data_num = pd.DataFrame(house_num.median()).T\n",
        "mode_data_cat = pd.DataFrame(house_cat.mode().iloc[0]).T\n",
        "input_infer = pd.concat([median_data_num, mode_data_cat], axis=1)\n",
        "input_infer.to_csv('base_input.csv')"
      ],
      "metadata": {
        "id": "BguqfR7_EyMP"
      },
      "execution_count": null,
      "outputs": []
    }
  ]
}