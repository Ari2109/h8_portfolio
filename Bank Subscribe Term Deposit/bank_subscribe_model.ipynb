{
  "nbformat": 4,
  "nbformat_minor": 0,
  "metadata": {
    "colab": {
      "name": "h8dsft_Milestone1.ipynb",
      "provenance": [],
      "collapsed_sections": []
    },
    "kernelspec": {
      "name": "python3",
      "display_name": "Python 3"
    },
    "language_info": {
      "name": "python"
    }
  },
  "cells": [
    {
      "cell_type": "markdown",
      "source": [
        "## Introduction"
      ],
      "metadata": {
        "id": "Ecg421rBGvJG"
      }
    },
    {
      "cell_type": "markdown",
      "source": [
        "`Name  : Ari Riscahyo Nugroho`\n",
        "\n",
        "`Batch : 007`\n",
        "\n",
        "`Github: Ari2109`"
      ],
      "metadata": {
        "id": "Fni_RM1AGjkd"
      }
    },
    {
      "cell_type": "markdown",
      "source": [
        "This notebook used the bank dataset here: https://archive.ics.uci.edu/ml/datasets/Bank+Marketing\n",
        "\n",
        "This notebook aims to explore the dataset briefly and tried to make models which predicts if the person will subscribe a term deposit or not. There are 7 models introduced here, they are Logistic Regression, SVM, Decision Tree, Random Forest, kNN, Naive Bayes, and lastly LightGBM"
      ],
      "metadata": {
        "id": "GrvcgdIUHUA5"
      }
    },
    {
      "cell_type": "markdown",
      "source": [
        "## Import Library"
      ],
      "metadata": {
        "id": "vxOcuTa5BCok"
      }
    },
    {
      "cell_type": "code",
      "execution_count": 1,
      "metadata": {
        "id": "yHWs2LzbDHB4"
      },
      "outputs": [],
      "source": [
        "import pandas as pd\n",
        "import numpy as np\n",
        "from sklearn.model_selection import train_test_split\n",
        "from sklearn.preprocessing import OneHotEncoder\n",
        "from sklearn.preprocessing import OrdinalEncoder\n",
        "from sklearn.preprocessing import StandardScaler\n",
        "from sklearn.preprocessing import MinMaxScaler\n",
        "from sklearn.compose import ColumnTransformer\n",
        "from sklearn.pipeline import Pipeline\n",
        "from sklearn.metrics import classification_report\n",
        "from sklearn.model_selection import GridSearchCV\n",
        "from sklearn.svm import SVC\n",
        "from sklearn.naive_bayes import GaussianNB\n",
        "from sklearn.linear_model import LogisticRegression\n",
        "from sklearn.tree import DecisionTreeClassifier\n",
        "from sklearn.ensemble import RandomForestClassifier\n",
        "from sklearn.neighbors import KNeighborsClassifier\n",
        "from lightgbm import LGBMClassifier\n",
        "from sklearn.metrics import f1_score\n",
        "from sklearn.metrics import make_scorer"
      ]
    },
    {
      "cell_type": "code",
      "source": [
        "df = pd.read_csv('bank-additional-full.csv', sep=';')"
      ],
      "metadata": {
        "id": "H4gl-BKhX-a2"
      },
      "execution_count": 2,
      "outputs": []
    },
    {
      "cell_type": "code",
      "source": [
        "df.sample(5)"
      ],
      "metadata": {
        "colab": {
          "base_uri": "https://localhost:8080/",
          "height": 287
        },
        "id": "iXhsThA6YA7e",
        "outputId": "1f2c7886-1f61-4afb-b017-6b23561c9f66"
      },
      "execution_count": 3,
      "outputs": [
        {
          "output_type": "execute_result",
          "data": {
            "text/html": [
              "\n",
              "  <div id=\"df-d59e7985-ac08-4603-8bbc-5adc6f394def\">\n",
              "    <div class=\"colab-df-container\">\n",
              "      <div>\n",
              "<style scoped>\n",
              "    .dataframe tbody tr th:only-of-type {\n",
              "        vertical-align: middle;\n",
              "    }\n",
              "\n",
              "    .dataframe tbody tr th {\n",
              "        vertical-align: top;\n",
              "    }\n",
              "\n",
              "    .dataframe thead th {\n",
              "        text-align: right;\n",
              "    }\n",
              "</style>\n",
              "<table border=\"1\" class=\"dataframe\">\n",
              "  <thead>\n",
              "    <tr style=\"text-align: right;\">\n",
              "      <th></th>\n",
              "      <th>age</th>\n",
              "      <th>job</th>\n",
              "      <th>marital</th>\n",
              "      <th>education</th>\n",
              "      <th>default</th>\n",
              "      <th>housing</th>\n",
              "      <th>loan</th>\n",
              "      <th>contact</th>\n",
              "      <th>month</th>\n",
              "      <th>day_of_week</th>\n",
              "      <th>duration</th>\n",
              "      <th>campaign</th>\n",
              "      <th>pdays</th>\n",
              "      <th>previous</th>\n",
              "      <th>poutcome</th>\n",
              "      <th>emp.var.rate</th>\n",
              "      <th>cons.price.idx</th>\n",
              "      <th>cons.conf.idx</th>\n",
              "      <th>euribor3m</th>\n",
              "      <th>nr.employed</th>\n",
              "      <th>y</th>\n",
              "    </tr>\n",
              "  </thead>\n",
              "  <tbody>\n",
              "    <tr>\n",
              "      <th>30019</th>\n",
              "      <td>23</td>\n",
              "      <td>admin.</td>\n",
              "      <td>single</td>\n",
              "      <td>university.degree</td>\n",
              "      <td>no</td>\n",
              "      <td>yes</td>\n",
              "      <td>no</td>\n",
              "      <td>cellular</td>\n",
              "      <td>apr</td>\n",
              "      <td>wed</td>\n",
              "      <td>621</td>\n",
              "      <td>1</td>\n",
              "      <td>999</td>\n",
              "      <td>0</td>\n",
              "      <td>nonexistent</td>\n",
              "      <td>-1.8</td>\n",
              "      <td>93.075</td>\n",
              "      <td>-47.1</td>\n",
              "      <td>1.405</td>\n",
              "      <td>5099.1</td>\n",
              "      <td>yes</td>\n",
              "    </tr>\n",
              "    <tr>\n",
              "      <th>3481</th>\n",
              "      <td>46</td>\n",
              "      <td>admin.</td>\n",
              "      <td>single</td>\n",
              "      <td>high.school</td>\n",
              "      <td>no</td>\n",
              "      <td>no</td>\n",
              "      <td>no</td>\n",
              "      <td>telephone</td>\n",
              "      <td>may</td>\n",
              "      <td>thu</td>\n",
              "      <td>78</td>\n",
              "      <td>4</td>\n",
              "      <td>999</td>\n",
              "      <td>0</td>\n",
              "      <td>nonexistent</td>\n",
              "      <td>1.1</td>\n",
              "      <td>93.994</td>\n",
              "      <td>-36.4</td>\n",
              "      <td>4.860</td>\n",
              "      <td>5191.0</td>\n",
              "      <td>no</td>\n",
              "    </tr>\n",
              "    <tr>\n",
              "      <th>12306</th>\n",
              "      <td>32</td>\n",
              "      <td>blue-collar</td>\n",
              "      <td>married</td>\n",
              "      <td>basic.6y</td>\n",
              "      <td>no</td>\n",
              "      <td>yes</td>\n",
              "      <td>no</td>\n",
              "      <td>telephone</td>\n",
              "      <td>jul</td>\n",
              "      <td>fri</td>\n",
              "      <td>133</td>\n",
              "      <td>1</td>\n",
              "      <td>999</td>\n",
              "      <td>0</td>\n",
              "      <td>nonexistent</td>\n",
              "      <td>1.4</td>\n",
              "      <td>93.918</td>\n",
              "      <td>-42.7</td>\n",
              "      <td>4.959</td>\n",
              "      <td>5228.1</td>\n",
              "      <td>no</td>\n",
              "    </tr>\n",
              "    <tr>\n",
              "      <th>34853</th>\n",
              "      <td>36</td>\n",
              "      <td>admin.</td>\n",
              "      <td>single</td>\n",
              "      <td>high.school</td>\n",
              "      <td>no</td>\n",
              "      <td>yes</td>\n",
              "      <td>yes</td>\n",
              "      <td>cellular</td>\n",
              "      <td>may</td>\n",
              "      <td>fri</td>\n",
              "      <td>10</td>\n",
              "      <td>5</td>\n",
              "      <td>999</td>\n",
              "      <td>0</td>\n",
              "      <td>nonexistent</td>\n",
              "      <td>-1.8</td>\n",
              "      <td>92.893</td>\n",
              "      <td>-46.2</td>\n",
              "      <td>1.250</td>\n",
              "      <td>5099.1</td>\n",
              "      <td>no</td>\n",
              "    </tr>\n",
              "    <tr>\n",
              "      <th>13416</th>\n",
              "      <td>34</td>\n",
              "      <td>admin.</td>\n",
              "      <td>married</td>\n",
              "      <td>university.degree</td>\n",
              "      <td>no</td>\n",
              "      <td>no</td>\n",
              "      <td>no</td>\n",
              "      <td>cellular</td>\n",
              "      <td>jul</td>\n",
              "      <td>wed</td>\n",
              "      <td>266</td>\n",
              "      <td>1</td>\n",
              "      <td>999</td>\n",
              "      <td>0</td>\n",
              "      <td>nonexistent</td>\n",
              "      <td>1.4</td>\n",
              "      <td>93.918</td>\n",
              "      <td>-42.7</td>\n",
              "      <td>4.962</td>\n",
              "      <td>5228.1</td>\n",
              "      <td>no</td>\n",
              "    </tr>\n",
              "  </tbody>\n",
              "</table>\n",
              "</div>\n",
              "      <button class=\"colab-df-convert\" onclick=\"convertToInteractive('df-d59e7985-ac08-4603-8bbc-5adc6f394def')\"\n",
              "              title=\"Convert this dataframe to an interactive table.\"\n",
              "              style=\"display:none;\">\n",
              "        \n",
              "  <svg xmlns=\"http://www.w3.org/2000/svg\" height=\"24px\"viewBox=\"0 0 24 24\"\n",
              "       width=\"24px\">\n",
              "    <path d=\"M0 0h24v24H0V0z\" fill=\"none\"/>\n",
              "    <path d=\"M18.56 5.44l.94 2.06.94-2.06 2.06-.94-2.06-.94-.94-2.06-.94 2.06-2.06.94zm-11 1L8.5 8.5l.94-2.06 2.06-.94-2.06-.94L8.5 2.5l-.94 2.06-2.06.94zm10 10l.94 2.06.94-2.06 2.06-.94-2.06-.94-.94-2.06-.94 2.06-2.06.94z\"/><path d=\"M17.41 7.96l-1.37-1.37c-.4-.4-.92-.59-1.43-.59-.52 0-1.04.2-1.43.59L10.3 9.45l-7.72 7.72c-.78.78-.78 2.05 0 2.83L4 21.41c.39.39.9.59 1.41.59.51 0 1.02-.2 1.41-.59l7.78-7.78 2.81-2.81c.8-.78.8-2.07 0-2.86zM5.41 20L4 18.59l7.72-7.72 1.47 1.35L5.41 20z\"/>\n",
              "  </svg>\n",
              "      </button>\n",
              "      \n",
              "  <style>\n",
              "    .colab-df-container {\n",
              "      display:flex;\n",
              "      flex-wrap:wrap;\n",
              "      gap: 12px;\n",
              "    }\n",
              "\n",
              "    .colab-df-convert {\n",
              "      background-color: #E8F0FE;\n",
              "      border: none;\n",
              "      border-radius: 50%;\n",
              "      cursor: pointer;\n",
              "      display: none;\n",
              "      fill: #1967D2;\n",
              "      height: 32px;\n",
              "      padding: 0 0 0 0;\n",
              "      width: 32px;\n",
              "    }\n",
              "\n",
              "    .colab-df-convert:hover {\n",
              "      background-color: #E2EBFA;\n",
              "      box-shadow: 0px 1px 2px rgba(60, 64, 67, 0.3), 0px 1px 3px 1px rgba(60, 64, 67, 0.15);\n",
              "      fill: #174EA6;\n",
              "    }\n",
              "\n",
              "    [theme=dark] .colab-df-convert {\n",
              "      background-color: #3B4455;\n",
              "      fill: #D2E3FC;\n",
              "    }\n",
              "\n",
              "    [theme=dark] .colab-df-convert:hover {\n",
              "      background-color: #434B5C;\n",
              "      box-shadow: 0px 1px 3px 1px rgba(0, 0, 0, 0.15);\n",
              "      filter: drop-shadow(0px 1px 2px rgba(0, 0, 0, 0.3));\n",
              "      fill: #FFFFFF;\n",
              "    }\n",
              "  </style>\n",
              "\n",
              "      <script>\n",
              "        const buttonEl =\n",
              "          document.querySelector('#df-d59e7985-ac08-4603-8bbc-5adc6f394def button.colab-df-convert');\n",
              "        buttonEl.style.display =\n",
              "          google.colab.kernel.accessAllowed ? 'block' : 'none';\n",
              "\n",
              "        async function convertToInteractive(key) {\n",
              "          const element = document.querySelector('#df-d59e7985-ac08-4603-8bbc-5adc6f394def');\n",
              "          const dataTable =\n",
              "            await google.colab.kernel.invokeFunction('convertToInteractive',\n",
              "                                                     [key], {});\n",
              "          if (!dataTable) return;\n",
              "\n",
              "          const docLinkHtml = 'Like what you see? Visit the ' +\n",
              "            '<a target=\"_blank\" href=https://colab.research.google.com/notebooks/data_table.ipynb>data table notebook</a>'\n",
              "            + ' to learn more about interactive tables.';\n",
              "          element.innerHTML = '';\n",
              "          dataTable['output_type'] = 'display_data';\n",
              "          await google.colab.output.renderOutput(dataTable, element);\n",
              "          const docLink = document.createElement('div');\n",
              "          docLink.innerHTML = docLinkHtml;\n",
              "          element.appendChild(docLink);\n",
              "        }\n",
              "      </script>\n",
              "    </div>\n",
              "  </div>\n",
              "  "
            ],
            "text/plain": [
              "       age          job  marital  ... euribor3m nr.employed    y\n",
              "30019   23       admin.   single  ...     1.405      5099.1  yes\n",
              "3481    46       admin.   single  ...     4.860      5191.0   no\n",
              "12306   32  blue-collar  married  ...     4.959      5228.1   no\n",
              "34853   36       admin.   single  ...     1.250      5099.1   no\n",
              "13416   34       admin.  married  ...     4.962      5228.1   no\n",
              "\n",
              "[5 rows x 21 columns]"
            ]
          },
          "metadata": {},
          "execution_count": 3
        }
      ]
    },
    {
      "cell_type": "markdown",
      "source": [
        "Before we continue, here is the data description by the data provider: https://archive.ics.uci.edu/ml/datasets/Bank+Marketing\n",
        "\n",
        "Important note to take:\n",
        "1. Call duration highly impact the model outcome (example duration = 0  will lead to 'No'), yet there's no way to know about it until the call ended, and by the time the call ended, we already know about the result, so this needs to be discarded if we want to build it realistically\n",
        "2. As such, we will discard that column immediately. This model will assume that user will not input duration data. \n",
        "3. Note that in some columns, there are value such as 'unknown', 'nonexistent', and 999. We can safely assume that the missing data is already handled in this way"
      ],
      "metadata": {
        "id": "mw6eygOVrU3G"
      }
    },
    {
      "cell_type": "code",
      "source": [
        "df.drop(columns='duration', inplace=True)"
      ],
      "metadata": {
        "id": "keIiDWJeAiuf"
      },
      "execution_count": 4,
      "outputs": []
    },
    {
      "cell_type": "markdown",
      "source": [
        "## EDA"
      ],
      "metadata": {
        "id": "XrUZDm9vBGXW"
      }
    },
    {
      "cell_type": "code",
      "source": [
        "df.isnull().sum()"
      ],
      "metadata": {
        "colab": {
          "base_uri": "https://localhost:8080/"
        },
        "id": "PmxMGhKsYOnN",
        "outputId": "1ee358f6-cc7a-443c-a7b3-8ba2d864cc43"
      },
      "execution_count": 5,
      "outputs": [
        {
          "output_type": "execute_result",
          "data": {
            "text/plain": [
              "age               0\n",
              "job               0\n",
              "marital           0\n",
              "education         0\n",
              "default           0\n",
              "housing           0\n",
              "loan              0\n",
              "contact           0\n",
              "month             0\n",
              "day_of_week       0\n",
              "campaign          0\n",
              "pdays             0\n",
              "previous          0\n",
              "poutcome          0\n",
              "emp.var.rate      0\n",
              "cons.price.idx    0\n",
              "cons.conf.idx     0\n",
              "euribor3m         0\n",
              "nr.employed       0\n",
              "y                 0\n",
              "dtype: int64"
            ]
          },
          "metadata": {},
          "execution_count": 5
        }
      ]
    },
    {
      "cell_type": "markdown",
      "source": [
        "This confirms the assumption, we are good with no missing data need to be handled"
      ],
      "metadata": {
        "id": "qts2WD3MqjXx"
      }
    },
    {
      "cell_type": "markdown",
      "source": [
        "Now, let's check the data distribution"
      ],
      "metadata": {
        "id": "ZicAtJLTA5Pd"
      }
    },
    {
      "cell_type": "code",
      "source": [
        "df.describe()"
      ],
      "metadata": {
        "id": "fxKgJyFVDEep",
        "colab": {
          "base_uri": "https://localhost:8080/",
          "height": 364
        },
        "outputId": "dd2261fb-8aaf-470c-8e9d-4e73dad57250"
      },
      "execution_count": 49,
      "outputs": [
        {
          "output_type": "execute_result",
          "data": {
            "text/html": [
              "\n",
              "  <div id=\"df-d001e42e-c720-4318-b565-e12dfb138767\">\n",
              "    <div class=\"colab-df-container\">\n",
              "      <div>\n",
              "<style scoped>\n",
              "    .dataframe tbody tr th:only-of-type {\n",
              "        vertical-align: middle;\n",
              "    }\n",
              "\n",
              "    .dataframe tbody tr th {\n",
              "        vertical-align: top;\n",
              "    }\n",
              "\n",
              "    .dataframe thead th {\n",
              "        text-align: right;\n",
              "    }\n",
              "</style>\n",
              "<table border=\"1\" class=\"dataframe\">\n",
              "  <thead>\n",
              "    <tr style=\"text-align: right;\">\n",
              "      <th></th>\n",
              "      <th>age</th>\n",
              "      <th>campaign</th>\n",
              "      <th>pdays</th>\n",
              "      <th>previous</th>\n",
              "      <th>emp.var.rate</th>\n",
              "      <th>cons.price.idx</th>\n",
              "      <th>cons.conf.idx</th>\n",
              "      <th>euribor3m</th>\n",
              "      <th>nr.employed</th>\n",
              "    </tr>\n",
              "  </thead>\n",
              "  <tbody>\n",
              "    <tr>\n",
              "      <th>count</th>\n",
              "      <td>41188.00000</td>\n",
              "      <td>41188.000000</td>\n",
              "      <td>41188.000000</td>\n",
              "      <td>41188.000000</td>\n",
              "      <td>41188.000000</td>\n",
              "      <td>41188.000000</td>\n",
              "      <td>41188.000000</td>\n",
              "      <td>41188.000000</td>\n",
              "      <td>41188.000000</td>\n",
              "    </tr>\n",
              "    <tr>\n",
              "      <th>mean</th>\n",
              "      <td>40.02406</td>\n",
              "      <td>2.567593</td>\n",
              "      <td>962.475454</td>\n",
              "      <td>0.172963</td>\n",
              "      <td>0.081886</td>\n",
              "      <td>93.575664</td>\n",
              "      <td>-40.502600</td>\n",
              "      <td>3.621291</td>\n",
              "      <td>5167.035911</td>\n",
              "    </tr>\n",
              "    <tr>\n",
              "      <th>std</th>\n",
              "      <td>10.42125</td>\n",
              "      <td>2.770014</td>\n",
              "      <td>186.910907</td>\n",
              "      <td>0.494901</td>\n",
              "      <td>1.570960</td>\n",
              "      <td>0.578840</td>\n",
              "      <td>4.628198</td>\n",
              "      <td>1.734447</td>\n",
              "      <td>72.251528</td>\n",
              "    </tr>\n",
              "    <tr>\n",
              "      <th>min</th>\n",
              "      <td>17.00000</td>\n",
              "      <td>1.000000</td>\n",
              "      <td>0.000000</td>\n",
              "      <td>0.000000</td>\n",
              "      <td>-3.400000</td>\n",
              "      <td>92.201000</td>\n",
              "      <td>-50.800000</td>\n",
              "      <td>0.634000</td>\n",
              "      <td>4963.600000</td>\n",
              "    </tr>\n",
              "    <tr>\n",
              "      <th>25%</th>\n",
              "      <td>32.00000</td>\n",
              "      <td>1.000000</td>\n",
              "      <td>999.000000</td>\n",
              "      <td>0.000000</td>\n",
              "      <td>-1.800000</td>\n",
              "      <td>93.075000</td>\n",
              "      <td>-42.700000</td>\n",
              "      <td>1.344000</td>\n",
              "      <td>5099.100000</td>\n",
              "    </tr>\n",
              "    <tr>\n",
              "      <th>50%</th>\n",
              "      <td>38.00000</td>\n",
              "      <td>2.000000</td>\n",
              "      <td>999.000000</td>\n",
              "      <td>0.000000</td>\n",
              "      <td>1.100000</td>\n",
              "      <td>93.749000</td>\n",
              "      <td>-41.800000</td>\n",
              "      <td>4.857000</td>\n",
              "      <td>5191.000000</td>\n",
              "    </tr>\n",
              "    <tr>\n",
              "      <th>75%</th>\n",
              "      <td>47.00000</td>\n",
              "      <td>3.000000</td>\n",
              "      <td>999.000000</td>\n",
              "      <td>0.000000</td>\n",
              "      <td>1.400000</td>\n",
              "      <td>93.994000</td>\n",
              "      <td>-36.400000</td>\n",
              "      <td>4.961000</td>\n",
              "      <td>5228.100000</td>\n",
              "    </tr>\n",
              "    <tr>\n",
              "      <th>max</th>\n",
              "      <td>98.00000</td>\n",
              "      <td>56.000000</td>\n",
              "      <td>999.000000</td>\n",
              "      <td>7.000000</td>\n",
              "      <td>1.400000</td>\n",
              "      <td>94.767000</td>\n",
              "      <td>-26.900000</td>\n",
              "      <td>5.045000</td>\n",
              "      <td>5228.100000</td>\n",
              "    </tr>\n",
              "  </tbody>\n",
              "</table>\n",
              "</div>\n",
              "      <button class=\"colab-df-convert\" onclick=\"convertToInteractive('df-d001e42e-c720-4318-b565-e12dfb138767')\"\n",
              "              title=\"Convert this dataframe to an interactive table.\"\n",
              "              style=\"display:none;\">\n",
              "        \n",
              "  <svg xmlns=\"http://www.w3.org/2000/svg\" height=\"24px\"viewBox=\"0 0 24 24\"\n",
              "       width=\"24px\">\n",
              "    <path d=\"M0 0h24v24H0V0z\" fill=\"none\"/>\n",
              "    <path d=\"M18.56 5.44l.94 2.06.94-2.06 2.06-.94-2.06-.94-.94-2.06-.94 2.06-2.06.94zm-11 1L8.5 8.5l.94-2.06 2.06-.94-2.06-.94L8.5 2.5l-.94 2.06-2.06.94zm10 10l.94 2.06.94-2.06 2.06-.94-2.06-.94-.94-2.06-.94 2.06-2.06.94z\"/><path d=\"M17.41 7.96l-1.37-1.37c-.4-.4-.92-.59-1.43-.59-.52 0-1.04.2-1.43.59L10.3 9.45l-7.72 7.72c-.78.78-.78 2.05 0 2.83L4 21.41c.39.39.9.59 1.41.59.51 0 1.02-.2 1.41-.59l7.78-7.78 2.81-2.81c.8-.78.8-2.07 0-2.86zM5.41 20L4 18.59l7.72-7.72 1.47 1.35L5.41 20z\"/>\n",
              "  </svg>\n",
              "      </button>\n",
              "      \n",
              "  <style>\n",
              "    .colab-df-container {\n",
              "      display:flex;\n",
              "      flex-wrap:wrap;\n",
              "      gap: 12px;\n",
              "    }\n",
              "\n",
              "    .colab-df-convert {\n",
              "      background-color: #E8F0FE;\n",
              "      border: none;\n",
              "      border-radius: 50%;\n",
              "      cursor: pointer;\n",
              "      display: none;\n",
              "      fill: #1967D2;\n",
              "      height: 32px;\n",
              "      padding: 0 0 0 0;\n",
              "      width: 32px;\n",
              "    }\n",
              "\n",
              "    .colab-df-convert:hover {\n",
              "      background-color: #E2EBFA;\n",
              "      box-shadow: 0px 1px 2px rgba(60, 64, 67, 0.3), 0px 1px 3px 1px rgba(60, 64, 67, 0.15);\n",
              "      fill: #174EA6;\n",
              "    }\n",
              "\n",
              "    [theme=dark] .colab-df-convert {\n",
              "      background-color: #3B4455;\n",
              "      fill: #D2E3FC;\n",
              "    }\n",
              "\n",
              "    [theme=dark] .colab-df-convert:hover {\n",
              "      background-color: #434B5C;\n",
              "      box-shadow: 0px 1px 3px 1px rgba(0, 0, 0, 0.15);\n",
              "      filter: drop-shadow(0px 1px 2px rgba(0, 0, 0, 0.3));\n",
              "      fill: #FFFFFF;\n",
              "    }\n",
              "  </style>\n",
              "\n",
              "      <script>\n",
              "        const buttonEl =\n",
              "          document.querySelector('#df-d001e42e-c720-4318-b565-e12dfb138767 button.colab-df-convert');\n",
              "        buttonEl.style.display =\n",
              "          google.colab.kernel.accessAllowed ? 'block' : 'none';\n",
              "\n",
              "        async function convertToInteractive(key) {\n",
              "          const element = document.querySelector('#df-d001e42e-c720-4318-b565-e12dfb138767');\n",
              "          const dataTable =\n",
              "            await google.colab.kernel.invokeFunction('convertToInteractive',\n",
              "                                                     [key], {});\n",
              "          if (!dataTable) return;\n",
              "\n",
              "          const docLinkHtml = 'Like what you see? Visit the ' +\n",
              "            '<a target=\"_blank\" href=https://colab.research.google.com/notebooks/data_table.ipynb>data table notebook</a>'\n",
              "            + ' to learn more about interactive tables.';\n",
              "          element.innerHTML = '';\n",
              "          dataTable['output_type'] = 'display_data';\n",
              "          await google.colab.output.renderOutput(dataTable, element);\n",
              "          const docLink = document.createElement('div');\n",
              "          docLink.innerHTML = docLinkHtml;\n",
              "          element.appendChild(docLink);\n",
              "        }\n",
              "      </script>\n",
              "    </div>\n",
              "  </div>\n",
              "  "
            ],
            "text/plain": [
              "               age      campaign  ...     euribor3m   nr.employed\n",
              "count  41188.00000  41188.000000  ...  41188.000000  41188.000000\n",
              "mean      40.02406      2.567593  ...      3.621291   5167.035911\n",
              "std       10.42125      2.770014  ...      1.734447     72.251528\n",
              "min       17.00000      1.000000  ...      0.634000   4963.600000\n",
              "25%       32.00000      1.000000  ...      1.344000   5099.100000\n",
              "50%       38.00000      2.000000  ...      4.857000   5191.000000\n",
              "75%       47.00000      3.000000  ...      4.961000   5228.100000\n",
              "max       98.00000     56.000000  ...      5.045000   5228.100000\n",
              "\n",
              "[8 rows x 9 columns]"
            ]
          },
          "metadata": {},
          "execution_count": 49
        }
      ]
    },
    {
      "cell_type": "code",
      "source": [
        "df.hist(bins=50, figsize=(21,21))"
      ],
      "metadata": {
        "colab": {
          "base_uri": "https://localhost:8080/",
          "height": 1000
        },
        "id": "HlgxHfS3ZeKw",
        "outputId": "fc81debb-d5b7-43d6-9785-adb1be2ce3aa"
      },
      "execution_count": 8,
      "outputs": [
        {
          "output_type": "execute_result",
          "data": {
            "text/plain": [
              "array([[<matplotlib.axes._subplots.AxesSubplot object at 0x7f28aef2ee50>,\n",
              "        <matplotlib.axes._subplots.AxesSubplot object at 0x7f28aef18510>,\n",
              "        <matplotlib.axes._subplots.AxesSubplot object at 0x7f28aef0edd0>],\n",
              "       [<matplotlib.axes._subplots.AxesSubplot object at 0x7f28aeed1410>,\n",
              "        <matplotlib.axes._subplots.AxesSubplot object at 0x7f28aee87a10>,\n",
              "        <matplotlib.axes._subplots.AxesSubplot object at 0x7f28aee3ffd0>],\n",
              "       [<matplotlib.axes._subplots.AxesSubplot object at 0x7f28aee006d0>,\n",
              "        <matplotlib.axes._subplots.AxesSubplot object at 0x7f28aedb7c10>,\n",
              "        <matplotlib.axes._subplots.AxesSubplot object at 0x7f28aedb7c50>]],\n",
              "      dtype=object)"
            ]
          },
          "metadata": {},
          "execution_count": 8
        },
        {
          "output_type": "display_data",
          "data": {
            "image/png": "[encoded data removed]",
            "text/plain": [
              "<Figure size 1512x1512 with 9 Axes>"
            ]
          },
          "metadata": {
            "needs_background": "light"
          }
        }
      ]
    },
    {
      "cell_type": "code",
      "source": [
        "df.plot(kind='box', figsize=(15,15))"
      ],
      "metadata": {
        "colab": {
          "base_uri": "https://localhost:8080/",
          "height": 901
        },
        "id": "sO7i1rPFZtnK",
        "outputId": "11fc263c-d673-4e04-9723-024eea0703e9"
      },
      "execution_count": 9,
      "outputs": [
        {
          "output_type": "execute_result",
          "data": {
            "text/plain": [
              "<matplotlib.axes._subplots.AxesSubplot at 0x7f28ae5a0f50>"
            ]
          },
          "metadata": {},
          "execution_count": 9
        },
        {
          "output_type": "display_data",
          "data": {
            "image/png": "[encoded data removed]",
            "text/plain": [
              "<Figure size 1080x1080 with 1 Axes>"
            ]
          },
          "metadata": {
            "needs_background": "light"
          }
        }
      ]
    },
    {
      "cell_type": "markdown",
      "source": [
        "We can't see much here due to pdays and nr.employed. Let's see how the viz view without them"
      ],
      "metadata": {
        "id": "gHsfpzJ2AhEM"
      }
    },
    {
      "cell_type": "code",
      "source": [
        "df.drop(columns=['pdays', 'nr.employed']).plot(kind='box', figsize=(15,15))"
      ],
      "metadata": {
        "colab": {
          "base_uri": "https://localhost:8080/",
          "height": 859
        },
        "id": "R8fzM9XTBJ_f",
        "outputId": "7682ce9e-49e3-4cde-ee74-9e0901fcc33f"
      },
      "execution_count": 10,
      "outputs": [
        {
          "output_type": "execute_result",
          "data": {
            "text/plain": [
              "<matplotlib.axes._subplots.AxesSubplot at 0x7f28accef990>"
            ]
          },
          "metadata": {},
          "execution_count": 10
        },
        {
          "output_type": "display_data",
          "data": {
            "image/png": "[encoded data removed]",
            "text/plain": [
              "<Figure size 1080x1080 with 1 Axes>"
            ]
          },
          "metadata": {
            "needs_background": "light"
          }
        }
      ]
    },
    {
      "cell_type": "markdown",
      "source": [
        "A few notes regarding the visualization and describe:\n",
        "1. We know that pdays 999 is code for no contact and yet it fills most of the data. Winsorizer will only \"caps\" the data at 999, so that's not quite the solution\n",
        "\n",
        "2. At least 75% of the \"previous\" column contain 0 values, but the other numbers might have useful information so we don't do anything with this column\n",
        "\n",
        "3. As such, our decision is to not doing any outlier handling to keep this piece of information\n",
        "\n",
        "4. We'll use the MinMaxScaler to preprocess all numeric model"
      ],
      "metadata": {
        "id": "eVGDy8JLqY58"
      }
    },
    {
      "cell_type": "markdown",
      "source": [
        "## Train-Test-Split + Pipeline Definition"
      ],
      "metadata": {
        "id": "J5YzzuOiCHPd"
      }
    },
    {
      "cell_type": "code",
      "source": [
        "X = df.drop(columns='y')\n",
        "y = df['y']"
      ],
      "metadata": {
        "id": "9mtUjtXCqN_H"
      },
      "execution_count": 11,
      "outputs": []
    },
    {
      "cell_type": "code",
      "source": [
        "X_train, X_test, y_train, y_test = train_test_split(X, y, test_size=0.2, random_state=42)"
      ],
      "metadata": {
        "id": "DbUnmCYmLEbY"
      },
      "execution_count": 12,
      "outputs": []
    },
    {
      "cell_type": "markdown",
      "source": [
        "After we get the training data, we'll split into numerical and categorical:"
      ],
      "metadata": {
        "id": "Hj391ZJzOLwr"
      }
    },
    {
      "cell_type": "code",
      "source": [
        "bank_num_tr = X_train.select_dtypes(include=[np.number])\n",
        "bank_cat_tr = X_train.drop(columns=bank_num_tr.columns.tolist())\n"
      ],
      "metadata": {
        "id": "4lEe6EtxLa-0"
      },
      "execution_count": 14,
      "outputs": []
    },
    {
      "cell_type": "markdown",
      "source": [
        "Defining the numerical pipeline:"
      ],
      "metadata": {
        "id": "YgTX-kq7BNcz"
      }
    },
    {
      "cell_type": "code",
      "source": [
        "num_pipeline = Pipeline([\n",
        "              ('mmax_scaler', MinMaxScaler())\n",
        "])"
      ],
      "metadata": {
        "id": "TKCRP0LpXJHM"
      },
      "execution_count": 13,
      "outputs": []
    },
    {
      "cell_type": "code",
      "source": [
        ""
      ],
      "metadata": {
        "id": "RcHAsDFgBZno"
      },
      "execution_count": null,
      "outputs": []
    },
    {
      "cell_type": "markdown",
      "source": [
        "In defining categorical pipeline, we should consider what will the pipeline do when it detect new value on test data that weren't on train data. \n",
        "\n",
        "On our One Hot Encoder, we'll ignore that value, making the whole label 0"
      ],
      "metadata": {
        "id": "mTsnQYA_BaDN"
      }
    },
    {
      "cell_type": "code",
      "source": [
        "ohe = OneHotEncoder(sparse=False, handle_unknown='ignore')"
      ],
      "metadata": {
        "id": "puPONHu3auQn"
      },
      "execution_count": 50,
      "outputs": []
    },
    {
      "cell_type": "markdown",
      "source": [
        "On our Ordinal Encoder, we'll encode the custom value of 1 + highest number of unique in a category"
      ],
      "metadata": {
        "id": "yjewz6-3Bv0C"
      }
    },
    {
      "cell_type": "code",
      "source": [
        "for col in bank_cat_tr:\n",
        "    print(f'{col}: ', bank_cat_tr[col].nunique())\n",
        "le = OrdinalEncoder(handle_unknown = 'use_encoded_value', unknown_value = 13)"
      ],
      "metadata": {
        "colab": {
          "base_uri": "https://localhost:8080/"
        },
        "id": "4G8QguMT0cGz",
        "outputId": "2161ff88-f5cd-4dc0-d55a-d510ecec75e6"
      },
      "execution_count": 15,
      "outputs": [
        {
          "output_type": "stream",
          "name": "stdout",
          "text": [
            "job:  12\n",
            "marital:  4\n",
            "education:  8\n",
            "default:  3\n",
            "housing:  3\n",
            "loan:  3\n",
            "contact:  2\n",
            "month:  10\n",
            "day_of_week:  5\n",
            "poutcome:  3\n"
          ]
        }
      ]
    },
    {
      "cell_type": "markdown",
      "source": [
        "Next we build the full pipeline with numerical and categorical data combined"
      ],
      "metadata": {
        "id": "Xh4SL9cXB6Rx"
      }
    },
    {
      "cell_type": "code",
      "source": [
        "num_attribs = list(bank_num_tr)\n",
        "cat_attribs = list(bank_cat_tr)\n",
        "\n",
        "full_pipeline = ColumnTransformer([\n",
        "        (\"num\", num_pipeline, num_attribs),\n",
        "        (\"cat\", ohe, cat_attribs),\n",
        "    ])\n",
        "#X_train_prepared = full_pipeline.fit_transform(X_train)"
      ],
      "metadata": {
        "id": "jP1qS0nIHbTW"
      },
      "execution_count": 17,
      "outputs": []
    },
    {
      "cell_type": "markdown",
      "source": [
        "We define our f1 scorer with modified positive label (\"yes\" instead of 1) here"
      ],
      "metadata": {
        "id": "KbPKNtNoAV7-"
      }
    },
    {
      "cell_type": "code",
      "source": [
        "f1_scorer = make_scorer(f1_score, pos_label=\"yes\")"
      ],
      "metadata": {
        "id": "5U0cdO-9VNHI"
      },
      "execution_count": 19,
      "outputs": []
    },
    {
      "cell_type": "markdown",
      "source": [
        "In our analysis of score, we wanted to minimize the \"yes\" that is predicted as \"no\", as we'll lose our potential customers. That means aside from f1-score, we focus on getting the highest recall on \"yes\"\n",
        "\n",
        "For all models, we wanted to compare using one hot encoder and ordinal encoder to see the if all models should be using one-hot-encoder, and the time tradeoff on each model"
      ],
      "metadata": {
        "id": "cimyQUvD_jxH"
      }
    },
    {
      "cell_type": "markdown",
      "source": [
        "For the 2nd parameter tuning, we will be using:\n",
        "1. Logistic Regression: C = 1 or 10\n",
        "2. SVM Classifier: C = 1 or 10\n",
        "3. Decision Tree Classifier: criterion = 'gini' or 'entropy'\n",
        "4. Random Forest Classifier: criterion = 'gini' or 'entropy'\n",
        "5. kNN Classifier: n_neighbors = 3 or 5\n",
        "6. Naive Bayes Classifier: var_smoothing = 1e-8 or 1e-09\n",
        "7. LightGBM: n_estimators = 50 or 200"
      ],
      "metadata": {
        "id": "ex0NnOUp_sl-"
      }
    },
    {
      "cell_type": "markdown",
      "source": [
        "## 1. Logistic Regression"
      ],
      "metadata": {
        "id": "ZdRJkbGzEfLe"
      }
    },
    {
      "cell_type": "code",
      "source": [
        "%%time\n",
        "lgc_pipeline = Pipeline([(\"pipe\", full_pipeline),\n",
        "                         (\"lgc\", LogisticRegression(max_iter=10000, random_state=42))])\n",
        "\n",
        "param_grid_lgc = [\n",
        "    {\n",
        "      'pipe__cat':[ohe,le],\n",
        "      'lgc__C': [1, 10]\n",
        "    }]\n",
        "\n",
        "grid_lgc = GridSearchCV(lgc_pipeline, param_grid_lgc, cv=5, error_score='raise', \n",
        "                        scoring = f1_scorer, return_train_score = True, n_jobs=-1)\n",
        "grid_lgc.fit(X_train, y_train)"
      ],
      "metadata": {
        "colab": {
          "base_uri": "https://localhost:8080/"
        },
        "id": "oGsVLgYxIo6v",
        "outputId": "6fee8bcf-0cf6-4f0a-d0d6-3e2870f1e692"
      },
      "execution_count": 20,
      "outputs": [
        {
          "output_type": "stream",
          "name": "stdout",
          "text": [
            "CPU times: user 4.83 s, sys: 1.61 s, total: 6.44 s\n",
            "Wall time: 49.1 s\n"
          ]
        }
      ]
    },
    {
      "cell_type": "code",
      "source": [
        "lgc_res = pd.DataFrame(grid_lgc.cv_results_)\n",
        "lgc_res[['mean_fit_time', 'params', 'mean_test_score', 'std_test_score', 'rank_test_score']].sort_values(by=['rank_test_score'])"
      ],
      "metadata": {
        "colab": {
          "base_uri": "https://localhost:8080/",
          "height": 219
        },
        "id": "we3v2fhHVZGs",
        "outputId": "0a41c6f9-2472-4d7b-fece-f3ca8385f3d4"
      },
      "execution_count": 21,
      "outputs": [
        {
          "output_type": "execute_result",
          "data": {
            "text/html": [
              "\n",
              "  <div id=\"df-4bd0ad09-4443-4539-baf3-a159aeb21e94\">\n",
              "    <div class=\"colab-df-container\">\n",
              "      <div>\n",
              "<style scoped>\n",
              "    .dataframe tbody tr th:only-of-type {\n",
              "        vertical-align: middle;\n",
              "    }\n",
              "\n",
              "    .dataframe tbody tr th {\n",
              "        vertical-align: top;\n",
              "    }\n",
              "\n",
              "    .dataframe thead th {\n",
              "        text-align: right;\n",
              "    }\n",
              "</style>\n",
              "<table border=\"1\" class=\"dataframe\">\n",
              "  <thead>\n",
              "    <tr style=\"text-align: right;\">\n",
              "      <th></th>\n",
              "      <th>mean_fit_time</th>\n",
              "      <th>params</th>\n",
              "      <th>mean_test_score</th>\n",
              "      <th>std_test_score</th>\n",
              "      <th>rank_test_score</th>\n",
              "    </tr>\n",
              "  </thead>\n",
              "  <tbody>\n",
              "    <tr>\n",
              "      <th>2</th>\n",
              "      <td>4.533694</td>\n",
              "      <td>{'lgc__C': 10, 'pipe__cat': OneHotEncoder(hand...</td>\n",
              "      <td>0.343402</td>\n",
              "      <td>0.012265</td>\n",
              "      <td>1</td>\n",
              "    </tr>\n",
              "    <tr>\n",
              "      <th>0</th>\n",
              "      <td>3.300035</td>\n",
              "      <td>{'lgc__C': 1, 'pipe__cat': OneHotEncoder(handl...</td>\n",
              "      <td>0.341777</td>\n",
              "      <td>0.010646</td>\n",
              "      <td>2</td>\n",
              "    </tr>\n",
              "    <tr>\n",
              "      <th>3</th>\n",
              "      <td>1.857729</td>\n",
              "      <td>{'lgc__C': 10, 'pipe__cat': OrdinalEncoder(han...</td>\n",
              "      <td>0.340420</td>\n",
              "      <td>0.015183</td>\n",
              "      <td>3</td>\n",
              "    </tr>\n",
              "    <tr>\n",
              "      <th>1</th>\n",
              "      <td>3.248996</td>\n",
              "      <td>{'lgc__C': 1, 'pipe__cat': OrdinalEncoder(hand...</td>\n",
              "      <td>0.335665</td>\n",
              "      <td>0.014097</td>\n",
              "      <td>4</td>\n",
              "    </tr>\n",
              "  </tbody>\n",
              "</table>\n",
              "</div>\n",
              "      <button class=\"colab-df-convert\" onclick=\"convertToInteractive('df-4bd0ad09-4443-4539-baf3-a159aeb21e94')\"\n",
              "              title=\"Convert this dataframe to an interactive table.\"\n",
              "              style=\"display:none;\">\n",
              "        \n",
              "  <svg xmlns=\"http://www.w3.org/2000/svg\" height=\"24px\"viewBox=\"0 0 24 24\"\n",
              "       width=\"24px\">\n",
              "    <path d=\"M0 0h24v24H0V0z\" fill=\"none\"/>\n",
              "    <path d=\"M18.56 5.44l.94 2.06.94-2.06 2.06-.94-2.06-.94-.94-2.06-.94 2.06-2.06.94zm-11 1L8.5 8.5l.94-2.06 2.06-.94-2.06-.94L8.5 2.5l-.94 2.06-2.06.94zm10 10l.94 2.06.94-2.06 2.06-.94-2.06-.94-.94-2.06-.94 2.06-2.06.94z\"/><path d=\"M17.41 7.96l-1.37-1.37c-.4-.4-.92-.59-1.43-.59-.52 0-1.04.2-1.43.59L10.3 9.45l-7.72 7.72c-.78.78-.78 2.05 0 2.83L4 21.41c.39.39.9.59 1.41.59.51 0 1.02-.2 1.41-.59l7.78-7.78 2.81-2.81c.8-.78.8-2.07 0-2.86zM5.41 20L4 18.59l7.72-7.72 1.47 1.35L5.41 20z\"/>\n",
              "  </svg>\n",
              "      </button>\n",
              "      \n",
              "  <style>\n",
              "    .colab-df-container {\n",
              "      display:flex;\n",
              "      flex-wrap:wrap;\n",
              "      gap: 12px;\n",
              "    }\n",
              "\n",
              "    .colab-df-convert {\n",
              "      background-color: #E8F0FE;\n",
              "      border: none;\n",
              "      border-radius: 50%;\n",
              "      cursor: pointer;\n",
              "      display: none;\n",
              "      fill: #1967D2;\n",
              "      height: 32px;\n",
              "      padding: 0 0 0 0;\n",
              "      width: 32px;\n",
              "    }\n",
              "\n",
              "    .colab-df-convert:hover {\n",
              "      background-color: #E2EBFA;\n",
              "      box-shadow: 0px 1px 2px rgba(60, 64, 67, 0.3), 0px 1px 3px 1px rgba(60, 64, 67, 0.15);\n",
              "      fill: #174EA6;\n",
              "    }\n",
              "\n",
              "    [theme=dark] .colab-df-convert {\n",
              "      background-color: #3B4455;\n",
              "      fill: #D2E3FC;\n",
              "    }\n",
              "\n",
              "    [theme=dark] .colab-df-convert:hover {\n",
              "      background-color: #434B5C;\n",
              "      box-shadow: 0px 1px 3px 1px rgba(0, 0, 0, 0.15);\n",
              "      filter: drop-shadow(0px 1px 2px rgba(0, 0, 0, 0.3));\n",
              "      fill: #FFFFFF;\n",
              "    }\n",
              "  </style>\n",
              "\n",
              "      <script>\n",
              "        const buttonEl =\n",
              "          document.querySelector('#df-4bd0ad09-4443-4539-baf3-a159aeb21e94 button.colab-df-convert');\n",
              "        buttonEl.style.display =\n",
              "          google.colab.kernel.accessAllowed ? 'block' : 'none';\n",
              "\n",
              "        async function convertToInteractive(key) {\n",
              "          const element = document.querySelector('#df-4bd0ad09-4443-4539-baf3-a159aeb21e94');\n",
              "          const dataTable =\n",
              "            await google.colab.kernel.invokeFunction('convertToInteractive',\n",
              "                                                     [key], {});\n",
              "          if (!dataTable) return;\n",
              "\n",
              "          const docLinkHtml = 'Like what you see? Visit the ' +\n",
              "            '<a target=\"_blank\" href=https://colab.research.google.com/notebooks/data_table.ipynb>data table notebook</a>'\n",
              "            + ' to learn more about interactive tables.';\n",
              "          element.innerHTML = '';\n",
              "          dataTable['output_type'] = 'display_data';\n",
              "          await google.colab.output.renderOutput(dataTable, element);\n",
              "          const docLink = document.createElement('div');\n",
              "          docLink.innerHTML = docLinkHtml;\n",
              "          element.appendChild(docLink);\n",
              "        }\n",
              "      </script>\n",
              "    </div>\n",
              "  </div>\n",
              "  "
            ],
            "text/plain": [
              "   mean_fit_time  ... rank_test_score\n",
              "2       4.533694  ...               1\n",
              "0       3.300035  ...               2\n",
              "3       1.857729  ...               3\n",
              "1       3.248996  ...               4\n",
              "\n",
              "[4 rows x 5 columns]"
            ]
          },
          "metadata": {},
          "execution_count": 21
        }
      ]
    },
    {
      "cell_type": "markdown",
      "source": [
        "Our logistic regression models performance are almost the same, with C=10 and using OneHotEncoder worked the best. The time used to perform the OneHotEncoder is the longest, but it's still less than 10 seconds in average"
      ],
      "metadata": {
        "id": "KvbYjeFj_c-f"
      }
    },
    {
      "cell_type": "markdown",
      "source": [
        "Our logistic regression models performance are almost the same, with C=10 and using OneHotEncoder worked the best. The time used to perform the OneHotEncoder is the longest, but it took only seconds "
      ],
      "metadata": {
        "id": "ai29R34T3PRf"
      }
    },
    {
      "cell_type": "code",
      "source": [
        "y_pred = grid_lgc.predict(X_test)\n",
        "print(classification_report(y_test, y_pred))"
      ],
      "metadata": {
        "colab": {
          "base_uri": "https://localhost:8080/"
        },
        "id": "_HD6VQBRNPl6",
        "outputId": "258be80a-3a8d-42c7-db10-7fb4cffd1f85"
      },
      "execution_count": 22,
      "outputs": [
        {
          "output_type": "stream",
          "name": "stdout",
          "text": [
            "              precision    recall  f1-score   support\n",
            "\n",
            "          no       0.91      0.98      0.94      7303\n",
            "         yes       0.64      0.21      0.32       935\n",
            "\n",
            "    accuracy                           0.90      8238\n",
            "   macro avg       0.77      0.60      0.63      8238\n",
            "weighted avg       0.88      0.90      0.87      8238\n",
            "\n"
          ]
        }
      ]
    },
    {
      "cell_type": "markdown",
      "source": [
        "This model performs well in predicting \"no\" label, but performs poorly in \"yes\". The recall for \"yes\" label is only 0.21. Overall f1 macro score for this model is 0.63"
      ],
      "metadata": {
        "id": "2nd-PX19_Z1x"
      }
    },
    {
      "cell_type": "markdown",
      "source": [
        "##2. Support Vector Machine"
      ],
      "metadata": {
        "id": "K42IFVQqElpa"
      }
    },
    {
      "cell_type": "code",
      "source": [
        "%%time\n",
        "svc_pipeline = Pipeline([(\"pipe\", full_pipeline),\n",
        "                         (\"svc\", SVC(random_state=42))])\n",
        "\n",
        "param_grid_svc = [\n",
        "    {\n",
        "      'pipe__cat':[ohe,le],\n",
        "      'svc__C': [1, 10]\n",
        "    }]\n",
        "\n",
        "grid_svc = GridSearchCV(svc_pipeline, param_grid_svc, cv=5, error_score='raise', \n",
        "                        scoring = f1_scorer, return_train_score = True, n_jobs=-1)\n",
        "grid_svc.fit(X_train, y_train)"
      ],
      "metadata": {
        "id": "RyuoM9jXX_2U",
        "colab": {
          "base_uri": "https://localhost:8080/"
        },
        "outputId": "5db54780-3e6e-4736-d8d0-cec52bd0169a"
      },
      "execution_count": 35,
      "outputs": [
        {
          "output_type": "stream",
          "name": "stdout",
          "text": [
            "CPU times: user 4min 4s, sys: 1.47 s, total: 4min 6s\n",
            "Wall time: 23min 52s\n"
          ]
        }
      ]
    },
    {
      "cell_type": "code",
      "source": [
        "svc_res = pd.DataFrame(grid_svc.cv_results_)\n",
        "svc_res[['mean_fit_time', 'param_svc__C', 'params', 'mean_test_score', 'std_test_score', 'rank_test_score']].sort_values(by=['rank_test_score'])"
      ],
      "metadata": {
        "colab": {
          "base_uri": "https://localhost:8080/",
          "height": 308
        },
        "id": "pU0C74nm1xEy",
        "outputId": "cdfc5bf3-b670-4c44-bff4-408bb93dfa5f"
      },
      "execution_count": 45,
      "outputs": [
        {
          "output_type": "execute_result",
          "data": {
            "text/html": [
              "\n",
              "  <div id=\"df-1523299b-de3e-43d3-b79c-ff41304bffc4\">\n",
              "    <div class=\"colab-df-container\">\n",
              "      <div>\n",
              "<style scoped>\n",
              "    .dataframe tbody tr th:only-of-type {\n",
              "        vertical-align: middle;\n",
              "    }\n",
              "\n",
              "    .dataframe tbody tr th {\n",
              "        vertical-align: top;\n",
              "    }\n",
              "\n",
              "    .dataframe thead th {\n",
              "        text-align: right;\n",
              "    }\n",
              "</style>\n",
              "<table border=\"1\" class=\"dataframe\">\n",
              "  <thead>\n",
              "    <tr style=\"text-align: right;\">\n",
              "      <th></th>\n",
              "      <th>mean_fit_time</th>\n",
              "      <th>param_svc__C</th>\n",
              "      <th>params</th>\n",
              "      <th>mean_test_score</th>\n",
              "      <th>std_test_score</th>\n",
              "      <th>rank_test_score</th>\n",
              "    </tr>\n",
              "  </thead>\n",
              "  <tbody>\n",
              "    <tr>\n",
              "      <th>1</th>\n",
              "      <td>127.473131</td>\n",
              "      <td>10</td>\n",
              "      <td>{'pipe__cat': OneHotEncoder(handle_unknown='ig...</td>\n",
              "      <td>0.369074</td>\n",
              "      <td>0.010655</td>\n",
              "      <td>1</td>\n",
              "    </tr>\n",
              "    <tr>\n",
              "      <th>2</th>\n",
              "      <td>38.414354</td>\n",
              "      <td>1</td>\n",
              "      <td>{'pipe__cat': OrdinalEncoder(handle_unknown='u...</td>\n",
              "      <td>0.316526</td>\n",
              "      <td>0.013889</td>\n",
              "      <td>2</td>\n",
              "    </tr>\n",
              "    <tr>\n",
              "      <th>3</th>\n",
              "      <td>83.503054</td>\n",
              "      <td>10</td>\n",
              "      <td>{'pipe__cat': OrdinalEncoder(handle_unknown='u...</td>\n",
              "      <td>0.316299</td>\n",
              "      <td>0.014332</td>\n",
              "      <td>3</td>\n",
              "    </tr>\n",
              "    <tr>\n",
              "      <th>0</th>\n",
              "      <td>77.600418</td>\n",
              "      <td>1</td>\n",
              "      <td>{'pipe__cat': OneHotEncoder(handle_unknown='ig...</td>\n",
              "      <td>0.303187</td>\n",
              "      <td>0.016700</td>\n",
              "      <td>4</td>\n",
              "    </tr>\n",
              "  </tbody>\n",
              "</table>\n",
              "</div>\n",
              "      <button class=\"colab-df-convert\" onclick=\"convertToInteractive('df-1523299b-de3e-43d3-b79c-ff41304bffc4')\"\n",
              "              title=\"Convert this dataframe to an interactive table.\"\n",
              "              style=\"display:none;\">\n",
              "        \n",
              "  <svg xmlns=\"http://www.w3.org/2000/svg\" height=\"24px\"viewBox=\"0 0 24 24\"\n",
              "       width=\"24px\">\n",
              "    <path d=\"M0 0h24v24H0V0z\" fill=\"none\"/>\n",
              "    <path d=\"M18.56 5.44l.94 2.06.94-2.06 2.06-.94-2.06-.94-.94-2.06-.94 2.06-2.06.94zm-11 1L8.5 8.5l.94-2.06 2.06-.94-2.06-.94L8.5 2.5l-.94 2.06-2.06.94zm10 10l.94 2.06.94-2.06 2.06-.94-2.06-.94-.94-2.06-.94 2.06-2.06.94z\"/><path d=\"M17.41 7.96l-1.37-1.37c-.4-.4-.92-.59-1.43-.59-.52 0-1.04.2-1.43.59L10.3 9.45l-7.72 7.72c-.78.78-.78 2.05 0 2.83L4 21.41c.39.39.9.59 1.41.59.51 0 1.02-.2 1.41-.59l7.78-7.78 2.81-2.81c.8-.78.8-2.07 0-2.86zM5.41 20L4 18.59l7.72-7.72 1.47 1.35L5.41 20z\"/>\n",
              "  </svg>\n",
              "      </button>\n",
              "      \n",
              "  <style>\n",
              "    .colab-df-container {\n",
              "      display:flex;\n",
              "      flex-wrap:wrap;\n",
              "      gap: 12px;\n",
              "    }\n",
              "\n",
              "    .colab-df-convert {\n",
              "      background-color: #E8F0FE;\n",
              "      border: none;\n",
              "      border-radius: 50%;\n",
              "      cursor: pointer;\n",
              "      display: none;\n",
              "      fill: #1967D2;\n",
              "      height: 32px;\n",
              "      padding: 0 0 0 0;\n",
              "      width: 32px;\n",
              "    }\n",
              "\n",
              "    .colab-df-convert:hover {\n",
              "      background-color: #E2EBFA;\n",
              "      box-shadow: 0px 1px 2px rgba(60, 64, 67, 0.3), 0px 1px 3px 1px rgba(60, 64, 67, 0.15);\n",
              "      fill: #174EA6;\n",
              "    }\n",
              "\n",
              "    [theme=dark] .colab-df-convert {\n",
              "      background-color: #3B4455;\n",
              "      fill: #D2E3FC;\n",
              "    }\n",
              "\n",
              "    [theme=dark] .colab-df-convert:hover {\n",
              "      background-color: #434B5C;\n",
              "      box-shadow: 0px 1px 3px 1px rgba(0, 0, 0, 0.15);\n",
              "      filter: drop-shadow(0px 1px 2px rgba(0, 0, 0, 0.3));\n",
              "      fill: #FFFFFF;\n",
              "    }\n",
              "  </style>\n",
              "\n",
              "      <script>\n",
              "        const buttonEl =\n",
              "          document.querySelector('#df-1523299b-de3e-43d3-b79c-ff41304bffc4 button.colab-df-convert');\n",
              "        buttonEl.style.display =\n",
              "          google.colab.kernel.accessAllowed ? 'block' : 'none';\n",
              "\n",
              "        async function convertToInteractive(key) {\n",
              "          const element = document.querySelector('#df-1523299b-de3e-43d3-b79c-ff41304bffc4');\n",
              "          const dataTable =\n",
              "            await google.colab.kernel.invokeFunction('convertToInteractive',\n",
              "                                                     [key], {});\n",
              "          if (!dataTable) return;\n",
              "\n",
              "          const docLinkHtml = 'Like what you see? Visit the ' +\n",
              "            '<a target=\"_blank\" href=https://colab.research.google.com/notebooks/data_table.ipynb>data table notebook</a>'\n",
              "            + ' to learn more about interactive tables.';\n",
              "          element.innerHTML = '';\n",
              "          dataTable['output_type'] = 'display_data';\n",
              "          await google.colab.output.renderOutput(dataTable, element);\n",
              "          const docLink = document.createElement('div');\n",
              "          docLink.innerHTML = docLinkHtml;\n",
              "          element.appendChild(docLink);\n",
              "        }\n",
              "      </script>\n",
              "    </div>\n",
              "  </div>\n",
              "  "
            ],
            "text/plain": [
              "   mean_fit_time param_svc__C  ... std_test_score  rank_test_score\n",
              "1     127.473131           10  ...       0.010655                1\n",
              "2      38.414354            1  ...       0.013889                2\n",
              "3      83.503054           10  ...       0.014332                3\n",
              "0      77.600418            1  ...       0.016700                4\n",
              "\n",
              "[4 rows x 6 columns]"
            ]
          },
          "metadata": {},
          "execution_count": 45
        }
      ]
    },
    {
      "cell_type": "markdown",
      "source": [
        "Our SVM classifier model performance are best in using OneHotEncoder and C=10, but the time tradeoff is big with 127 seconds in average"
      ],
      "metadata": {
        "id": "Sk6Nq3Ux_XRY"
      }
    },
    {
      "cell_type": "code",
      "source": [
        "%%time\n",
        "y_pred = grid_svc.predict(X_test)\n",
        "print(classification_report(y_test, y_pred))"
      ],
      "metadata": {
        "colab": {
          "base_uri": "https://localhost:8080/"
        },
        "id": "9BUwb0DDiLw9",
        "outputId": "a15e0849-a92e-403f-c064-0ec21250d071"
      },
      "execution_count": 36,
      "outputs": [
        {
          "output_type": "stream",
          "name": "stdout",
          "text": [
            "              precision    recall  f1-score   support\n",
            "\n",
            "          no       0.91      0.98      0.94      7303\n",
            "         yes       0.60      0.26      0.36       935\n",
            "\n",
            "    accuracy                           0.90      8238\n",
            "   macro avg       0.76      0.62      0.65      8238\n",
            "weighted avg       0.88      0.90      0.88      8238\n",
            "\n",
            "CPU times: user 9.46 s, sys: 17.6 ms, total: 9.48 s\n",
            "Wall time: 9.41 s\n"
          ]
        }
      ]
    },
    {
      "cell_type": "markdown",
      "source": [
        "SVM classifier performs well in predicting \"no\", but suffers the same problem in predicting \"yes\". The recall for \"yes\" is only 0.26. Overall, the f1-macro score for this model is 0.65 \n"
      ],
      "metadata": {
        "id": "YIPO6FrN_WCs"
      }
    },
    {
      "cell_type": "markdown",
      "source": [
        "##3. Decision Tree Classifier"
      ],
      "metadata": {
        "id": "sL3e_I21E1EL"
      }
    },
    {
      "cell_type": "code",
      "source": [
        "%%time\n",
        "dtc_pipeline = Pipeline([(\"pipe\", full_pipeline),\n",
        "                         (\"dtc\", DecisionTreeClassifier(random_state = 42))])\n",
        "\n",
        "param_grid_dtc = [\n",
        "    {\n",
        "      'pipe__cat':[ohe,le],\n",
        "      'dtc__criterion': ['gini', 'entropy']\n",
        "    }]\n",
        "\n",
        "grid_dtc = GridSearchCV(dtc_pipeline, param_grid_dtc, cv=5, error_score='raise', \n",
        "                        scoring = f1_scorer, return_train_score = True, n_jobs=-1)\n",
        "grid_dtc.fit(X_train, y_train)"
      ],
      "metadata": {
        "colab": {
          "base_uri": "https://localhost:8080/"
        },
        "id": "LYiAzGEXYOPw",
        "outputId": "638b7ca4-b3ea-4cfa-da59-4820f9ab9622"
      },
      "execution_count": 23,
      "outputs": [
        {
          "output_type": "stream",
          "name": "stdout",
          "text": [
            "CPU times: user 1.21 s, sys: 52.4 ms, total: 1.26 s\n",
            "Wall time: 14.6 s\n"
          ]
        }
      ]
    },
    {
      "cell_type": "code",
      "source": [
        "dtc_res = pd.DataFrame(grid_dtc.cv_results_)\n",
        "dtc_res[['mean_fit_time', 'params', 'mean_test_score', 'std_test_score', 'rank_test_score']].sort_values(by=['rank_test_score'])"
      ],
      "metadata": {
        "colab": {
          "base_uri": "https://localhost:8080/",
          "height": 175
        },
        "id": "hit8oSAz2I4s",
        "outputId": "828f66d3-0d4f-41ad-818d-42ff05e00427"
      },
      "execution_count": 38,
      "outputs": [
        {
          "output_type": "execute_result",
          "data": {
            "text/html": [
              "\n",
              "  <div id=\"df-9b1a62fa-ee6e-4a8e-94d0-68b0b3f9c048\">\n",
              "    <div class=\"colab-df-container\">\n",
              "      <div>\n",
              "<style scoped>\n",
              "    .dataframe tbody tr th:only-of-type {\n",
              "        vertical-align: middle;\n",
              "    }\n",
              "\n",
              "    .dataframe tbody tr th {\n",
              "        vertical-align: top;\n",
              "    }\n",
              "\n",
              "    .dataframe thead th {\n",
              "        text-align: right;\n",
              "    }\n",
              "</style>\n",
              "<table border=\"1\" class=\"dataframe\">\n",
              "  <thead>\n",
              "    <tr style=\"text-align: right;\">\n",
              "      <th></th>\n",
              "      <th>mean_fit_time</th>\n",
              "      <th>params</th>\n",
              "      <th>mean_test_score</th>\n",
              "      <th>std_test_score</th>\n",
              "      <th>rank_test_score</th>\n",
              "    </tr>\n",
              "  </thead>\n",
              "  <tbody>\n",
              "    <tr>\n",
              "      <th>3</th>\n",
              "      <td>0.425420</td>\n",
              "      <td>{'dtc__criterion': 'entropy', 'pipe__cat': Ord...</td>\n",
              "      <td>0.334381</td>\n",
              "      <td>0.006017</td>\n",
              "      <td>1</td>\n",
              "    </tr>\n",
              "    <tr>\n",
              "      <th>2</th>\n",
              "      <td>0.640882</td>\n",
              "      <td>{'dtc__criterion': 'entropy', 'pipe__cat': One...</td>\n",
              "      <td>0.334048</td>\n",
              "      <td>0.009375</td>\n",
              "      <td>2</td>\n",
              "    </tr>\n",
              "    <tr>\n",
              "      <th>1</th>\n",
              "      <td>0.441843</td>\n",
              "      <td>{'dtc__criterion': 'gini', 'pipe__cat': Ordina...</td>\n",
              "      <td>0.331507</td>\n",
              "      <td>0.010936</td>\n",
              "      <td>3</td>\n",
              "    </tr>\n",
              "    <tr>\n",
              "      <th>0</th>\n",
              "      <td>0.697081</td>\n",
              "      <td>{'dtc__criterion': 'gini', 'pipe__cat': OneHot...</td>\n",
              "      <td>0.330708</td>\n",
              "      <td>0.013463</td>\n",
              "      <td>4</td>\n",
              "    </tr>\n",
              "  </tbody>\n",
              "</table>\n",
              "</div>\n",
              "      <button class=\"colab-df-convert\" onclick=\"convertToInteractive('df-9b1a62fa-ee6e-4a8e-94d0-68b0b3f9c048')\"\n",
              "              title=\"Convert this dataframe to an interactive table.\"\n",
              "              style=\"display:none;\">\n",
              "        \n",
              "  <svg xmlns=\"http://www.w3.org/2000/svg\" height=\"24px\"viewBox=\"0 0 24 24\"\n",
              "       width=\"24px\">\n",
              "    <path d=\"M0 0h24v24H0V0z\" fill=\"none\"/>\n",
              "    <path d=\"M18.56 5.44l.94 2.06.94-2.06 2.06-.94-2.06-.94-.94-2.06-.94 2.06-2.06.94zm-11 1L8.5 8.5l.94-2.06 2.06-.94-2.06-.94L8.5 2.5l-.94 2.06-2.06.94zm10 10l.94 2.06.94-2.06 2.06-.94-2.06-.94-.94-2.06-.94 2.06-2.06.94z\"/><path d=\"M17.41 7.96l-1.37-1.37c-.4-.4-.92-.59-1.43-.59-.52 0-1.04.2-1.43.59L10.3 9.45l-7.72 7.72c-.78.78-.78 2.05 0 2.83L4 21.41c.39.39.9.59 1.41.59.51 0 1.02-.2 1.41-.59l7.78-7.78 2.81-2.81c.8-.78.8-2.07 0-2.86zM5.41 20L4 18.59l7.72-7.72 1.47 1.35L5.41 20z\"/>\n",
              "  </svg>\n",
              "      </button>\n",
              "      \n",
              "  <style>\n",
              "    .colab-df-container {\n",
              "      display:flex;\n",
              "      flex-wrap:wrap;\n",
              "      gap: 12px;\n",
              "    }\n",
              "\n",
              "    .colab-df-convert {\n",
              "      background-color: #E8F0FE;\n",
              "      border: none;\n",
              "      border-radius: 50%;\n",
              "      cursor: pointer;\n",
              "      display: none;\n",
              "      fill: #1967D2;\n",
              "      height: 32px;\n",
              "      padding: 0 0 0 0;\n",
              "      width: 32px;\n",
              "    }\n",
              "\n",
              "    .colab-df-convert:hover {\n",
              "      background-color: #E2EBFA;\n",
              "      box-shadow: 0px 1px 2px rgba(60, 64, 67, 0.3), 0px 1px 3px 1px rgba(60, 64, 67, 0.15);\n",
              "      fill: #174EA6;\n",
              "    }\n",
              "\n",
              "    [theme=dark] .colab-df-convert {\n",
              "      background-color: #3B4455;\n",
              "      fill: #D2E3FC;\n",
              "    }\n",
              "\n",
              "    [theme=dark] .colab-df-convert:hover {\n",
              "      background-color: #434B5C;\n",
              "      box-shadow: 0px 1px 3px 1px rgba(0, 0, 0, 0.15);\n",
              "      filter: drop-shadow(0px 1px 2px rgba(0, 0, 0, 0.3));\n",
              "      fill: #FFFFFF;\n",
              "    }\n",
              "  </style>\n",
              "\n",
              "      <script>\n",
              "        const buttonEl =\n",
              "          document.querySelector('#df-9b1a62fa-ee6e-4a8e-94d0-68b0b3f9c048 button.colab-df-convert');\n",
              "        buttonEl.style.display =\n",
              "          google.colab.kernel.accessAllowed ? 'block' : 'none';\n",
              "\n",
              "        async function convertToInteractive(key) {\n",
              "          const element = document.querySelector('#df-9b1a62fa-ee6e-4a8e-94d0-68b0b3f9c048');\n",
              "          const dataTable =\n",
              "            await google.colab.kernel.invokeFunction('convertToInteractive',\n",
              "                                                     [key], {});\n",
              "          if (!dataTable) return;\n",
              "\n",
              "          const docLinkHtml = 'Like what you see? Visit the ' +\n",
              "            '<a target=\"_blank\" href=https://colab.research.google.com/notebooks/data_table.ipynb>data table notebook</a>'\n",
              "            + ' to learn more about interactive tables.';\n",
              "          element.innerHTML = '';\n",
              "          dataTable['output_type'] = 'display_data';\n",
              "          await google.colab.output.renderOutput(dataTable, element);\n",
              "          const docLink = document.createElement('div');\n",
              "          docLink.innerHTML = docLinkHtml;\n",
              "          element.appendChild(docLink);\n",
              "        }\n",
              "      </script>\n",
              "    </div>\n",
              "  </div>\n",
              "  "
            ],
            "text/plain": [
              "   mean_fit_time  ... rank_test_score\n",
              "3       0.425420  ...               1\n",
              "2       0.640882  ...               2\n",
              "1       0.441843  ...               3\n",
              "0       0.697081  ...               4\n",
              "\n",
              "[4 rows x 5 columns]"
            ]
          },
          "metadata": {},
          "execution_count": 38
        }
      ]
    },
    {
      "cell_type": "markdown",
      "source": [
        "On our first tree model, the Decision Tree, the performance are almost the same as well, with using entropy criterion and Ordinal Encoder being the highest in average score and fastest in time \n"
      ],
      "metadata": {
        "id": "IL197Ai5_SwO"
      }
    },
    {
      "cell_type": "code",
      "source": [
        "%%time\n",
        "y_pred = grid_dtc.predict(X_test)\n",
        "print(classification_report(y_test, y_pred))"
      ],
      "metadata": {
        "colab": {
          "base_uri": "https://localhost:8080/"
        },
        "id": "Tmih3pruYua8",
        "outputId": "92a63766-6285-49fe-bcb9-f52917062eec"
      },
      "execution_count": 24,
      "outputs": [
        {
          "output_type": "stream",
          "name": "stdout",
          "text": [
            "              precision    recall  f1-score   support\n",
            "\n",
            "          no       0.92      0.90      0.91      7303\n",
            "         yes       0.32      0.36      0.34       935\n",
            "\n",
            "    accuracy                           0.84      8238\n",
            "   macro avg       0.62      0.63      0.62      8238\n",
            "weighted avg       0.85      0.84      0.85      8238\n",
            "\n",
            "CPU times: user 349 ms, sys: 1.69 ms, total: 351 ms\n",
            "Wall time: 353 ms\n"
          ]
        }
      ]
    },
    {
      "cell_type": "markdown",
      "source": [
        "Decision Tree performs well in predicting \"no\", and just like before, performs poorly in predicting \"yes\". The recall for \"yes\" here is 0.36. There is one interesting result here where the precision on this model is also bad here. Overall, the f1-macro score for this model is 0.62 \n"
      ],
      "metadata": {
        "id": "TyclqNPg_Qsc"
      }
    },
    {
      "cell_type": "markdown",
      "source": [
        "## 4. Random Forest Classifier"
      ],
      "metadata": {
        "id": "EtBpJKMpE8DB"
      }
    },
    {
      "cell_type": "code",
      "source": [
        "%%time\n",
        "rfc_pipeline = Pipeline([(\"pipe\", full_pipeline),\n",
        "                         (\"rfc\", RandomForestClassifier(random_state = 42))])\n",
        "\n",
        "param_grid_rfc = [\n",
        "    {\n",
        "      'pipe__cat':[ohe,le],\n",
        "      'rfc__criterion': ['gini', 'entropy']\n",
        "    }]\n",
        "\n",
        "grid_rfc = GridSearchCV(rfc_pipeline, param_grid_rfc, cv=5, error_score='raise', \n",
        "                        scoring = f1_scorer, return_train_score = True, n_jobs=-1)\n",
        "grid_rfc.fit(X_train, y_train)"
      ],
      "metadata": {
        "colab": {
          "base_uri": "https://localhost:8080/"
        },
        "id": "AK8ToVlHZPhr",
        "outputId": "8575e1a6-a726-4bbd-ebea-8698ae15f69d"
      },
      "execution_count": 25,
      "outputs": [
        {
          "output_type": "stream",
          "name": "stdout",
          "text": [
            "CPU times: user 5.04 s, sys: 176 ms, total: 5.22 s\n",
            "Wall time: 1min 20s\n"
          ]
        }
      ]
    },
    {
      "cell_type": "code",
      "source": [
        "rfc_res = pd.DataFrame(grid_rfc.cv_results_)\n",
        "rfc_res[['mean_fit_time', 'param_rfc__criterion', 'params', 'mean_test_score', 'std_test_score', 'rank_test_score']].sort_values(by=['rank_test_score'])"
      ],
      "metadata": {
        "colab": {
          "base_uri": "https://localhost:8080/",
          "height": 308
        },
        "id": "51XOPKIS2NK3",
        "outputId": "0e8ed08f-5994-4a7d-90ae-d84e8b0945b8"
      },
      "execution_count": 48,
      "outputs": [
        {
          "output_type": "execute_result",
          "data": {
            "text/html": [
              "\n",
              "  <div id=\"df-e05be6db-7dc9-4e69-af88-d7d00a352b71\">\n",
              "    <div class=\"colab-df-container\">\n",
              "      <div>\n",
              "<style scoped>\n",
              "    .dataframe tbody tr th:only-of-type {\n",
              "        vertical-align: middle;\n",
              "    }\n",
              "\n",
              "    .dataframe tbody tr th {\n",
              "        vertical-align: top;\n",
              "    }\n",
              "\n",
              "    .dataframe thead th {\n",
              "        text-align: right;\n",
              "    }\n",
              "</style>\n",
              "<table border=\"1\" class=\"dataframe\">\n",
              "  <thead>\n",
              "    <tr style=\"text-align: right;\">\n",
              "      <th></th>\n",
              "      <th>mean_fit_time</th>\n",
              "      <th>param_rfc__criterion</th>\n",
              "      <th>params</th>\n",
              "      <th>mean_test_score</th>\n",
              "      <th>std_test_score</th>\n",
              "      <th>rank_test_score</th>\n",
              "    </tr>\n",
              "  </thead>\n",
              "  <tbody>\n",
              "    <tr>\n",
              "      <th>3</th>\n",
              "      <td>4.671516</td>\n",
              "      <td>entropy</td>\n",
              "      <td>{'pipe__cat': OrdinalEncoder(handle_unknown='u...</td>\n",
              "      <td>0.394215</td>\n",
              "      <td>0.008985</td>\n",
              "      <td>1</td>\n",
              "    </tr>\n",
              "    <tr>\n",
              "      <th>2</th>\n",
              "      <td>4.147800</td>\n",
              "      <td>gini</td>\n",
              "      <td>{'pipe__cat': OrdinalEncoder(handle_unknown='u...</td>\n",
              "      <td>0.393680</td>\n",
              "      <td>0.009824</td>\n",
              "      <td>2</td>\n",
              "    </tr>\n",
              "    <tr>\n",
              "      <th>1</th>\n",
              "      <td>5.210823</td>\n",
              "      <td>entropy</td>\n",
              "      <td>{'pipe__cat': OneHotEncoder(handle_unknown='ig...</td>\n",
              "      <td>0.386981</td>\n",
              "      <td>0.018669</td>\n",
              "      <td>3</td>\n",
              "    </tr>\n",
              "    <tr>\n",
              "      <th>0</th>\n",
              "      <td>7.882596</td>\n",
              "      <td>gini</td>\n",
              "      <td>{'pipe__cat': OneHotEncoder(handle_unknown='ig...</td>\n",
              "      <td>0.386001</td>\n",
              "      <td>0.014163</td>\n",
              "      <td>4</td>\n",
              "    </tr>\n",
              "  </tbody>\n",
              "</table>\n",
              "</div>\n",
              "      <button class=\"colab-df-convert\" onclick=\"convertToInteractive('df-e05be6db-7dc9-4e69-af88-d7d00a352b71')\"\n",
              "              title=\"Convert this dataframe to an interactive table.\"\n",
              "              style=\"display:none;\">\n",
              "        \n",
              "  <svg xmlns=\"http://www.w3.org/2000/svg\" height=\"24px\"viewBox=\"0 0 24 24\"\n",
              "       width=\"24px\">\n",
              "    <path d=\"M0 0h24v24H0V0z\" fill=\"none\"/>\n",
              "    <path d=\"M18.56 5.44l.94 2.06.94-2.06 2.06-.94-2.06-.94-.94-2.06-.94 2.06-2.06.94zm-11 1L8.5 8.5l.94-2.06 2.06-.94-2.06-.94L8.5 2.5l-.94 2.06-2.06.94zm10 10l.94 2.06.94-2.06 2.06-.94-2.06-.94-.94-2.06-.94 2.06-2.06.94z\"/><path d=\"M17.41 7.96l-1.37-1.37c-.4-.4-.92-.59-1.43-.59-.52 0-1.04.2-1.43.59L10.3 9.45l-7.72 7.72c-.78.78-.78 2.05 0 2.83L4 21.41c.39.39.9.59 1.41.59.51 0 1.02-.2 1.41-.59l7.78-7.78 2.81-2.81c.8-.78.8-2.07 0-2.86zM5.41 20L4 18.59l7.72-7.72 1.47 1.35L5.41 20z\"/>\n",
              "  </svg>\n",
              "      </button>\n",
              "      \n",
              "  <style>\n",
              "    .colab-df-container {\n",
              "      display:flex;\n",
              "      flex-wrap:wrap;\n",
              "      gap: 12px;\n",
              "    }\n",
              "\n",
              "    .colab-df-convert {\n",
              "      background-color: #E8F0FE;\n",
              "      border: none;\n",
              "      border-radius: 50%;\n",
              "      cursor: pointer;\n",
              "      display: none;\n",
              "      fill: #1967D2;\n",
              "      height: 32px;\n",
              "      padding: 0 0 0 0;\n",
              "      width: 32px;\n",
              "    }\n",
              "\n",
              "    .colab-df-convert:hover {\n",
              "      background-color: #E2EBFA;\n",
              "      box-shadow: 0px 1px 2px rgba(60, 64, 67, 0.3), 0px 1px 3px 1px rgba(60, 64, 67, 0.15);\n",
              "      fill: #174EA6;\n",
              "    }\n",
              "\n",
              "    [theme=dark] .colab-df-convert {\n",
              "      background-color: #3B4455;\n",
              "      fill: #D2E3FC;\n",
              "    }\n",
              "\n",
              "    [theme=dark] .colab-df-convert:hover {\n",
              "      background-color: #434B5C;\n",
              "      box-shadow: 0px 1px 3px 1px rgba(0, 0, 0, 0.15);\n",
              "      filter: drop-shadow(0px 1px 2px rgba(0, 0, 0, 0.3));\n",
              "      fill: #FFFFFF;\n",
              "    }\n",
              "  </style>\n",
              "\n",
              "      <script>\n",
              "        const buttonEl =\n",
              "          document.querySelector('#df-e05be6db-7dc9-4e69-af88-d7d00a352b71 button.colab-df-convert');\n",
              "        buttonEl.style.display =\n",
              "          google.colab.kernel.accessAllowed ? 'block' : 'none';\n",
              "\n",
              "        async function convertToInteractive(key) {\n",
              "          const element = document.querySelector('#df-e05be6db-7dc9-4e69-af88-d7d00a352b71');\n",
              "          const dataTable =\n",
              "            await google.colab.kernel.invokeFunction('convertToInteractive',\n",
              "                                                     [key], {});\n",
              "          if (!dataTable) return;\n",
              "\n",
              "          const docLinkHtml = 'Like what you see? Visit the ' +\n",
              "            '<a target=\"_blank\" href=https://colab.research.google.com/notebooks/data_table.ipynb>data table notebook</a>'\n",
              "            + ' to learn more about interactive tables.';\n",
              "          element.innerHTML = '';\n",
              "          dataTable['output_type'] = 'display_data';\n",
              "          await google.colab.output.renderOutput(dataTable, element);\n",
              "          const docLink = document.createElement('div');\n",
              "          docLink.innerHTML = docLinkHtml;\n",
              "          element.appendChild(docLink);\n",
              "        }\n",
              "      </script>\n",
              "    </div>\n",
              "  </div>\n",
              "  "
            ],
            "text/plain": [
              "   mean_fit_time param_rfc__criterion  ... std_test_score  rank_test_score\n",
              "3       4.671516              entropy  ...       0.008985                1\n",
              "2       4.147800                 gini  ...       0.009824                2\n",
              "1       5.210823              entropy  ...       0.018669                3\n",
              "0       7.882596                 gini  ...       0.014163                4\n",
              "\n",
              "[4 rows x 6 columns]"
            ]
          },
          "metadata": {},
          "execution_count": 48
        }
      ]
    },
    {
      "cell_type": "markdown",
      "source": [
        "Random Forest result in Grid Search is better in Ordinal Encoder than OneHot, both in score and time. The best performance is using entropy criterion and Ordinal Encoder"
      ],
      "metadata": {
        "id": "t_bJbiSl_IgT"
      }
    },
    {
      "cell_type": "code",
      "source": [
        "%%time\n",
        "y_pred = grid_rfc.predict(X_test)\n",
        "print(classification_report(y_test, y_pred))"
      ],
      "metadata": {
        "colab": {
          "base_uri": "https://localhost:8080/"
        },
        "id": "bT_ru5_jZbGv",
        "outputId": "25006258-856e-4a68-903e-27da10263730"
      },
      "execution_count": 26,
      "outputs": [
        {
          "output_type": "stream",
          "name": "stdout",
          "text": [
            "              precision    recall  f1-score   support\n",
            "\n",
            "          no       0.92      0.97      0.94      7303\n",
            "         yes       0.55      0.31      0.40       935\n",
            "\n",
            "    accuracy                           0.89      8238\n",
            "   macro avg       0.73      0.64      0.67      8238\n",
            "weighted avg       0.87      0.89      0.88      8238\n",
            "\n",
            "CPU times: user 568 ms, sys: 0 ns, total: 568 ms\n",
            "Wall time: 569 ms\n"
          ]
        }
      ]
    },
    {
      "cell_type": "markdown",
      "source": [
        "This model performs well in predicting \"no\", and performs poorly in predicting \"yes\". The recall for \"yes\" here is 0.31, and the f1-macro score is 0.67"
      ],
      "metadata": {
        "id": "wZ51tVI0_HAb"
      }
    },
    {
      "cell_type": "markdown",
      "source": [
        "## 5. kNN Classifier"
      ],
      "metadata": {
        "id": "Q9Iu7YZ7FCDz"
      }
    },
    {
      "cell_type": "code",
      "source": [
        "%%time\n",
        "knc_pipeline = Pipeline([(\"pipe\", full_pipeline),\n",
        "                         (\"knc\", KNeighborsClassifier())])\n",
        "\n",
        "param_grid_knc = [\n",
        "    {\n",
        "      'pipe__cat':[ohe,le],\n",
        "      'knc__n_neighbors': [3, 5]\n",
        "    }]\n",
        "\n",
        "grid_knc = GridSearchCV(knc_pipeline, param_grid_knc, cv=5, error_score='raise', \n",
        "                        scoring = f1_scorer, return_train_score = True, n_jobs=-1)\n",
        "grid_knc.fit(X_train, y_train)"
      ],
      "metadata": {
        "colab": {
          "base_uri": "https://localhost:8080/"
        },
        "id": "yjkuJmH6ZoTz",
        "outputId": "16144cec-15e5-4634-bbc3-cda9095f01e6"
      },
      "execution_count": 27,
      "outputs": [
        {
          "output_type": "stream",
          "name": "stderr",
          "text": [
            "/usr/local/lib/python3.7/dist-packages/joblib/externals/loky/process_executor.py:705: UserWarning: A worker stopped while some jobs were given to the executor. This can be caused by a too short worker timeout or by a memory leak.\n",
            "  \"timeout or by a memory leak.\", UserWarning\n"
          ]
        },
        {
          "output_type": "stream",
          "name": "stdout",
          "text": [
            "CPU times: user 3.03 s, sys: 440 ms, total: 3.47 s\n",
            "Wall time: 4min 42s\n"
          ]
        }
      ]
    },
    {
      "cell_type": "code",
      "source": [
        "knc_res = pd.DataFrame(grid_knc.cv_results_)\n",
        "knc_res[['mean_fit_time', 'params', 'mean_test_score', 'std_test_score', 'rank_test_score']].sort_values(by=['rank_test_score'])"
      ],
      "metadata": {
        "colab": {
          "base_uri": "https://localhost:8080/",
          "height": 219
        },
        "id": "L_Lamuvu2T26",
        "outputId": "5ec5650a-277b-458e-a096-e177a2767ba0"
      },
      "execution_count": 40,
      "outputs": [
        {
          "output_type": "execute_result",
          "data": {
            "text/html": [
              "\n",
              "  <div id=\"df-99b5aa4a-803e-4e51-b033-28011386f15a\">\n",
              "    <div class=\"colab-df-container\">\n",
              "      <div>\n",
              "<style scoped>\n",
              "    .dataframe tbody tr th:only-of-type {\n",
              "        vertical-align: middle;\n",
              "    }\n",
              "\n",
              "    .dataframe tbody tr th {\n",
              "        vertical-align: top;\n",
              "    }\n",
              "\n",
              "    .dataframe thead th {\n",
              "        text-align: right;\n",
              "    }\n",
              "</style>\n",
              "<table border=\"1\" class=\"dataframe\">\n",
              "  <thead>\n",
              "    <tr style=\"text-align: right;\">\n",
              "      <th></th>\n",
              "      <th>mean_fit_time</th>\n",
              "      <th>params</th>\n",
              "      <th>mean_test_score</th>\n",
              "      <th>std_test_score</th>\n",
              "      <th>rank_test_score</th>\n",
              "    </tr>\n",
              "  </thead>\n",
              "  <tbody>\n",
              "    <tr>\n",
              "      <th>0</th>\n",
              "      <td>0.242354</td>\n",
              "      <td>{'knc__n_neighbors': 3, 'pipe__cat': OneHotEnc...</td>\n",
              "      <td>0.328705</td>\n",
              "      <td>0.008393</td>\n",
              "      <td>1</td>\n",
              "    </tr>\n",
              "    <tr>\n",
              "      <th>2</th>\n",
              "      <td>0.255809</td>\n",
              "      <td>{'knc__n_neighbors': 5, 'pipe__cat': OneHotEnc...</td>\n",
              "      <td>0.315445</td>\n",
              "      <td>0.010435</td>\n",
              "      <td>2</td>\n",
              "    </tr>\n",
              "    <tr>\n",
              "      <th>1</th>\n",
              "      <td>0.239855</td>\n",
              "      <td>{'knc__n_neighbors': 3, 'pipe__cat': OrdinalEn...</td>\n",
              "      <td>0.304161</td>\n",
              "      <td>0.018703</td>\n",
              "      <td>3</td>\n",
              "    </tr>\n",
              "    <tr>\n",
              "      <th>3</th>\n",
              "      <td>0.236693</td>\n",
              "      <td>{'knc__n_neighbors': 5, 'pipe__cat': OrdinalEn...</td>\n",
              "      <td>0.281918</td>\n",
              "      <td>0.013397</td>\n",
              "      <td>4</td>\n",
              "    </tr>\n",
              "  </tbody>\n",
              "</table>\n",
              "</div>\n",
              "      <button class=\"colab-df-convert\" onclick=\"convertToInteractive('df-99b5aa4a-803e-4e51-b033-28011386f15a')\"\n",
              "              title=\"Convert this dataframe to an interactive table.\"\n",
              "              style=\"display:none;\">\n",
              "        \n",
              "  <svg xmlns=\"http://www.w3.org/2000/svg\" height=\"24px\"viewBox=\"0 0 24 24\"\n",
              "       width=\"24px\">\n",
              "    <path d=\"M0 0h24v24H0V0z\" fill=\"none\"/>\n",
              "    <path d=\"M18.56 5.44l.94 2.06.94-2.06 2.06-.94-2.06-.94-.94-2.06-.94 2.06-2.06.94zm-11 1L8.5 8.5l.94-2.06 2.06-.94-2.06-.94L8.5 2.5l-.94 2.06-2.06.94zm10 10l.94 2.06.94-2.06 2.06-.94-2.06-.94-.94-2.06-.94 2.06-2.06.94z\"/><path d=\"M17.41 7.96l-1.37-1.37c-.4-.4-.92-.59-1.43-.59-.52 0-1.04.2-1.43.59L10.3 9.45l-7.72 7.72c-.78.78-.78 2.05 0 2.83L4 21.41c.39.39.9.59 1.41.59.51 0 1.02-.2 1.41-.59l7.78-7.78 2.81-2.81c.8-.78.8-2.07 0-2.86zM5.41 20L4 18.59l7.72-7.72 1.47 1.35L5.41 20z\"/>\n",
              "  </svg>\n",
              "      </button>\n",
              "      \n",
              "  <style>\n",
              "    .colab-df-container {\n",
              "      display:flex;\n",
              "      flex-wrap:wrap;\n",
              "      gap: 12px;\n",
              "    }\n",
              "\n",
              "    .colab-df-convert {\n",
              "      background-color: #E8F0FE;\n",
              "      border: none;\n",
              "      border-radius: 50%;\n",
              "      cursor: pointer;\n",
              "      display: none;\n",
              "      fill: #1967D2;\n",
              "      height: 32px;\n",
              "      padding: 0 0 0 0;\n",
              "      width: 32px;\n",
              "    }\n",
              "\n",
              "    .colab-df-convert:hover {\n",
              "      background-color: #E2EBFA;\n",
              "      box-shadow: 0px 1px 2px rgba(60, 64, 67, 0.3), 0px 1px 3px 1px rgba(60, 64, 67, 0.15);\n",
              "      fill: #174EA6;\n",
              "    }\n",
              "\n",
              "    [theme=dark] .colab-df-convert {\n",
              "      background-color: #3B4455;\n",
              "      fill: #D2E3FC;\n",
              "    }\n",
              "\n",
              "    [theme=dark] .colab-df-convert:hover {\n",
              "      background-color: #434B5C;\n",
              "      box-shadow: 0px 1px 3px 1px rgba(0, 0, 0, 0.15);\n",
              "      filter: drop-shadow(0px 1px 2px rgba(0, 0, 0, 0.3));\n",
              "      fill: #FFFFFF;\n",
              "    }\n",
              "  </style>\n",
              "\n",
              "      <script>\n",
              "        const buttonEl =\n",
              "          document.querySelector('#df-99b5aa4a-803e-4e51-b033-28011386f15a button.colab-df-convert');\n",
              "        buttonEl.style.display =\n",
              "          google.colab.kernel.accessAllowed ? 'block' : 'none';\n",
              "\n",
              "        async function convertToInteractive(key) {\n",
              "          const element = document.querySelector('#df-99b5aa4a-803e-4e51-b033-28011386f15a');\n",
              "          const dataTable =\n",
              "            await google.colab.kernel.invokeFunction('convertToInteractive',\n",
              "                                                     [key], {});\n",
              "          if (!dataTable) return;\n",
              "\n",
              "          const docLinkHtml = 'Like what you see? Visit the ' +\n",
              "            '<a target=\"_blank\" href=https://colab.research.google.com/notebooks/data_table.ipynb>data table notebook</a>'\n",
              "            + ' to learn more about interactive tables.';\n",
              "          element.innerHTML = '';\n",
              "          dataTable['output_type'] = 'display_data';\n",
              "          await google.colab.output.renderOutput(dataTable, element);\n",
              "          const docLink = document.createElement('div');\n",
              "          docLink.innerHTML = docLinkHtml;\n",
              "          element.appendChild(docLink);\n",
              "        }\n",
              "      </script>\n",
              "    </div>\n",
              "  </div>\n",
              "  "
            ],
            "text/plain": [
              "   mean_fit_time  ... rank_test_score\n",
              "0       0.242354  ...               1\n",
              "2       0.255809  ...               2\n",
              "1       0.239855  ...               3\n",
              "3       0.236693  ...               4\n",
              "\n",
              "[4 rows x 5 columns]"
            ]
          },
          "metadata": {},
          "execution_count": 40
        }
      ]
    },
    {
      "cell_type": "markdown",
      "source": [
        "In our kNN models, OneHotEncoder performs better than Ordinal Encoder in terms of score, while the time is almost the same for all. The best performance in terms of score is using 3 n-neighbors and OneHotEncoder"
      ],
      "metadata": {
        "id": "eYp0yOwz_CPp"
      }
    },
    {
      "cell_type": "code",
      "source": [
        "%%time\n",
        "y_pred = grid_knc.predict(X_test)\n",
        "print(classification_report(y_test, y_pred))"
      ],
      "metadata": {
        "colab": {
          "base_uri": "https://localhost:8080/"
        },
        "id": "4eDvZrEDaLbF",
        "outputId": "44378406-6939-49dc-d133-1045d787a461"
      },
      "execution_count": 28,
      "outputs": [
        {
          "output_type": "stream",
          "name": "stdout",
          "text": [
            "              precision    recall  f1-score   support\n",
            "\n",
            "          no       0.91      0.96      0.93      7303\n",
            "         yes       0.44      0.26      0.33       935\n",
            "\n",
            "    accuracy                           0.88      8238\n",
            "   macro avg       0.67      0.61      0.63      8238\n",
            "weighted avg       0.86      0.88      0.86      8238\n",
            "\n",
            "CPU times: user 5.72 s, sys: 1.18 s, total: 6.91 s\n",
            "Wall time: 5.32 s\n"
          ]
        }
      ]
    },
    {
      "cell_type": "markdown",
      "source": [
        "The model is the same like the others, performing well in predicting \"no\" but performing bad in performing \"yes\". The recall for \"yes\" is 0.26 and our overall f1-macro score is 0.63"
      ],
      "metadata": {
        "id": "hzB2IJJN_Apt"
      }
    },
    {
      "cell_type": "markdown",
      "source": [
        "## 6. Naive Bayes Classifier"
      ],
      "metadata": {
        "id": "Qz67MfLEFmnj"
      }
    },
    {
      "cell_type": "code",
      "source": [
        "%%time\n",
        "nbc_pipeline = Pipeline([(\"pipe\", full_pipeline),\n",
        "                         (\"nbc\", GaussianNB())])\n",
        "\n",
        "param_grid_nbc = [\n",
        "    {\n",
        "      'pipe__cat':[ohe,le],\n",
        "      'nbc__var_smoothing': [1e-9, 1e-8]\n",
        "    }]\n",
        "\n",
        "grid_nbc = GridSearchCV(nbc_pipeline, param_grid_nbc, cv=5, error_score='raise', \n",
        "                        scoring = f1_scorer, return_train_score = True, n_jobs=-1)\n",
        "grid_nbc.fit(X_train, y_train)"
      ],
      "metadata": {
        "colab": {
          "base_uri": "https://localhost:8080/"
        },
        "id": "5Ec1UMsxF5P9",
        "outputId": "d668ea57-ea9a-44c0-d91f-c2eb49609e2b"
      },
      "execution_count": 29,
      "outputs": [
        {
          "output_type": "stream",
          "name": "stdout",
          "text": [
            "CPU times: user 1.09 s, sys: 55 ms, total: 1.15 s\n",
            "Wall time: 11.4 s\n"
          ]
        }
      ]
    },
    {
      "cell_type": "code",
      "source": [
        "nbc_res = pd.DataFrame(grid_nbc.cv_results_)\n",
        "nbc_res[['mean_fit_time', 'params', 'mean_test_score', 'std_test_score', 'rank_test_score']].sort_values(by=['rank_test_score'])"
      ],
      "metadata": {
        "colab": {
          "base_uri": "https://localhost:8080/",
          "height": 219
        },
        "id": "j1RRuQtmG-Nd",
        "outputId": "ab61bd10-bc0e-4ec2-fc5d-6ec87afb1d01"
      },
      "execution_count": 41,
      "outputs": [
        {
          "output_type": "execute_result",
          "data": {
            "text/html": [
              "\n",
              "  <div id=\"df-afb107b4-0e69-4a8d-95ca-90e11ada1396\">\n",
              "    <div class=\"colab-df-container\">\n",
              "      <div>\n",
              "<style scoped>\n",
              "    .dataframe tbody tr th:only-of-type {\n",
              "        vertical-align: middle;\n",
              "    }\n",
              "\n",
              "    .dataframe tbody tr th {\n",
              "        vertical-align: top;\n",
              "    }\n",
              "\n",
              "    .dataframe thead th {\n",
              "        text-align: right;\n",
              "    }\n",
              "</style>\n",
              "<table border=\"1\" class=\"dataframe\">\n",
              "  <thead>\n",
              "    <tr style=\"text-align: right;\">\n",
              "      <th></th>\n",
              "      <th>mean_fit_time</th>\n",
              "      <th>params</th>\n",
              "      <th>mean_test_score</th>\n",
              "      <th>std_test_score</th>\n",
              "      <th>rank_test_score</th>\n",
              "    </tr>\n",
              "  </thead>\n",
              "  <tbody>\n",
              "    <tr>\n",
              "      <th>1</th>\n",
              "      <td>0.275228</td>\n",
              "      <td>{'nbc__var_smoothing': 1e-09, 'pipe__cat': Ord...</td>\n",
              "      <td>0.415307</td>\n",
              "      <td>0.014387</td>\n",
              "      <td>1</td>\n",
              "    </tr>\n",
              "    <tr>\n",
              "      <th>3</th>\n",
              "      <td>0.265627</td>\n",
              "      <td>{'nbc__var_smoothing': 1e-08, 'pipe__cat': Ord...</td>\n",
              "      <td>0.415307</td>\n",
              "      <td>0.014387</td>\n",
              "      <td>1</td>\n",
              "    </tr>\n",
              "    <tr>\n",
              "      <th>2</th>\n",
              "      <td>0.326726</td>\n",
              "      <td>{'nbc__var_smoothing': 1e-08, 'pipe__cat': One...</td>\n",
              "      <td>0.412587</td>\n",
              "      <td>0.012360</td>\n",
              "      <td>3</td>\n",
              "    </tr>\n",
              "    <tr>\n",
              "      <th>0</th>\n",
              "      <td>0.324541</td>\n",
              "      <td>{'nbc__var_smoothing': 1e-09, 'pipe__cat': One...</td>\n",
              "      <td>0.406967</td>\n",
              "      <td>0.010445</td>\n",
              "      <td>4</td>\n",
              "    </tr>\n",
              "  </tbody>\n",
              "</table>\n",
              "</div>\n",
              "      <button class=\"colab-df-convert\" onclick=\"convertToInteractive('df-afb107b4-0e69-4a8d-95ca-90e11ada1396')\"\n",
              "              title=\"Convert this dataframe to an interactive table.\"\n",
              "              style=\"display:none;\">\n",
              "        \n",
              "  <svg xmlns=\"http://www.w3.org/2000/svg\" height=\"24px\"viewBox=\"0 0 24 24\"\n",
              "       width=\"24px\">\n",
              "    <path d=\"M0 0h24v24H0V0z\" fill=\"none\"/>\n",
              "    <path d=\"M18.56 5.44l.94 2.06.94-2.06 2.06-.94-2.06-.94-.94-2.06-.94 2.06-2.06.94zm-11 1L8.5 8.5l.94-2.06 2.06-.94-2.06-.94L8.5 2.5l-.94 2.06-2.06.94zm10 10l.94 2.06.94-2.06 2.06-.94-2.06-.94-.94-2.06-.94 2.06-2.06.94z\"/><path d=\"M17.41 7.96l-1.37-1.37c-.4-.4-.92-.59-1.43-.59-.52 0-1.04.2-1.43.59L10.3 9.45l-7.72 7.72c-.78.78-.78 2.05 0 2.83L4 21.41c.39.39.9.59 1.41.59.51 0 1.02-.2 1.41-.59l7.78-7.78 2.81-2.81c.8-.78.8-2.07 0-2.86zM5.41 20L4 18.59l7.72-7.72 1.47 1.35L5.41 20z\"/>\n",
              "  </svg>\n",
              "      </button>\n",
              "      \n",
              "  <style>\n",
              "    .colab-df-container {\n",
              "      display:flex;\n",
              "      flex-wrap:wrap;\n",
              "      gap: 12px;\n",
              "    }\n",
              "\n",
              "    .colab-df-convert {\n",
              "      background-color: #E8F0FE;\n",
              "      border: none;\n",
              "      border-radius: 50%;\n",
              "      cursor: pointer;\n",
              "      display: none;\n",
              "      fill: #1967D2;\n",
              "      height: 32px;\n",
              "      padding: 0 0 0 0;\n",
              "      width: 32px;\n",
              "    }\n",
              "\n",
              "    .colab-df-convert:hover {\n",
              "      background-color: #E2EBFA;\n",
              "      box-shadow: 0px 1px 2px rgba(60, 64, 67, 0.3), 0px 1px 3px 1px rgba(60, 64, 67, 0.15);\n",
              "      fill: #174EA6;\n",
              "    }\n",
              "\n",
              "    [theme=dark] .colab-df-convert {\n",
              "      background-color: #3B4455;\n",
              "      fill: #D2E3FC;\n",
              "    }\n",
              "\n",
              "    [theme=dark] .colab-df-convert:hover {\n",
              "      background-color: #434B5C;\n",
              "      box-shadow: 0px 1px 3px 1px rgba(0, 0, 0, 0.15);\n",
              "      filter: drop-shadow(0px 1px 2px rgba(0, 0, 0, 0.3));\n",
              "      fill: #FFFFFF;\n",
              "    }\n",
              "  </style>\n",
              "\n",
              "      <script>\n",
              "        const buttonEl =\n",
              "          document.querySelector('#df-afb107b4-0e69-4a8d-95ca-90e11ada1396 button.colab-df-convert');\n",
              "        buttonEl.style.display =\n",
              "          google.colab.kernel.accessAllowed ? 'block' : 'none';\n",
              "\n",
              "        async function convertToInteractive(key) {\n",
              "          const element = document.querySelector('#df-afb107b4-0e69-4a8d-95ca-90e11ada1396');\n",
              "          const dataTable =\n",
              "            await google.colab.kernel.invokeFunction('convertToInteractive',\n",
              "                                                     [key], {});\n",
              "          if (!dataTable) return;\n",
              "\n",
              "          const docLinkHtml = 'Like what you see? Visit the ' +\n",
              "            '<a target=\"_blank\" href=https://colab.research.google.com/notebooks/data_table.ipynb>data table notebook</a>'\n",
              "            + ' to learn more about interactive tables.';\n",
              "          element.innerHTML = '';\n",
              "          dataTable['output_type'] = 'display_data';\n",
              "          await google.colab.output.renderOutput(dataTable, element);\n",
              "          const docLink = document.createElement('div');\n",
              "          docLink.innerHTML = docLinkHtml;\n",
              "          element.appendChild(docLink);\n",
              "        }\n",
              "      </script>\n",
              "    </div>\n",
              "  </div>\n",
              "  "
            ],
            "text/plain": [
              "   mean_fit_time  ... rank_test_score\n",
              "1       0.275228  ...               1\n",
              "3       0.265627  ...               1\n",
              "2       0.326726  ...               3\n",
              "0       0.324541  ...               4\n",
              "\n",
              "[4 rows x 5 columns]"
            ]
          },
          "metadata": {},
          "execution_count": 41
        }
      ]
    },
    {
      "cell_type": "markdown",
      "source": [
        "Our Naive Bayes performs almost the same in terms of time and score, with Ordinal Encoder and var smoothing of 1e-09 and 1e-08 being the best performance."
      ],
      "metadata": {
        "id": "nFkHMRfl-76T"
      }
    },
    {
      "cell_type": "code",
      "source": [
        "%%time\n",
        "y_pred = grid_nbc.predict(X_test)\n",
        "print(classification_report(y_test, y_pred))"
      ],
      "metadata": {
        "colab": {
          "base_uri": "https://localhost:8080/"
        },
        "id": "uHOydV7waodM",
        "outputId": "2ad02daa-bc3b-4192-b88b-27aecf8588c3"
      },
      "execution_count": 31,
      "outputs": [
        {
          "output_type": "stream",
          "name": "stdout",
          "text": [
            "              precision    recall  f1-score   support\n",
            "\n",
            "          no       0.93      0.87      0.90      7303\n",
            "         yes       0.34      0.50      0.41       935\n",
            "\n",
            "    accuracy                           0.83      8238\n",
            "   macro avg       0.64      0.69      0.65      8238\n",
            "weighted avg       0.86      0.83      0.85      8238\n",
            "\n",
            "CPU times: user 288 ms, sys: 4.76 ms, total: 292 ms\n",
            "Wall time: 293 ms\n"
          ]
        }
      ]
    },
    {
      "cell_type": "markdown",
      "source": [
        "We have interesting result where our recall for \"yes\" here scores 0.5, although the precision performs worse here. Our overall f1-macro score here is 0.65"
      ],
      "metadata": {
        "id": "quCD9QBq-5d-"
      }
    },
    {
      "cell_type": "markdown",
      "source": [
        "##7. LightGBM Classifier"
      ],
      "metadata": {
        "id": "4RRS70iRFq1j"
      }
    },
    {
      "cell_type": "code",
      "source": [
        "%%time\n",
        "lgb_pipeline = Pipeline([(\"pipe\", full_pipeline),\n",
        "                         (\"lgb\", LGBMClassifier(random_state = 42))])\n",
        "\n",
        "param_grid_lgb = [\n",
        "    {\n",
        "      'pipe__cat':[ohe,le],\n",
        "      'lgb__n_estimators': [50, 200]\n",
        "    }]\n",
        "\n",
        "grid_lgb = GridSearchCV(lgb_pipeline, param_grid_lgb, cv=5, error_score='raise', \n",
        "                        scoring = f1_scorer, return_train_score = True, n_jobs=-1)\n",
        "grid_lgb.fit(X_train, y_train)"
      ],
      "metadata": {
        "colab": {
          "base_uri": "https://localhost:8080/"
        },
        "id": "Pz_hDUOwayEV",
        "outputId": "498d25cd-d4db-4ec6-f6a6-4a7897dc3ca6"
      },
      "execution_count": 32,
      "outputs": [
        {
          "output_type": "stream",
          "name": "stdout",
          "text": [
            "CPU times: user 2.83 s, sys: 106 ms, total: 2.94 s\n",
            "Wall time: 24.1 s\n"
          ]
        }
      ]
    },
    {
      "cell_type": "code",
      "source": [
        "lgb_res = pd.DataFrame(grid_lgb.cv_results_)\n",
        "lgb_res[['mean_fit_time', 'params', 'mean_test_score', 'std_test_score', 'rank_test_score']].sort_values(by=['rank_test_score'])"
      ],
      "metadata": {
        "colab": {
          "base_uri": "https://localhost:8080/",
          "height": 219
        },
        "id": "IxDnOa96E6vW",
        "outputId": "059ff2d4-e777-4cfe-a59b-c9ae6689956f"
      },
      "execution_count": 42,
      "outputs": [
        {
          "output_type": "execute_result",
          "data": {
            "text/html": [
              "\n",
              "  <div id=\"df-628bbfab-f887-42db-a5ce-97dc900e690a\">\n",
              "    <div class=\"colab-df-container\">\n",
              "      <div>\n",
              "<style scoped>\n",
              "    .dataframe tbody tr th:only-of-type {\n",
              "        vertical-align: middle;\n",
              "    }\n",
              "\n",
              "    .dataframe tbody tr th {\n",
              "        vertical-align: top;\n",
              "    }\n",
              "\n",
              "    .dataframe thead th {\n",
              "        text-align: right;\n",
              "    }\n",
              "</style>\n",
              "<table border=\"1\" class=\"dataframe\">\n",
              "  <thead>\n",
              "    <tr style=\"text-align: right;\">\n",
              "      <th></th>\n",
              "      <th>mean_fit_time</th>\n",
              "      <th>params</th>\n",
              "      <th>mean_test_score</th>\n",
              "      <th>std_test_score</th>\n",
              "      <th>rank_test_score</th>\n",
              "    </tr>\n",
              "  </thead>\n",
              "  <tbody>\n",
              "    <tr>\n",
              "      <th>3</th>\n",
              "      <td>1.478577</td>\n",
              "      <td>{'lgb__n_estimators': 200, 'pipe__cat': Ordina...</td>\n",
              "      <td>0.396993</td>\n",
              "      <td>0.015956</td>\n",
              "      <td>1</td>\n",
              "    </tr>\n",
              "    <tr>\n",
              "      <th>2</th>\n",
              "      <td>1.528691</td>\n",
              "      <td>{'lgb__n_estimators': 200, 'pipe__cat': OneHot...</td>\n",
              "      <td>0.395922</td>\n",
              "      <td>0.011502</td>\n",
              "      <td>2</td>\n",
              "    </tr>\n",
              "    <tr>\n",
              "      <th>1</th>\n",
              "      <td>0.660449</td>\n",
              "      <td>{'lgb__n_estimators': 50, 'pipe__cat': Ordinal...</td>\n",
              "      <td>0.383314</td>\n",
              "      <td>0.010959</td>\n",
              "      <td>3</td>\n",
              "    </tr>\n",
              "    <tr>\n",
              "      <th>0</th>\n",
              "      <td>0.718246</td>\n",
              "      <td>{'lgb__n_estimators': 50, 'pipe__cat': OneHotE...</td>\n",
              "      <td>0.382144</td>\n",
              "      <td>0.009120</td>\n",
              "      <td>4</td>\n",
              "    </tr>\n",
              "  </tbody>\n",
              "</table>\n",
              "</div>\n",
              "      <button class=\"colab-df-convert\" onclick=\"convertToInteractive('df-628bbfab-f887-42db-a5ce-97dc900e690a')\"\n",
              "              title=\"Convert this dataframe to an interactive table.\"\n",
              "              style=\"display:none;\">\n",
              "        \n",
              "  <svg xmlns=\"http://www.w3.org/2000/svg\" height=\"24px\"viewBox=\"0 0 24 24\"\n",
              "       width=\"24px\">\n",
              "    <path d=\"M0 0h24v24H0V0z\" fill=\"none\"/>\n",
              "    <path d=\"M18.56 5.44l.94 2.06.94-2.06 2.06-.94-2.06-.94-.94-2.06-.94 2.06-2.06.94zm-11 1L8.5 8.5l.94-2.06 2.06-.94-2.06-.94L8.5 2.5l-.94 2.06-2.06.94zm10 10l.94 2.06.94-2.06 2.06-.94-2.06-.94-.94-2.06-.94 2.06-2.06.94z\"/><path d=\"M17.41 7.96l-1.37-1.37c-.4-.4-.92-.59-1.43-.59-.52 0-1.04.2-1.43.59L10.3 9.45l-7.72 7.72c-.78.78-.78 2.05 0 2.83L4 21.41c.39.39.9.59 1.41.59.51 0 1.02-.2 1.41-.59l7.78-7.78 2.81-2.81c.8-.78.8-2.07 0-2.86zM5.41 20L4 18.59l7.72-7.72 1.47 1.35L5.41 20z\"/>\n",
              "  </svg>\n",
              "      </button>\n",
              "      \n",
              "  <style>\n",
              "    .colab-df-container {\n",
              "      display:flex;\n",
              "      flex-wrap:wrap;\n",
              "      gap: 12px;\n",
              "    }\n",
              "\n",
              "    .colab-df-convert {\n",
              "      background-color: #E8F0FE;\n",
              "      border: none;\n",
              "      border-radius: 50%;\n",
              "      cursor: pointer;\n",
              "      display: none;\n",
              "      fill: #1967D2;\n",
              "      height: 32px;\n",
              "      padding: 0 0 0 0;\n",
              "      width: 32px;\n",
              "    }\n",
              "\n",
              "    .colab-df-convert:hover {\n",
              "      background-color: #E2EBFA;\n",
              "      box-shadow: 0px 1px 2px rgba(60, 64, 67, 0.3), 0px 1px 3px 1px rgba(60, 64, 67, 0.15);\n",
              "      fill: #174EA6;\n",
              "    }\n",
              "\n",
              "    [theme=dark] .colab-df-convert {\n",
              "      background-color: #3B4455;\n",
              "      fill: #D2E3FC;\n",
              "    }\n",
              "\n",
              "    [theme=dark] .colab-df-convert:hover {\n",
              "      background-color: #434B5C;\n",
              "      box-shadow: 0px 1px 3px 1px rgba(0, 0, 0, 0.15);\n",
              "      filter: drop-shadow(0px 1px 2px rgba(0, 0, 0, 0.3));\n",
              "      fill: #FFFFFF;\n",
              "    }\n",
              "  </style>\n",
              "\n",
              "      <script>\n",
              "        const buttonEl =\n",
              "          document.querySelector('#df-628bbfab-f887-42db-a5ce-97dc900e690a button.colab-df-convert');\n",
              "        buttonEl.style.display =\n",
              "          google.colab.kernel.accessAllowed ? 'block' : 'none';\n",
              "\n",
              "        async function convertToInteractive(key) {\n",
              "          const element = document.querySelector('#df-628bbfab-f887-42db-a5ce-97dc900e690a');\n",
              "          const dataTable =\n",
              "            await google.colab.kernel.invokeFunction('convertToInteractive',\n",
              "                                                     [key], {});\n",
              "          if (!dataTable) return;\n",
              "\n",
              "          const docLinkHtml = 'Like what you see? Visit the ' +\n",
              "            '<a target=\"_blank\" href=https://colab.research.google.com/notebooks/data_table.ipynb>data table notebook</a>'\n",
              "            + ' to learn more about interactive tables.';\n",
              "          element.innerHTML = '';\n",
              "          dataTable['output_type'] = 'display_data';\n",
              "          await google.colab.output.renderOutput(dataTable, element);\n",
              "          const docLink = document.createElement('div');\n",
              "          docLink.innerHTML = docLinkHtml;\n",
              "          element.appendChild(docLink);\n",
              "        }\n",
              "      </script>\n",
              "    </div>\n",
              "  </div>\n",
              "  "
            ],
            "text/plain": [
              "   mean_fit_time  ... rank_test_score\n",
              "3       1.478577  ...               1\n",
              "2       1.528691  ...               2\n",
              "1       0.660449  ...               3\n",
              "0       0.718246  ...               4\n",
              "\n",
              "[4 rows x 5 columns]"
            ]
          },
          "metadata": {},
          "execution_count": 42
        }
      ]
    },
    {
      "cell_type": "markdown",
      "source": [
        "For our LightGBM classifier, the performance is almost the same for Ordinal Encoder and OneHotEncoder in terms of score and time. The best parameter for LightGBM here is using 200 estimators and using Ordinal Encoder"
      ],
      "metadata": {
        "id": "DrhNEZzG-xTC"
      }
    },
    {
      "cell_type": "code",
      "source": [
        "%%time\n",
        "y_pred = grid_lgb.predict(X_test)\n",
        "print(classification_report(y_test, y_pred))"
      ],
      "metadata": {
        "id": "a-AIOVV2ij4C",
        "colab": {
          "base_uri": "https://localhost:8080/"
        },
        "outputId": "2ad0b961-f211-4694-a81b-74b9cd42ce2a"
      },
      "execution_count": 34,
      "outputs": [
        {
          "output_type": "stream",
          "name": "stdout",
          "text": [
            "              precision    recall  f1-score   support\n",
            "\n",
            "          no       0.91      0.98      0.94      7303\n",
            "         yes       0.61      0.27      0.37       935\n",
            "\n",
            "    accuracy                           0.90      8238\n",
            "   macro avg       0.76      0.62      0.66      8238\n",
            "weighted avg       0.88      0.90      0.88      8238\n",
            "\n",
            "CPU times: user 460 ms, sys: 3.93 ms, total: 464 ms\n",
            "Wall time: 405 ms\n"
          ]
        }
      ]
    },
    {
      "cell_type": "markdown",
      "source": [
        "The prediction result is nothing new, good in predicting \"no\" and bad at predicting \"yes\". The recall for \"yes\" here is 0.27 and the overall f1-macro score is 0.66"
      ],
      "metadata": {
        "id": "1m3CafZc-zUA"
      }
    },
    {
      "cell_type": "markdown",
      "source": [
        "## Model Conclusion"
      ],
      "metadata": {
        "id": "M3Fq-xCScBuf"
      }
    },
    {
      "cell_type": "markdown",
      "source": [
        "1. Our model generally predicts worse in \"yes\" label. Outlier handling should not be needed in tree-based models (DTC, RFC, LGBM), yet they also performs poorly, so imbalanced dataset and missing-value handling might be the cause here\n",
        "2. Based on the average F1-macro, the best performing models are Random Forest, continued by LightGBM, NaiveBayes, SVM, kNN, Logistic Regression, and finally Decision Tree\n",
        "3. Based on the recall values on \"yes\", the best performing models are Naive Bayes, continued by Decision Tree, Random Forest, LightGBM, kNN, SVM, and finally Logistic Regression\n",
        "4. SVM take *way* longer than the rest of the model in training models\n",
        "5. Generally, using OrdinalEncoder would work faster than the OneHotEncoder, and time tradeoff felt huge in using SVM. In all tree-based model and Naive Bayes, Ordinal Encoder also performs better score-wise\n",
        "\n"
      ],
      "metadata": {
        "id": "RyBNQVs289Uk"
      }
    },
    {
      "cell_type": "markdown",
      "source": [
        "## Model Inference"
      ],
      "metadata": {
        "id": "3-cmY9S_cI_3"
      }
    },
    {
      "cell_type": "markdown",
      "source": [
        "We'll try to input the data into our models and to infer the input and the result. As noted before, the model assumed there's no 'duration' data"
      ],
      "metadata": {
        "id": "HCUK2a94B_xN"
      }
    },
    {
      "cell_type": "code",
      "source": [
        "data_try = X_test[-1:]\n",
        "data_try"
      ],
      "metadata": {
        "colab": {
          "base_uri": "https://localhost:8080/",
          "height": 145
        },
        "id": "QsYLFCspcLxc",
        "outputId": "b1c01d9e-7dd8-4a1a-e3bb-a712f59a75f2"
      },
      "execution_count": 52,
      "outputs": [
        {
          "output_type": "execute_result",
          "data": {
            "text/html": [
              "\n",
              "  <div id=\"df-027d49e1-f421-4381-b5e1-736e45f843ca\">\n",
              "    <div class=\"colab-df-container\">\n",
              "      <div>\n",
              "<style scoped>\n",
              "    .dataframe tbody tr th:only-of-type {\n",
              "        vertical-align: middle;\n",
              "    }\n",
              "\n",
              "    .dataframe tbody tr th {\n",
              "        vertical-align: top;\n",
              "    }\n",
              "\n",
              "    .dataframe thead th {\n",
              "        text-align: right;\n",
              "    }\n",
              "</style>\n",
              "<table border=\"1\" class=\"dataframe\">\n",
              "  <thead>\n",
              "    <tr style=\"text-align: right;\">\n",
              "      <th></th>\n",
              "      <th>age</th>\n",
              "      <th>job</th>\n",
              "      <th>marital</th>\n",
              "      <th>education</th>\n",
              "      <th>default</th>\n",
              "      <th>housing</th>\n",
              "      <th>loan</th>\n",
              "      <th>contact</th>\n",
              "      <th>month</th>\n",
              "      <th>day_of_week</th>\n",
              "      <th>campaign</th>\n",
              "      <th>pdays</th>\n",
              "      <th>previous</th>\n",
              "      <th>poutcome</th>\n",
              "      <th>emp.var.rate</th>\n",
              "      <th>cons.price.idx</th>\n",
              "      <th>cons.conf.idx</th>\n",
              "      <th>euribor3m</th>\n",
              "      <th>nr.employed</th>\n",
              "    </tr>\n",
              "  </thead>\n",
              "  <tbody>\n",
              "    <tr>\n",
              "      <th>1871</th>\n",
              "      <td>59</td>\n",
              "      <td>admin.</td>\n",
              "      <td>married</td>\n",
              "      <td>university.degree</td>\n",
              "      <td>no</td>\n",
              "      <td>yes</td>\n",
              "      <td>no</td>\n",
              "      <td>telephone</td>\n",
              "      <td>may</td>\n",
              "      <td>fri</td>\n",
              "      <td>2</td>\n",
              "      <td>999</td>\n",
              "      <td>0</td>\n",
              "      <td>nonexistent</td>\n",
              "      <td>1.1</td>\n",
              "      <td>93.994</td>\n",
              "      <td>-36.4</td>\n",
              "      <td>4.855</td>\n",
              "      <td>5191.0</td>\n",
              "    </tr>\n",
              "  </tbody>\n",
              "</table>\n",
              "</div>\n",
              "      <button class=\"colab-df-convert\" onclick=\"convertToInteractive('df-027d49e1-f421-4381-b5e1-736e45f843ca')\"\n",
              "              title=\"Convert this dataframe to an interactive table.\"\n",
              "              style=\"display:none;\">\n",
              "        \n",
              "  <svg xmlns=\"http://www.w3.org/2000/svg\" height=\"24px\"viewBox=\"0 0 24 24\"\n",
              "       width=\"24px\">\n",
              "    <path d=\"M0 0h24v24H0V0z\" fill=\"none\"/>\n",
              "    <path d=\"M18.56 5.44l.94 2.06.94-2.06 2.06-.94-2.06-.94-.94-2.06-.94 2.06-2.06.94zm-11 1L8.5 8.5l.94-2.06 2.06-.94-2.06-.94L8.5 2.5l-.94 2.06-2.06.94zm10 10l.94 2.06.94-2.06 2.06-.94-2.06-.94-.94-2.06-.94 2.06-2.06.94z\"/><path d=\"M17.41 7.96l-1.37-1.37c-.4-.4-.92-.59-1.43-.59-.52 0-1.04.2-1.43.59L10.3 9.45l-7.72 7.72c-.78.78-.78 2.05 0 2.83L4 21.41c.39.39.9.59 1.41.59.51 0 1.02-.2 1.41-.59l7.78-7.78 2.81-2.81c.8-.78.8-2.07 0-2.86zM5.41 20L4 18.59l7.72-7.72 1.47 1.35L5.41 20z\"/>\n",
              "  </svg>\n",
              "      </button>\n",
              "      \n",
              "  <style>\n",
              "    .colab-df-container {\n",
              "      display:flex;\n",
              "      flex-wrap:wrap;\n",
              "      gap: 12px;\n",
              "    }\n",
              "\n",
              "    .colab-df-convert {\n",
              "      background-color: #E8F0FE;\n",
              "      border: none;\n",
              "      border-radius: 50%;\n",
              "      cursor: pointer;\n",
              "      display: none;\n",
              "      fill: #1967D2;\n",
              "      height: 32px;\n",
              "      padding: 0 0 0 0;\n",
              "      width: 32px;\n",
              "    }\n",
              "\n",
              "    .colab-df-convert:hover {\n",
              "      background-color: #E2EBFA;\n",
              "      box-shadow: 0px 1px 2px rgba(60, 64, 67, 0.3), 0px 1px 3px 1px rgba(60, 64, 67, 0.15);\n",
              "      fill: #174EA6;\n",
              "    }\n",
              "\n",
              "    [theme=dark] .colab-df-convert {\n",
              "      background-color: #3B4455;\n",
              "      fill: #D2E3FC;\n",
              "    }\n",
              "\n",
              "    [theme=dark] .colab-df-convert:hover {\n",
              "      background-color: #434B5C;\n",
              "      box-shadow: 0px 1px 3px 1px rgba(0, 0, 0, 0.15);\n",
              "      filter: drop-shadow(0px 1px 2px rgba(0, 0, 0, 0.3));\n",
              "      fill: #FFFFFF;\n",
              "    }\n",
              "  </style>\n",
              "\n",
              "      <script>\n",
              "        const buttonEl =\n",
              "          document.querySelector('#df-027d49e1-f421-4381-b5e1-736e45f843ca button.colab-df-convert');\n",
              "        buttonEl.style.display =\n",
              "          google.colab.kernel.accessAllowed ? 'block' : 'none';\n",
              "\n",
              "        async function convertToInteractive(key) {\n",
              "          const element = document.querySelector('#df-027d49e1-f421-4381-b5e1-736e45f843ca');\n",
              "          const dataTable =\n",
              "            await google.colab.kernel.invokeFunction('convertToInteractive',\n",
              "                                                     [key], {});\n",
              "          if (!dataTable) return;\n",
              "\n",
              "          const docLinkHtml = 'Like what you see? Visit the ' +\n",
              "            '<a target=\"_blank\" href=https://colab.research.google.com/notebooks/data_table.ipynb>data table notebook</a>'\n",
              "            + ' to learn more about interactive tables.';\n",
              "          element.innerHTML = '';\n",
              "          dataTable['output_type'] = 'display_data';\n",
              "          await google.colab.output.renderOutput(dataTable, element);\n",
              "          const docLink = document.createElement('div');\n",
              "          docLink.innerHTML = docLinkHtml;\n",
              "          element.appendChild(docLink);\n",
              "        }\n",
              "      </script>\n",
              "    </div>\n",
              "  </div>\n",
              "  "
            ],
            "text/plain": [
              "      age     job  marital  ... cons.conf.idx euribor3m nr.employed\n",
              "1871   59  admin.  married  ...         -36.4     4.855      5191.0\n",
              "\n",
              "[1 rows x 19 columns]"
            ]
          },
          "metadata": {},
          "execution_count": 52
        }
      ]
    },
    {
      "cell_type": "markdown",
      "source": [
        "Here, there's a person whom:\n",
        "1. Aged 59\n",
        "2. Have a job as administrator\n",
        "3. Married\n",
        "4. Have university degree (presumably bachelor)\n",
        "5. Have no credit in default\n",
        "6. Have a housing loan\n",
        "7. Have personal loan\n",
        "8. Have been contacted via telephone by campaigner\n",
        "9. Last contacted on Friday in May,\n",
        "10. Have been contacted at least twice by campaigner in this campaign \n",
        "11. Have never been contacted in previous campaign, as such, there's no historic outcome of this campaign\n",
        "\n",
        "The rest of the data is social context"
      ],
      "metadata": {
        "id": "T8eL0E0oCiCL"
      }
    },
    {
      "cell_type": "markdown",
      "source": [
        "Let's see how each of our model predicts whether this person will subscribe a term deposit or not"
      ],
      "metadata": {
        "id": "YTE_IGFXDvdc"
      }
    },
    {
      "cell_type": "code",
      "source": [
        "print(f'Logistic Regression: {grid_lgc.predict(data_try)}')\n",
        "print(f'SVM: {grid_svc.predict(data_try)}')\n",
        "print(f'Decision Tree: {grid_dtc.predict(data_try)}')\n",
        "print(f'Random Forest: {grid_rfc.predict(data_try)}')\n",
        "print(f'kNN Classifier: {grid_knc.predict(data_try)}')\n",
        "print(f'Naive Bayes Classifier: {grid_nbc.predict(data_try)}')\n",
        "print(f'LightGBM: {grid_lgb.predict(data_try)}')"
      ],
      "metadata": {
        "colab": {
          "base_uri": "https://localhost:8080/"
        },
        "id": "wEFMJDQODt5C",
        "outputId": "beb27849-0dc6-43aa-ca47-660114e8d5de"
      },
      "execution_count": 53,
      "outputs": [
        {
          "output_type": "stream",
          "name": "stdout",
          "text": [
            "Logistic Regression: ['no']\n",
            "SVM: ['no']\n",
            "Decision Tree: ['yes']\n",
            "Random Forest: ['no']\n",
            "kNN Classifier: ['no']\n",
            "Naive Bayes Classifier: ['no']\n",
            "LightGBM: ['no']\n"
          ]
        }
      ]
    },
    {
      "cell_type": "markdown",
      "source": [
        "Only Decision Tree predict that this person subscribe a term deposit, the rest says no"
      ],
      "metadata": {
        "id": "asKULCtOEqB-"
      }
    },
    {
      "cell_type": "markdown",
      "source": [
        "## General Conclusion"
      ],
      "metadata": {
        "id": "1swh7SX4b_7Y"
      }
    },
    {
      "cell_type": "markdown",
      "source": [
        "1. This data have imbalanced dataset on target variables\n",
        "2. There are many people in this dataset whom have not been contacted in the previous campaign \n",
        "3. In terms of maximizing recall on \"Yes\" context, we do not suggest to use these model yet to be put in deployment, as all of them are at most 50% in recall.\n",
        "4. But, in terms of maximizing the overall correct result, our top 3 based on F1-macro: Random Forest, LightGBM, and Naive Bayes might be a good start on deployment\n"
      ],
      "metadata": {
        "id": "Sn9AlRmUEykx"
      }
    }
  ]
}