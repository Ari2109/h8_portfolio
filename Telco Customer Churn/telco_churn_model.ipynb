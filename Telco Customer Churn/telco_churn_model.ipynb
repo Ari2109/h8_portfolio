{
  "cells": [
    {
      "cell_type": "markdown",
      "metadata": {
        "id": "r-rA-YA_ABMK"
      },
      "source": [
        "## Introduction"
      ]
    },
    {
      "cell_type": "markdown",
      "source": [
        "`Name  : Ari Riscahyo Nugroho`\n",
        "\n",
        "`Batch : 007`\n",
        "\n",
        "`Github: Ari2109`"
      ],
      "metadata": {
        "id": "v0INvvLLvhXl"
      }
    },
    {
      "cell_type": "markdown",
      "source": [
        "This notebook refers to the dataset given here: https://www.kaggle.com/blastchar/telco-customer-churn\n",
        "\n",
        "The aim for this notebook is to predict whether a customer is categorized as churn or not in a telco company, based on the characteristics of the customers with the company \n",
        "\n",
        "The model used here is a simple neural network architecture"
      ],
      "metadata": {
        "id": "wKxHV5XawWNC"
      }
    },
    {
      "cell_type": "markdown",
      "metadata": {
        "id": "WWxAA1D-AEg6"
      },
      "source": [
        "## Import Library"
      ]
    },
    {
      "cell_type": "code",
      "execution_count": 1,
      "metadata": {
        "id": "yyUO8NXmAHK9"
      },
      "outputs": [],
      "source": [
        "import numpy as np\n",
        "import pandas as pd\n",
        "import matplotlib.pyplot as plt\n",
        "import seaborn as sns\n",
        "from sklearn.model_selection import train_test_split\n",
        "from sklearn.preprocessing import MinMaxScaler, OneHotEncoder, LabelEncoder\n",
        "from tensorflow.keras.models import Sequential, Model\n",
        "from tensorflow.keras.layers import Dense, Input\n",
        "from sklearn.pipeline import Pipeline\n",
        "from sklearn.compose import ColumnTransformer\n",
        "import tensorflow as tf\n",
        "from sklearn.metrics import classification_report"
      ]
    },
    {
      "cell_type": "markdown",
      "metadata": {
        "id": "F38QD7GwAIbZ"
      },
      "source": [
        "## EDA"
      ]
    },
    {
      "cell_type": "code",
      "execution_count": 2,
      "metadata": {
        "id": "5KtHBiy_AJEy"
      },
      "outputs": [],
      "source": [
        "df = pd.read_csv('https://raw.githubusercontent.com/Ari2109/data_repo/main/WA_Fn-UseC_-Telco-Customer-Churn.csv')"
      ]
    },
    {
      "cell_type": "code",
      "execution_count": 3,
      "metadata": {
        "colab": {
          "base_uri": "https://localhost:8080/",
          "height": 357
        },
        "id": "m6x0CcqqgmPj",
        "outputId": "c649f014-acff-4909-c847-68af4ed50163"
      },
      "outputs": [
        {
          "output_type": "execute_result",
          "data": {
            "text/html": [
              "\n",
              "  <div id=\"df-cb1b07a7-1cb5-4d85-8416-a7cd48b6dc63\">\n",
              "    <div class=\"colab-df-container\">\n",
              "      <div>\n",
              "<style scoped>\n",
              "    .dataframe tbody tr th:only-of-type {\n",
              "        vertical-align: middle;\n",
              "    }\n",
              "\n",
              "    .dataframe tbody tr th {\n",
              "        vertical-align: top;\n",
              "    }\n",
              "\n",
              "    .dataframe thead th {\n",
              "        text-align: right;\n",
              "    }\n",
              "</style>\n",
              "<table border=\"1\" class=\"dataframe\">\n",
              "  <thead>\n",
              "    <tr style=\"text-align: right;\">\n",
              "      <th></th>\n",
              "      <th>customerID</th>\n",
              "      <th>gender</th>\n",
              "      <th>SeniorCitizen</th>\n",
              "      <th>Partner</th>\n",
              "      <th>Dependents</th>\n",
              "      <th>tenure</th>\n",
              "      <th>PhoneService</th>\n",
              "      <th>MultipleLines</th>\n",
              "      <th>InternetService</th>\n",
              "      <th>OnlineSecurity</th>\n",
              "      <th>OnlineBackup</th>\n",
              "      <th>DeviceProtection</th>\n",
              "      <th>TechSupport</th>\n",
              "      <th>StreamingTV</th>\n",
              "      <th>StreamingMovies</th>\n",
              "      <th>Contract</th>\n",
              "      <th>PaperlessBilling</th>\n",
              "      <th>PaymentMethod</th>\n",
              "      <th>MonthlyCharges</th>\n",
              "      <th>TotalCharges</th>\n",
              "      <th>Churn</th>\n",
              "    </tr>\n",
              "  </thead>\n",
              "  <tbody>\n",
              "    <tr>\n",
              "      <th>2274</th>\n",
              "      <td>0320-JDNQG</td>\n",
              "      <td>Male</td>\n",
              "      <td>0</td>\n",
              "      <td>Yes</td>\n",
              "      <td>Yes</td>\n",
              "      <td>23</td>\n",
              "      <td>Yes</td>\n",
              "      <td>No</td>\n",
              "      <td>Fiber optic</td>\n",
              "      <td>Yes</td>\n",
              "      <td>No</td>\n",
              "      <td>No</td>\n",
              "      <td>Yes</td>\n",
              "      <td>Yes</td>\n",
              "      <td>Yes</td>\n",
              "      <td>Month-to-month</td>\n",
              "      <td>Yes</td>\n",
              "      <td>Electronic check</td>\n",
              "      <td>99.85</td>\n",
              "      <td>2331.3</td>\n",
              "      <td>Yes</td>\n",
              "    </tr>\n",
              "    <tr>\n",
              "      <th>928</th>\n",
              "      <td>0862-PRCBS</td>\n",
              "      <td>Female</td>\n",
              "      <td>0</td>\n",
              "      <td>Yes</td>\n",
              "      <td>Yes</td>\n",
              "      <td>68</td>\n",
              "      <td>Yes</td>\n",
              "      <td>Yes</td>\n",
              "      <td>Fiber optic</td>\n",
              "      <td>No</td>\n",
              "      <td>Yes</td>\n",
              "      <td>No</td>\n",
              "      <td>Yes</td>\n",
              "      <td>Yes</td>\n",
              "      <td>Yes</td>\n",
              "      <td>Two year</td>\n",
              "      <td>Yes</td>\n",
              "      <td>Credit card (automatic)</td>\n",
              "      <td>103.75</td>\n",
              "      <td>7039.45</td>\n",
              "      <td>No</td>\n",
              "    </tr>\n",
              "    <tr>\n",
              "      <th>5194</th>\n",
              "      <td>1902-XBTFB</td>\n",
              "      <td>Male</td>\n",
              "      <td>0</td>\n",
              "      <td>No</td>\n",
              "      <td>Yes</td>\n",
              "      <td>22</td>\n",
              "      <td>Yes</td>\n",
              "      <td>No</td>\n",
              "      <td>Fiber optic</td>\n",
              "      <td>No</td>\n",
              "      <td>Yes</td>\n",
              "      <td>Yes</td>\n",
              "      <td>No</td>\n",
              "      <td>Yes</td>\n",
              "      <td>No</td>\n",
              "      <td>Month-to-month</td>\n",
              "      <td>Yes</td>\n",
              "      <td>Electronic check</td>\n",
              "      <td>89.40</td>\n",
              "      <td>2001.5</td>\n",
              "      <td>Yes</td>\n",
              "    </tr>\n",
              "    <tr>\n",
              "      <th>3289</th>\n",
              "      <td>9626-VFRGG</td>\n",
              "      <td>Female</td>\n",
              "      <td>0</td>\n",
              "      <td>No</td>\n",
              "      <td>Yes</td>\n",
              "      <td>41</td>\n",
              "      <td>Yes</td>\n",
              "      <td>Yes</td>\n",
              "      <td>Fiber optic</td>\n",
              "      <td>No</td>\n",
              "      <td>Yes</td>\n",
              "      <td>No</td>\n",
              "      <td>No</td>\n",
              "      <td>Yes</td>\n",
              "      <td>No</td>\n",
              "      <td>Month-to-month</td>\n",
              "      <td>Yes</td>\n",
              "      <td>Bank transfer (automatic)</td>\n",
              "      <td>88.50</td>\n",
              "      <td>3645.05</td>\n",
              "      <td>No</td>\n",
              "    </tr>\n",
              "    <tr>\n",
              "      <th>2224</th>\n",
              "      <td>2528-HFYZX</td>\n",
              "      <td>Male</td>\n",
              "      <td>1</td>\n",
              "      <td>Yes</td>\n",
              "      <td>No</td>\n",
              "      <td>17</td>\n",
              "      <td>Yes</td>\n",
              "      <td>No</td>\n",
              "      <td>Fiber optic</td>\n",
              "      <td>No</td>\n",
              "      <td>Yes</td>\n",
              "      <td>No</td>\n",
              "      <td>No</td>\n",
              "      <td>No</td>\n",
              "      <td>No</td>\n",
              "      <td>Month-to-month</td>\n",
              "      <td>Yes</td>\n",
              "      <td>Electronic check</td>\n",
              "      <td>76.45</td>\n",
              "      <td>1233.4</td>\n",
              "      <td>Yes</td>\n",
              "    </tr>\n",
              "  </tbody>\n",
              "</table>\n",
              "</div>\n",
              "      <button class=\"colab-df-convert\" onclick=\"convertToInteractive('df-cb1b07a7-1cb5-4d85-8416-a7cd48b6dc63')\"\n",
              "              title=\"Convert this dataframe to an interactive table.\"\n",
              "              style=\"display:none;\">\n",
              "        \n",
              "  <svg xmlns=\"http://www.w3.org/2000/svg\" height=\"24px\"viewBox=\"0 0 24 24\"\n",
              "       width=\"24px\">\n",
              "    <path d=\"M0 0h24v24H0V0z\" fill=\"none\"/>\n",
              "    <path d=\"M18.56 5.44l.94 2.06.94-2.06 2.06-.94-2.06-.94-.94-2.06-.94 2.06-2.06.94zm-11 1L8.5 8.5l.94-2.06 2.06-.94-2.06-.94L8.5 2.5l-.94 2.06-2.06.94zm10 10l.94 2.06.94-2.06 2.06-.94-2.06-.94-.94-2.06-.94 2.06-2.06.94z\"/><path d=\"M17.41 7.96l-1.37-1.37c-.4-.4-.92-.59-1.43-.59-.52 0-1.04.2-1.43.59L10.3 9.45l-7.72 7.72c-.78.78-.78 2.05 0 2.83L4 21.41c.39.39.9.59 1.41.59.51 0 1.02-.2 1.41-.59l7.78-7.78 2.81-2.81c.8-.78.8-2.07 0-2.86zM5.41 20L4 18.59l7.72-7.72 1.47 1.35L5.41 20z\"/>\n",
              "  </svg>\n",
              "      </button>\n",
              "      \n",
              "  <style>\n",
              "    .colab-df-container {\n",
              "      display:flex;\n",
              "      flex-wrap:wrap;\n",
              "      gap: 12px;\n",
              "    }\n",
              "\n",
              "    .colab-df-convert {\n",
              "      background-color: #E8F0FE;\n",
              "      border: none;\n",
              "      border-radius: 50%;\n",
              "      cursor: pointer;\n",
              "      display: none;\n",
              "      fill: #1967D2;\n",
              "      height: 32px;\n",
              "      padding: 0 0 0 0;\n",
              "      width: 32px;\n",
              "    }\n",
              "\n",
              "    .colab-df-convert:hover {\n",
              "      background-color: #E2EBFA;\n",
              "      box-shadow: 0px 1px 2px rgba(60, 64, 67, 0.3), 0px 1px 3px 1px rgba(60, 64, 67, 0.15);\n",
              "      fill: #174EA6;\n",
              "    }\n",
              "\n",
              "    [theme=dark] .colab-df-convert {\n",
              "      background-color: #3B4455;\n",
              "      fill: #D2E3FC;\n",
              "    }\n",
              "\n",
              "    [theme=dark] .colab-df-convert:hover {\n",
              "      background-color: #434B5C;\n",
              "      box-shadow: 0px 1px 3px 1px rgba(0, 0, 0, 0.15);\n",
              "      filter: drop-shadow(0px 1px 2px rgba(0, 0, 0, 0.3));\n",
              "      fill: #FFFFFF;\n",
              "    }\n",
              "  </style>\n",
              "\n",
              "      <script>\n",
              "        const buttonEl =\n",
              "          document.querySelector('#df-cb1b07a7-1cb5-4d85-8416-a7cd48b6dc63 button.colab-df-convert');\n",
              "        buttonEl.style.display =\n",
              "          google.colab.kernel.accessAllowed ? 'block' : 'none';\n",
              "\n",
              "        async function convertToInteractive(key) {\n",
              "          const element = document.querySelector('#df-cb1b07a7-1cb5-4d85-8416-a7cd48b6dc63');\n",
              "          const dataTable =\n",
              "            await google.colab.kernel.invokeFunction('convertToInteractive',\n",
              "                                                     [key], {});\n",
              "          if (!dataTable) return;\n",
              "\n",
              "          const docLinkHtml = 'Like what you see? Visit the ' +\n",
              "            '<a target=\"_blank\" href=https://colab.research.google.com/notebooks/data_table.ipynb>data table notebook</a>'\n",
              "            + ' to learn more about interactive tables.';\n",
              "          element.innerHTML = '';\n",
              "          dataTable['output_type'] = 'display_data';\n",
              "          await google.colab.output.renderOutput(dataTable, element);\n",
              "          const docLink = document.createElement('div');\n",
              "          docLink.innerHTML = docLinkHtml;\n",
              "          element.appendChild(docLink);\n",
              "        }\n",
              "      </script>\n",
              "    </div>\n",
              "  </div>\n",
              "  "
            ],
            "text/plain": [
              "      customerID  gender  SeniorCitizen  ... MonthlyCharges TotalCharges  Churn\n",
              "2274  0320-JDNQG    Male              0  ...          99.85       2331.3    Yes\n",
              "928   0862-PRCBS  Female              0  ...         103.75      7039.45     No\n",
              "5194  1902-XBTFB    Male              0  ...          89.40       2001.5    Yes\n",
              "3289  9626-VFRGG  Female              0  ...          88.50      3645.05     No\n",
              "2224  2528-HFYZX    Male              1  ...          76.45       1233.4    Yes\n",
              "\n",
              "[5 rows x 21 columns]"
            ]
          },
          "metadata": {},
          "execution_count": 3
        }
      ],
      "source": [
        "df.sample(5)"
      ]
    },
    {
      "cell_type": "code",
      "execution_count": 4,
      "metadata": {
        "colab": {
          "base_uri": "https://localhost:8080/"
        },
        "id": "tMFsC73xgmKv",
        "outputId": "2d7f6028-12a6-4981-f954-b68ac27726ad"
      },
      "outputs": [
        {
          "output_type": "stream",
          "name": "stdout",
          "text": [
            "<class 'pandas.core.frame.DataFrame'>\n",
            "RangeIndex: 7043 entries, 0 to 7042\n",
            "Data columns (total 21 columns):\n",
            " #   Column            Non-Null Count  Dtype  \n",
            "---  ------            --------------  -----  \n",
            " 0   customerID        7043 non-null   object \n",
            " 1   gender            7043 non-null   object \n",
            " 2   SeniorCitizen     7043 non-null   int64  \n",
            " 3   Partner           7043 non-null   object \n",
            " 4   Dependents        7043 non-null   object \n",
            " 5   tenure            7043 non-null   int64  \n",
            " 6   PhoneService      7043 non-null   object \n",
            " 7   MultipleLines     7043 non-null   object \n",
            " 8   InternetService   7043 non-null   object \n",
            " 9   OnlineSecurity    7043 non-null   object \n",
            " 10  OnlineBackup      7043 non-null   object \n",
            " 11  DeviceProtection  7043 non-null   object \n",
            " 12  TechSupport       7043 non-null   object \n",
            " 13  StreamingTV       7043 non-null   object \n",
            " 14  StreamingMovies   7043 non-null   object \n",
            " 15  Contract          7043 non-null   object \n",
            " 16  PaperlessBilling  7043 non-null   object \n",
            " 17  PaymentMethod     7043 non-null   object \n",
            " 18  MonthlyCharges    7043 non-null   float64\n",
            " 19  TotalCharges      7043 non-null   object \n",
            " 20  Churn             7043 non-null   object \n",
            "dtypes: float64(1), int64(2), object(18)\n",
            "memory usage: 1.1+ MB\n"
          ]
        }
      ],
      "source": [
        "df.info()"
      ]
    },
    {
      "cell_type": "markdown",
      "metadata": {
        "id": "QMgZPsKH24Ce"
      },
      "source": [
        "No Null data, but it's weird to see TotalCharges is object datatype. Let's change that to float"
      ]
    },
    {
      "cell_type": "code",
      "execution_count": 5,
      "metadata": {
        "colab": {
          "base_uri": "https://localhost:8080/"
        },
        "id": "H0PTlb6MyPyH",
        "outputId": "035847b4-5aa1-4cdb-cb38-1852941aae60"
      },
      "outputs": [
        {
          "output_type": "execute_result",
          "data": {
            "text/plain": [
              "0         29.85\n",
              "1        1889.5\n",
              "2        108.15\n",
              "3       1840.75\n",
              "4        151.65\n",
              "         ...   \n",
              "7038     1990.5\n",
              "7039     7362.9\n",
              "7040     346.45\n",
              "7041      306.6\n",
              "7042     6844.5\n",
              "Name: TotalCharges, Length: 7043, dtype: object"
            ]
          },
          "metadata": {},
          "execution_count": 5
        }
      ],
      "source": [
        "df['TotalCharges']"
      ]
    },
    {
      "cell_type": "code",
      "execution_count": 6,
      "metadata": {
        "id": "t7BVlQsYxJBZ"
      },
      "outputs": [],
      "source": [
        "df2=df.copy()\n",
        "df2['TotalCharges']=pd.to_numeric(df['TotalCharges'],errors='coerce')\n"
      ]
    },
    {
      "cell_type": "markdown",
      "metadata": {
        "id": "IDIq3dGq3RdO"
      },
      "source": [
        "Is there any problem with us converting the TotalCharges? Let's check"
      ]
    },
    {
      "cell_type": "code",
      "execution_count": 7,
      "metadata": {
        "colab": {
          "base_uri": "https://localhost:8080/",
          "height": 649
        },
        "id": "WK3vG-ug3Ysq",
        "outputId": "6c53f505-8c2a-4610-9453-7464be04ad64"
      },
      "outputs": [
        {
          "output_type": "execute_result",
          "data": {
            "text/html": [
              "\n",
              "  <div id=\"df-30a48171-bddc-4a86-8840-8c2098de3e8f\">\n",
              "    <div class=\"colab-df-container\">\n",
              "      <div>\n",
              "<style scoped>\n",
              "    .dataframe tbody tr th:only-of-type {\n",
              "        vertical-align: middle;\n",
              "    }\n",
              "\n",
              "    .dataframe tbody tr th {\n",
              "        vertical-align: top;\n",
              "    }\n",
              "\n",
              "    .dataframe thead th {\n",
              "        text-align: right;\n",
              "    }\n",
              "</style>\n",
              "<table border=\"1\" class=\"dataframe\">\n",
              "  <thead>\n",
              "    <tr style=\"text-align: right;\">\n",
              "      <th></th>\n",
              "      <th>customerID</th>\n",
              "      <th>gender</th>\n",
              "      <th>SeniorCitizen</th>\n",
              "      <th>Partner</th>\n",
              "      <th>Dependents</th>\n",
              "      <th>tenure</th>\n",
              "      <th>PhoneService</th>\n",
              "      <th>MultipleLines</th>\n",
              "      <th>InternetService</th>\n",
              "      <th>OnlineSecurity</th>\n",
              "      <th>OnlineBackup</th>\n",
              "      <th>DeviceProtection</th>\n",
              "      <th>TechSupport</th>\n",
              "      <th>StreamingTV</th>\n",
              "      <th>StreamingMovies</th>\n",
              "      <th>Contract</th>\n",
              "      <th>PaperlessBilling</th>\n",
              "      <th>PaymentMethod</th>\n",
              "      <th>MonthlyCharges</th>\n",
              "      <th>TotalCharges</th>\n",
              "      <th>Churn</th>\n",
              "    </tr>\n",
              "  </thead>\n",
              "  <tbody>\n",
              "    <tr>\n",
              "      <th>488</th>\n",
              "      <td>4472-LVYGI</td>\n",
              "      <td>Female</td>\n",
              "      <td>0</td>\n",
              "      <td>Yes</td>\n",
              "      <td>Yes</td>\n",
              "      <td>0</td>\n",
              "      <td>No</td>\n",
              "      <td>No phone service</td>\n",
              "      <td>DSL</td>\n",
              "      <td>Yes</td>\n",
              "      <td>No</td>\n",
              "      <td>Yes</td>\n",
              "      <td>Yes</td>\n",
              "      <td>Yes</td>\n",
              "      <td>No</td>\n",
              "      <td>Two year</td>\n",
              "      <td>Yes</td>\n",
              "      <td>Bank transfer (automatic)</td>\n",
              "      <td>52.55</td>\n",
              "      <td>NaN</td>\n",
              "      <td>No</td>\n",
              "    </tr>\n",
              "    <tr>\n",
              "      <th>753</th>\n",
              "      <td>3115-CZMZD</td>\n",
              "      <td>Male</td>\n",
              "      <td>0</td>\n",
              "      <td>No</td>\n",
              "      <td>Yes</td>\n",
              "      <td>0</td>\n",
              "      <td>Yes</td>\n",
              "      <td>No</td>\n",
              "      <td>No</td>\n",
              "      <td>No internet service</td>\n",
              "      <td>No internet service</td>\n",
              "      <td>No internet service</td>\n",
              "      <td>No internet service</td>\n",
              "      <td>No internet service</td>\n",
              "      <td>No internet service</td>\n",
              "      <td>Two year</td>\n",
              "      <td>No</td>\n",
              "      <td>Mailed check</td>\n",
              "      <td>20.25</td>\n",
              "      <td>NaN</td>\n",
              "      <td>No</td>\n",
              "    </tr>\n",
              "    <tr>\n",
              "      <th>936</th>\n",
              "      <td>5709-LVOEQ</td>\n",
              "      <td>Female</td>\n",
              "      <td>0</td>\n",
              "      <td>Yes</td>\n",
              "      <td>Yes</td>\n",
              "      <td>0</td>\n",
              "      <td>Yes</td>\n",
              "      <td>No</td>\n",
              "      <td>DSL</td>\n",
              "      <td>Yes</td>\n",
              "      <td>Yes</td>\n",
              "      <td>Yes</td>\n",
              "      <td>No</td>\n",
              "      <td>Yes</td>\n",
              "      <td>Yes</td>\n",
              "      <td>Two year</td>\n",
              "      <td>No</td>\n",
              "      <td>Mailed check</td>\n",
              "      <td>80.85</td>\n",
              "      <td>NaN</td>\n",
              "      <td>No</td>\n",
              "    </tr>\n",
              "    <tr>\n",
              "      <th>1082</th>\n",
              "      <td>4367-NUYAO</td>\n",
              "      <td>Male</td>\n",
              "      <td>0</td>\n",
              "      <td>Yes</td>\n",
              "      <td>Yes</td>\n",
              "      <td>0</td>\n",
              "      <td>Yes</td>\n",
              "      <td>Yes</td>\n",
              "      <td>No</td>\n",
              "      <td>No internet service</td>\n",
              "      <td>No internet service</td>\n",
              "      <td>No internet service</td>\n",
              "      <td>No internet service</td>\n",
              "      <td>No internet service</td>\n",
              "      <td>No internet service</td>\n",
              "      <td>Two year</td>\n",
              "      <td>No</td>\n",
              "      <td>Mailed check</td>\n",
              "      <td>25.75</td>\n",
              "      <td>NaN</td>\n",
              "      <td>No</td>\n",
              "    </tr>\n",
              "    <tr>\n",
              "      <th>1340</th>\n",
              "      <td>1371-DWPAZ</td>\n",
              "      <td>Female</td>\n",
              "      <td>0</td>\n",
              "      <td>Yes</td>\n",
              "      <td>Yes</td>\n",
              "      <td>0</td>\n",
              "      <td>No</td>\n",
              "      <td>No phone service</td>\n",
              "      <td>DSL</td>\n",
              "      <td>Yes</td>\n",
              "      <td>Yes</td>\n",
              "      <td>Yes</td>\n",
              "      <td>Yes</td>\n",
              "      <td>Yes</td>\n",
              "      <td>No</td>\n",
              "      <td>Two year</td>\n",
              "      <td>No</td>\n",
              "      <td>Credit card (automatic)</td>\n",
              "      <td>56.05</td>\n",
              "      <td>NaN</td>\n",
              "      <td>No</td>\n",
              "    </tr>\n",
              "    <tr>\n",
              "      <th>3331</th>\n",
              "      <td>7644-OMVMY</td>\n",
              "      <td>Male</td>\n",
              "      <td>0</td>\n",
              "      <td>Yes</td>\n",
              "      <td>Yes</td>\n",
              "      <td>0</td>\n",
              "      <td>Yes</td>\n",
              "      <td>No</td>\n",
              "      <td>No</td>\n",
              "      <td>No internet service</td>\n",
              "      <td>No internet service</td>\n",
              "      <td>No internet service</td>\n",
              "      <td>No internet service</td>\n",
              "      <td>No internet service</td>\n",
              "      <td>No internet service</td>\n",
              "      <td>Two year</td>\n",
              "      <td>No</td>\n",
              "      <td>Mailed check</td>\n",
              "      <td>19.85</td>\n",
              "      <td>NaN</td>\n",
              "      <td>No</td>\n",
              "    </tr>\n",
              "    <tr>\n",
              "      <th>3826</th>\n",
              "      <td>3213-VVOLG</td>\n",
              "      <td>Male</td>\n",
              "      <td>0</td>\n",
              "      <td>Yes</td>\n",
              "      <td>Yes</td>\n",
              "      <td>0</td>\n",
              "      <td>Yes</td>\n",
              "      <td>Yes</td>\n",
              "      <td>No</td>\n",
              "      <td>No internet service</td>\n",
              "      <td>No internet service</td>\n",
              "      <td>No internet service</td>\n",
              "      <td>No internet service</td>\n",
              "      <td>No internet service</td>\n",
              "      <td>No internet service</td>\n",
              "      <td>Two year</td>\n",
              "      <td>No</td>\n",
              "      <td>Mailed check</td>\n",
              "      <td>25.35</td>\n",
              "      <td>NaN</td>\n",
              "      <td>No</td>\n",
              "    </tr>\n",
              "    <tr>\n",
              "      <th>4380</th>\n",
              "      <td>2520-SGTTA</td>\n",
              "      <td>Female</td>\n",
              "      <td>0</td>\n",
              "      <td>Yes</td>\n",
              "      <td>Yes</td>\n",
              "      <td>0</td>\n",
              "      <td>Yes</td>\n",
              "      <td>No</td>\n",
              "      <td>No</td>\n",
              "      <td>No internet service</td>\n",
              "      <td>No internet service</td>\n",
              "      <td>No internet service</td>\n",
              "      <td>No internet service</td>\n",
              "      <td>No internet service</td>\n",
              "      <td>No internet service</td>\n",
              "      <td>Two year</td>\n",
              "      <td>No</td>\n",
              "      <td>Mailed check</td>\n",
              "      <td>20.00</td>\n",
              "      <td>NaN</td>\n",
              "      <td>No</td>\n",
              "    </tr>\n",
              "    <tr>\n",
              "      <th>5218</th>\n",
              "      <td>2923-ARZLG</td>\n",
              "      <td>Male</td>\n",
              "      <td>0</td>\n",
              "      <td>Yes</td>\n",
              "      <td>Yes</td>\n",
              "      <td>0</td>\n",
              "      <td>Yes</td>\n",
              "      <td>No</td>\n",
              "      <td>No</td>\n",
              "      <td>No internet service</td>\n",
              "      <td>No internet service</td>\n",
              "      <td>No internet service</td>\n",
              "      <td>No internet service</td>\n",
              "      <td>No internet service</td>\n",
              "      <td>No internet service</td>\n",
              "      <td>One year</td>\n",
              "      <td>Yes</td>\n",
              "      <td>Mailed check</td>\n",
              "      <td>19.70</td>\n",
              "      <td>NaN</td>\n",
              "      <td>No</td>\n",
              "    </tr>\n",
              "    <tr>\n",
              "      <th>6670</th>\n",
              "      <td>4075-WKNIU</td>\n",
              "      <td>Female</td>\n",
              "      <td>0</td>\n",
              "      <td>Yes</td>\n",
              "      <td>Yes</td>\n",
              "      <td>0</td>\n",
              "      <td>Yes</td>\n",
              "      <td>Yes</td>\n",
              "      <td>DSL</td>\n",
              "      <td>No</td>\n",
              "      <td>Yes</td>\n",
              "      <td>Yes</td>\n",
              "      <td>Yes</td>\n",
              "      <td>Yes</td>\n",
              "      <td>No</td>\n",
              "      <td>Two year</td>\n",
              "      <td>No</td>\n",
              "      <td>Mailed check</td>\n",
              "      <td>73.35</td>\n",
              "      <td>NaN</td>\n",
              "      <td>No</td>\n",
              "    </tr>\n",
              "    <tr>\n",
              "      <th>6754</th>\n",
              "      <td>2775-SEFEE</td>\n",
              "      <td>Male</td>\n",
              "      <td>0</td>\n",
              "      <td>No</td>\n",
              "      <td>Yes</td>\n",
              "      <td>0</td>\n",
              "      <td>Yes</td>\n",
              "      <td>Yes</td>\n",
              "      <td>DSL</td>\n",
              "      <td>Yes</td>\n",
              "      <td>Yes</td>\n",
              "      <td>No</td>\n",
              "      <td>Yes</td>\n",
              "      <td>No</td>\n",
              "      <td>No</td>\n",
              "      <td>Two year</td>\n",
              "      <td>Yes</td>\n",
              "      <td>Bank transfer (automatic)</td>\n",
              "      <td>61.90</td>\n",
              "      <td>NaN</td>\n",
              "      <td>No</td>\n",
              "    </tr>\n",
              "  </tbody>\n",
              "</table>\n",
              "</div>\n",
              "      <button class=\"colab-df-convert\" onclick=\"convertToInteractive('df-30a48171-bddc-4a86-8840-8c2098de3e8f')\"\n",
              "              title=\"Convert this dataframe to an interactive table.\"\n",
              "              style=\"display:none;\">\n",
              "        \n",
              "  <svg xmlns=\"http://www.w3.org/2000/svg\" height=\"24px\"viewBox=\"0 0 24 24\"\n",
              "       width=\"24px\">\n",
              "    <path d=\"M0 0h24v24H0V0z\" fill=\"none\"/>\n",
              "    <path d=\"M18.56 5.44l.94 2.06.94-2.06 2.06-.94-2.06-.94-.94-2.06-.94 2.06-2.06.94zm-11 1L8.5 8.5l.94-2.06 2.06-.94-2.06-.94L8.5 2.5l-.94 2.06-2.06.94zm10 10l.94 2.06.94-2.06 2.06-.94-2.06-.94-.94-2.06-.94 2.06-2.06.94z\"/><path d=\"M17.41 7.96l-1.37-1.37c-.4-.4-.92-.59-1.43-.59-.52 0-1.04.2-1.43.59L10.3 9.45l-7.72 7.72c-.78.78-.78 2.05 0 2.83L4 21.41c.39.39.9.59 1.41.59.51 0 1.02-.2 1.41-.59l7.78-7.78 2.81-2.81c.8-.78.8-2.07 0-2.86zM5.41 20L4 18.59l7.72-7.72 1.47 1.35L5.41 20z\"/>\n",
              "  </svg>\n",
              "      </button>\n",
              "      \n",
              "  <style>\n",
              "    .colab-df-container {\n",
              "      display:flex;\n",
              "      flex-wrap:wrap;\n",
              "      gap: 12px;\n",
              "    }\n",
              "\n",
              "    .colab-df-convert {\n",
              "      background-color: #E8F0FE;\n",
              "      border: none;\n",
              "      border-radius: 50%;\n",
              "      cursor: pointer;\n",
              "      display: none;\n",
              "      fill: #1967D2;\n",
              "      height: 32px;\n",
              "      padding: 0 0 0 0;\n",
              "      width: 32px;\n",
              "    }\n",
              "\n",
              "    .colab-df-convert:hover {\n",
              "      background-color: #E2EBFA;\n",
              "      box-shadow: 0px 1px 2px rgba(60, 64, 67, 0.3), 0px 1px 3px 1px rgba(60, 64, 67, 0.15);\n",
              "      fill: #174EA6;\n",
              "    }\n",
              "\n",
              "    [theme=dark] .colab-df-convert {\n",
              "      background-color: #3B4455;\n",
              "      fill: #D2E3FC;\n",
              "    }\n",
              "\n",
              "    [theme=dark] .colab-df-convert:hover {\n",
              "      background-color: #434B5C;\n",
              "      box-shadow: 0px 1px 3px 1px rgba(0, 0, 0, 0.15);\n",
              "      filter: drop-shadow(0px 1px 2px rgba(0, 0, 0, 0.3));\n",
              "      fill: #FFFFFF;\n",
              "    }\n",
              "  </style>\n",
              "\n",
              "      <script>\n",
              "        const buttonEl =\n",
              "          document.querySelector('#df-30a48171-bddc-4a86-8840-8c2098de3e8f button.colab-df-convert');\n",
              "        buttonEl.style.display =\n",
              "          google.colab.kernel.accessAllowed ? 'block' : 'none';\n",
              "\n",
              "        async function convertToInteractive(key) {\n",
              "          const element = document.querySelector('#df-30a48171-bddc-4a86-8840-8c2098de3e8f');\n",
              "          const dataTable =\n",
              "            await google.colab.kernel.invokeFunction('convertToInteractive',\n",
              "                                                     [key], {});\n",
              "          if (!dataTable) return;\n",
              "\n",
              "          const docLinkHtml = 'Like what you see? Visit the ' +\n",
              "            '<a target=\"_blank\" href=https://colab.research.google.com/notebooks/data_table.ipynb>data table notebook</a>'\n",
              "            + ' to learn more about interactive tables.';\n",
              "          element.innerHTML = '';\n",
              "          dataTable['output_type'] = 'display_data';\n",
              "          await google.colab.output.renderOutput(dataTable, element);\n",
              "          const docLink = document.createElement('div');\n",
              "          docLink.innerHTML = docLinkHtml;\n",
              "          element.appendChild(docLink);\n",
              "        }\n",
              "      </script>\n",
              "    </div>\n",
              "  </div>\n",
              "  "
            ],
            "text/plain": [
              "      customerID  gender  SeniorCitizen  ... MonthlyCharges TotalCharges  Churn\n",
              "488   4472-LVYGI  Female              0  ...          52.55          NaN     No\n",
              "753   3115-CZMZD    Male              0  ...          20.25          NaN     No\n",
              "936   5709-LVOEQ  Female              0  ...          80.85          NaN     No\n",
              "1082  4367-NUYAO    Male              0  ...          25.75          NaN     No\n",
              "1340  1371-DWPAZ  Female              0  ...          56.05          NaN     No\n",
              "3331  7644-OMVMY    Male              0  ...          19.85          NaN     No\n",
              "3826  3213-VVOLG    Male              0  ...          25.35          NaN     No\n",
              "4380  2520-SGTTA  Female              0  ...          20.00          NaN     No\n",
              "5218  2923-ARZLG    Male              0  ...          19.70          NaN     No\n",
              "6670  4075-WKNIU  Female              0  ...          73.35          NaN     No\n",
              "6754  2775-SEFEE    Male              0  ...          61.90          NaN     No\n",
              "\n",
              "[11 rows x 21 columns]"
            ]
          },
          "metadata": {},
          "execution_count": 7
        }
      ],
      "source": [
        "df2[df2['TotalCharges'].isnull()] "
      ]
    },
    {
      "cell_type": "markdown",
      "metadata": {
        "id": "G2D6DaKb3ZaP"
      },
      "source": [
        "There's null data after we force-convert the TotalCharge. As there's only a little null data, we'll drop them immediately"
      ]
    },
    {
      "cell_type": "code",
      "execution_count": 8,
      "metadata": {
        "id": "_T2iPdcMt0eD"
      },
      "outputs": [],
      "source": [
        "df2.dropna(inplace=True)"
      ]
    },
    {
      "cell_type": "code",
      "execution_count": 9,
      "metadata": {
        "colab": {
          "base_uri": "https://localhost:8080/"
        },
        "id": "1mk1v5vn02Px",
        "outputId": "e18ffdab-3473-442e-f2ea-aec8e1b54163"
      },
      "outputs": [
        {
          "output_type": "stream",
          "name": "stdout",
          "text": [
            "<class 'pandas.core.frame.DataFrame'>\n",
            "Int64Index: 7032 entries, 0 to 7042\n",
            "Data columns (total 21 columns):\n",
            " #   Column            Non-Null Count  Dtype  \n",
            "---  ------            --------------  -----  \n",
            " 0   customerID        7032 non-null   object \n",
            " 1   gender            7032 non-null   object \n",
            " 2   SeniorCitizen     7032 non-null   int64  \n",
            " 3   Partner           7032 non-null   object \n",
            " 4   Dependents        7032 non-null   object \n",
            " 5   tenure            7032 non-null   int64  \n",
            " 6   PhoneService      7032 non-null   object \n",
            " 7   MultipleLines     7032 non-null   object \n",
            " 8   InternetService   7032 non-null   object \n",
            " 9   OnlineSecurity    7032 non-null   object \n",
            " 10  OnlineBackup      7032 non-null   object \n",
            " 11  DeviceProtection  7032 non-null   object \n",
            " 12  TechSupport       7032 non-null   object \n",
            " 13  StreamingTV       7032 non-null   object \n",
            " 14  StreamingMovies   7032 non-null   object \n",
            " 15  Contract          7032 non-null   object \n",
            " 16  PaperlessBilling  7032 non-null   object \n",
            " 17  PaymentMethod     7032 non-null   object \n",
            " 18  MonthlyCharges    7032 non-null   float64\n",
            " 19  TotalCharges      7032 non-null   float64\n",
            " 20  Churn             7032 non-null   object \n",
            "dtypes: float64(2), int64(2), object(17)\n",
            "memory usage: 1.2+ MB\n"
          ]
        }
      ],
      "source": [
        "df2.info()"
      ]
    },
    {
      "cell_type": "markdown",
      "metadata": {
        "id": "WfKARlvq3mf2"
      },
      "source": [
        "Now all data seems logically correct. Let's continue with the next EDA"
      ]
    },
    {
      "cell_type": "code",
      "execution_count": 10,
      "metadata": {
        "colab": {
          "base_uri": "https://localhost:8080/",
          "height": 300
        },
        "id": "vq-2rt8Zgl_I",
        "outputId": "adf4aa03-a556-45f1-aa1c-5c641e104ffa"
      },
      "outputs": [
        {
          "output_type": "execute_result",
          "data": {
            "text/html": [
              "\n",
              "  <div id=\"df-930a9d48-8606-4db5-b0d5-f7c34ec15054\">\n",
              "    <div class=\"colab-df-container\">\n",
              "      <div>\n",
              "<style scoped>\n",
              "    .dataframe tbody tr th:only-of-type {\n",
              "        vertical-align: middle;\n",
              "    }\n",
              "\n",
              "    .dataframe tbody tr th {\n",
              "        vertical-align: top;\n",
              "    }\n",
              "\n",
              "    .dataframe thead th {\n",
              "        text-align: right;\n",
              "    }\n",
              "</style>\n",
              "<table border=\"1\" class=\"dataframe\">\n",
              "  <thead>\n",
              "    <tr style=\"text-align: right;\">\n",
              "      <th></th>\n",
              "      <th>SeniorCitizen</th>\n",
              "      <th>tenure</th>\n",
              "      <th>MonthlyCharges</th>\n",
              "      <th>TotalCharges</th>\n",
              "    </tr>\n",
              "  </thead>\n",
              "  <tbody>\n",
              "    <tr>\n",
              "      <th>count</th>\n",
              "      <td>7032.000000</td>\n",
              "      <td>7032.000000</td>\n",
              "      <td>7032.000000</td>\n",
              "      <td>7032.000000</td>\n",
              "    </tr>\n",
              "    <tr>\n",
              "      <th>mean</th>\n",
              "      <td>0.162400</td>\n",
              "      <td>32.421786</td>\n",
              "      <td>64.798208</td>\n",
              "      <td>2283.300441</td>\n",
              "    </tr>\n",
              "    <tr>\n",
              "      <th>std</th>\n",
              "      <td>0.368844</td>\n",
              "      <td>24.545260</td>\n",
              "      <td>30.085974</td>\n",
              "      <td>2266.771362</td>\n",
              "    </tr>\n",
              "    <tr>\n",
              "      <th>min</th>\n",
              "      <td>0.000000</td>\n",
              "      <td>1.000000</td>\n",
              "      <td>18.250000</td>\n",
              "      <td>18.800000</td>\n",
              "    </tr>\n",
              "    <tr>\n",
              "      <th>25%</th>\n",
              "      <td>0.000000</td>\n",
              "      <td>9.000000</td>\n",
              "      <td>35.587500</td>\n",
              "      <td>401.450000</td>\n",
              "    </tr>\n",
              "    <tr>\n",
              "      <th>50%</th>\n",
              "      <td>0.000000</td>\n",
              "      <td>29.000000</td>\n",
              "      <td>70.350000</td>\n",
              "      <td>1397.475000</td>\n",
              "    </tr>\n",
              "    <tr>\n",
              "      <th>75%</th>\n",
              "      <td>0.000000</td>\n",
              "      <td>55.000000</td>\n",
              "      <td>89.862500</td>\n",
              "      <td>3794.737500</td>\n",
              "    </tr>\n",
              "    <tr>\n",
              "      <th>max</th>\n",
              "      <td>1.000000</td>\n",
              "      <td>72.000000</td>\n",
              "      <td>118.750000</td>\n",
              "      <td>8684.800000</td>\n",
              "    </tr>\n",
              "  </tbody>\n",
              "</table>\n",
              "</div>\n",
              "      <button class=\"colab-df-convert\" onclick=\"convertToInteractive('df-930a9d48-8606-4db5-b0d5-f7c34ec15054')\"\n",
              "              title=\"Convert this dataframe to an interactive table.\"\n",
              "              style=\"display:none;\">\n",
              "        \n",
              "  <svg xmlns=\"http://www.w3.org/2000/svg\" height=\"24px\"viewBox=\"0 0 24 24\"\n",
              "       width=\"24px\">\n",
              "    <path d=\"M0 0h24v24H0V0z\" fill=\"none\"/>\n",
              "    <path d=\"M18.56 5.44l.94 2.06.94-2.06 2.06-.94-2.06-.94-.94-2.06-.94 2.06-2.06.94zm-11 1L8.5 8.5l.94-2.06 2.06-.94-2.06-.94L8.5 2.5l-.94 2.06-2.06.94zm10 10l.94 2.06.94-2.06 2.06-.94-2.06-.94-.94-2.06-.94 2.06-2.06.94z\"/><path d=\"M17.41 7.96l-1.37-1.37c-.4-.4-.92-.59-1.43-.59-.52 0-1.04.2-1.43.59L10.3 9.45l-7.72 7.72c-.78.78-.78 2.05 0 2.83L4 21.41c.39.39.9.59 1.41.59.51 0 1.02-.2 1.41-.59l7.78-7.78 2.81-2.81c.8-.78.8-2.07 0-2.86zM5.41 20L4 18.59l7.72-7.72 1.47 1.35L5.41 20z\"/>\n",
              "  </svg>\n",
              "      </button>\n",
              "      \n",
              "  <style>\n",
              "    .colab-df-container {\n",
              "      display:flex;\n",
              "      flex-wrap:wrap;\n",
              "      gap: 12px;\n",
              "    }\n",
              "\n",
              "    .colab-df-convert {\n",
              "      background-color: #E8F0FE;\n",
              "      border: none;\n",
              "      border-radius: 50%;\n",
              "      cursor: pointer;\n",
              "      display: none;\n",
              "      fill: #1967D2;\n",
              "      height: 32px;\n",
              "      padding: 0 0 0 0;\n",
              "      width: 32px;\n",
              "    }\n",
              "\n",
              "    .colab-df-convert:hover {\n",
              "      background-color: #E2EBFA;\n",
              "      box-shadow: 0px 1px 2px rgba(60, 64, 67, 0.3), 0px 1px 3px 1px rgba(60, 64, 67, 0.15);\n",
              "      fill: #174EA6;\n",
              "    }\n",
              "\n",
              "    [theme=dark] .colab-df-convert {\n",
              "      background-color: #3B4455;\n",
              "      fill: #D2E3FC;\n",
              "    }\n",
              "\n",
              "    [theme=dark] .colab-df-convert:hover {\n",
              "      background-color: #434B5C;\n",
              "      box-shadow: 0px 1px 3px 1px rgba(0, 0, 0, 0.15);\n",
              "      filter: drop-shadow(0px 1px 2px rgba(0, 0, 0, 0.3));\n",
              "      fill: #FFFFFF;\n",
              "    }\n",
              "  </style>\n",
              "\n",
              "      <script>\n",
              "        const buttonEl =\n",
              "          document.querySelector('#df-930a9d48-8606-4db5-b0d5-f7c34ec15054 button.colab-df-convert');\n",
              "        buttonEl.style.display =\n",
              "          google.colab.kernel.accessAllowed ? 'block' : 'none';\n",
              "\n",
              "        async function convertToInteractive(key) {\n",
              "          const element = document.querySelector('#df-930a9d48-8606-4db5-b0d5-f7c34ec15054');\n",
              "          const dataTable =\n",
              "            await google.colab.kernel.invokeFunction('convertToInteractive',\n",
              "                                                     [key], {});\n",
              "          if (!dataTable) return;\n",
              "\n",
              "          const docLinkHtml = 'Like what you see? Visit the ' +\n",
              "            '<a target=\"_blank\" href=https://colab.research.google.com/notebooks/data_table.ipynb>data table notebook</a>'\n",
              "            + ' to learn more about interactive tables.';\n",
              "          element.innerHTML = '';\n",
              "          dataTable['output_type'] = 'display_data';\n",
              "          await google.colab.output.renderOutput(dataTable, element);\n",
              "          const docLink = document.createElement('div');\n",
              "          docLink.innerHTML = docLinkHtml;\n",
              "          element.appendChild(docLink);\n",
              "        }\n",
              "      </script>\n",
              "    </div>\n",
              "  </div>\n",
              "  "
            ],
            "text/plain": [
              "       SeniorCitizen       tenure  MonthlyCharges  TotalCharges\n",
              "count    7032.000000  7032.000000     7032.000000   7032.000000\n",
              "mean        0.162400    32.421786       64.798208   2283.300441\n",
              "std         0.368844    24.545260       30.085974   2266.771362\n",
              "min         0.000000     1.000000       18.250000     18.800000\n",
              "25%         0.000000     9.000000       35.587500    401.450000\n",
              "50%         0.000000    29.000000       70.350000   1397.475000\n",
              "75%         0.000000    55.000000       89.862500   3794.737500\n",
              "max         1.000000    72.000000      118.750000   8684.800000"
            ]
          },
          "metadata": {},
          "execution_count": 10
        }
      ],
      "source": [
        "df2.describe()"
      ]
    },
    {
      "cell_type": "code",
      "execution_count": 11,
      "metadata": {
        "colab": {
          "base_uri": "https://localhost:8080/",
          "height": 336
        },
        "id": "wjbJ3rrFgxci",
        "outputId": "cf68b2fb-7a8e-48f2-ec80-8fc7f7cfc62a"
      },
      "outputs": [
        {
          "output_type": "display_data",
          "data": {
            "image/png": "[encoded data removed]",
            "text/plain": [
              "<Figure size 720x360 with 4 Axes>"
            ]
          },
          "metadata": {
            "needs_background": "light"
          }
        }
      ],
      "source": [
        "df2.hist(figsize=(10,5))\n",
        "plt.show()"
      ]
    },
    {
      "cell_type": "markdown",
      "source": [
        "The data distribution is mostly skewed\n",
        "\n",
        "Now let's see the data of Monthly Charge "
      ],
      "metadata": {
        "id": "4zVvVlqnnDhp"
      }
    },
    {
      "cell_type": "code",
      "source": [
        "fig1, axes1 = plt.subplots(1,2, figsize=(6,3)) \n",
        "plt.subplot(1,2,1)\n",
        "plt.xlabel('Churned')\n",
        "df2[df2['Churn'] == 'Yes']['MonthlyCharges'].plot(kind='box')\n",
        "plt.subplot(1,2,2)\n",
        "plt.xlabel('Stayed')\n",
        "df2[df2['Churn'] == 'No']['MonthlyCharges'].plot(kind='box')\n",
        "plt.show()"
      ],
      "metadata": {
        "colab": {
          "base_uri": "https://localhost:8080/",
          "height": 225
        },
        "id": "WbjKgK5nmt6H",
        "outputId": "734945cd-82f3-4922-c1e8-003761d09f41"
      },
      "execution_count": 12,
      "outputs": [
        {
          "output_type": "display_data",
          "data": {
            "image/png": "[encoded data removed]",
            "text/plain": [
              "<Figure size 432x216 with 2 Axes>"
            ]
          },
          "metadata": {
            "needs_background": "light"
          }
        }
      ]
    },
    {
      "cell_type": "markdown",
      "source": [
        "The central point of our churned customer is higher than the staying customer. This could be meant that customers aren't quite happy with the price charged per month. \n",
        "\n",
        "Do note that this is not necessarily a causation, though it's worth to investigate. The 'lower charges' on customer whom stays might be the one loyal customer who didn't pick up internet service and thus making the price lower"
      ],
      "metadata": {
        "id": "h6fKvvlHnhRj"
      }
    },
    {
      "cell_type": "markdown",
      "source": [
        "Next we'll see how long our churned customers are staying before, and how long our currently stayed customer have been subscribed "
      ],
      "metadata": {
        "id": "1tqYcvSzoeHX"
      }
    },
    {
      "cell_type": "code",
      "source": [
        "fig1, axes1 = plt.subplots(1,2, figsize=(6,3)) \n",
        "plt.subplot(1,2,1)\n",
        "plt.xlabel('Churned')\n",
        "df2[df2['Churn'] == 'Yes']['tenure'].plot(kind='box')\n",
        "plt.subplot(1,2,2)\n",
        "plt.xlabel('Stayed')\n",
        "df2[df2['Churn'] == 'No']['tenure'].plot(kind='box')\n",
        "plt.show()"
      ],
      "metadata": {
        "colab": {
          "base_uri": "https://localhost:8080/",
          "height": 225
        },
        "id": "Oh1qBtzVlOZc",
        "outputId": "c9f320ef-9e08-4d50-acc1-2bba911da970"
      },
      "execution_count": 13,
      "outputs": [
        {
          "output_type": "display_data",
          "data": {
            "image/png": "[encoded data removed]",
            "text/plain": [
              "<Figure size 432x216 with 2 Axes>"
            ]
          },
          "metadata": {
            "needs_background": "light"
          }
        }
      ]
    },
    {
      "cell_type": "markdown",
      "metadata": {
        "id": "w9SiK5Bk30uk"
      },
      "source": [
        "Most of our churned customer left after less than 30 months. Our staying customers have been subscribed for mostly 20-60 months"
      ]
    },
    {
      "cell_type": "markdown",
      "metadata": {
        "id": "feD6blSl33zF"
      },
      "source": [
        "Next, we'll drop customer ID, then visualize the categorical data"
      ]
    },
    {
      "cell_type": "code",
      "execution_count": 14,
      "metadata": {
        "id": "FwxnVBCBrtGS"
      },
      "outputs": [],
      "source": [
        "df_nid = df2.drop(columns='customerID')\n",
        "df_nid_cat = df_nid.drop(columns=['tenure', 'MonthlyCharges', 'TotalCharges'])\n",
        "#df_nid_cat"
      ]
    },
    {
      "cell_type": "code",
      "execution_count": 15,
      "metadata": {
        "colab": {
          "base_uri": "https://localhost:8080/",
          "height": 1000
        },
        "id": "r-_d3uKhrgKM",
        "outputId": "8e95e226-86f4-480f-efc1-a9a87eed994d"
      },
      "outputs": [
        {
          "output_type": "display_data",
          "data": {
            "image/png": "[encoded data removed]",
            "text/plain": [
              "<Figure size 1440x1728 with 18 Axes>"
            ]
          },
          "metadata": {
            "needs_background": "light"
          }
        }
      ],
      "source": [
        "n=len(df_nid_cat.columns)\n",
        "fig, axes = plt.subplots(6,3, figsize=(20,24)) \n",
        "for i, col in enumerate(df_nid_cat.columns):\n",
        "    #plt.figure(i)\n",
        "    sns.countplot(x=col, hue=\"Churn\",\n",
        "              palette=\"pastel\", edgecolor=\".6\",\n",
        "              data=df_nid_cat)\n",
        "    plt.subplot(6,3,i+1)"
      ]
    },
    {
      "cell_type": "markdown",
      "metadata": {
        "id": "QHGcol6cOV-W"
      },
      "source": [
        "According to the diagram, these are the customers that are churned (note: it doesn't directly imply causation, but worth to investigate):\n",
        "1. Have Fiber Optic internet service\n",
        "2. Subscribe in month-to-month contract\n",
        "3. Have no Tech Support to help (unclear if this meant that customer didn't have anyone that is tech-savvy, or simply if the customer never contacted tech support)\n",
        "4. Have no Online Security \n",
        "5. Have no Online Backup\n",
        "6. Have no Device Protection\n",
        "7. Single or Lives alone \n",
        "8. Paying via Electronic Check\n",
        "\n",
        "Also from the diagram, we can see that gender is having no effect on determining the churned customer"
      ]
    },
    {
      "cell_type": "markdown",
      "metadata": {
        "id": "N6uejzpfALFH"
      },
      "source": [
        "## Train-Test Split, Train Data Exploratory, 'Pipeline' Definition"
      ]
    },
    {
      "cell_type": "code",
      "execution_count": 16,
      "metadata": {
        "id": "sukcmo2dn2VE"
      },
      "outputs": [],
      "source": [
        "X = df_nid.drop(columns='Churn')\n",
        "y = df_nid['Churn']"
      ]
    },
    {
      "cell_type": "markdown",
      "metadata": {
        "id": "1wqjJt025XRf"
      },
      "source": [
        "Since we are using neural network, string label doesn't work here. We'll take 'Churned'/'Yes' as positive [1] and 'Stayed'/'No' as negative [0]"
      ]
    },
    {
      "cell_type": "code",
      "execution_count": 17,
      "metadata": {
        "id": "Ik9dlNjX7MdR"
      },
      "outputs": [],
      "source": [
        "le = LabelEncoder()\n",
        "le.fit(['No', 'Yes'])\n",
        "y = le.transform(y)\n",
        "#y"
      ]
    },
    {
      "cell_type": "code",
      "execution_count": 18,
      "metadata": {
        "id": "M4e44UPE1kgf"
      },
      "outputs": [],
      "source": [
        "X_train, X_test, y_train, y_test = train_test_split(X, y, test_size=0.2, random_state=42)\n",
        "X_train, X_val, y_train, y_val = train_test_split(X_train, y_train, test_size = 0.2, random_state=42)"
      ]
    },
    {
      "cell_type": "code",
      "execution_count": 19,
      "metadata": {
        "id": "_8ZUcGzY4zlS"
      },
      "outputs": [],
      "source": [
        "ohe = OneHotEncoder(handle_unknown='ignore')\n",
        "minmax = MinMaxScaler()"
      ]
    },
    {
      "cell_type": "code",
      "execution_count": 20,
      "metadata": {
        "id": "DCZq0NPy5O4u"
      },
      "outputs": [],
      "source": [
        "telco_num = X_train.select_dtypes(include=[np.number])\n",
        "telco_cat = X_train.drop(columns=telco_num.columns.tolist())"
      ]
    },
    {
      "cell_type": "code",
      "execution_count": 21,
      "metadata": {
        "id": "kp0F9czEcq8n"
      },
      "outputs": [],
      "source": [
        "num_pipeline = Pipeline([\n",
        "            (\"minmax\", minmax)\n",
        "])"
      ]
    },
    {
      "cell_type": "code",
      "execution_count": 22,
      "metadata": {
        "id": "-6fPmRvydoGH"
      },
      "outputs": [],
      "source": [
        "cat_pipeline = Pipeline([\n",
        "            (\"one-hot\", ohe)\n",
        "])"
      ]
    },
    {
      "cell_type": "code",
      "execution_count": 23,
      "metadata": {
        "id": "s2qMD-HkbTR6"
      },
      "outputs": [],
      "source": [
        "num_attribs = list(telco_num)\n",
        "cat_attribs = list(telco_cat)\n",
        "\n",
        "full_prep = ColumnTransformer([\n",
        "        (\"num\", num_pipeline, num_attribs),\n",
        "        (\"cat\", cat_pipeline, cat_attribs),\n",
        "    ])\n",
        "\n",
        "train_prepared = full_prep.fit_transform(X_train)\n",
        "val_prepared = full_prep.transform(X_val)\n",
        "test_prepared = full_prep.transform(X_test)"
      ]
    },
    {
      "cell_type": "code",
      "execution_count": 24,
      "metadata": {
        "id": "G797OT4N0mww"
      },
      "outputs": [],
      "source": [
        "train_tensor = tf.data.Dataset.from_tensor_slices((train_prepared, y_train))\n",
        "\n",
        "train_batches = train_tensor.shuffle(100).batch(32) "
      ]
    },
    {
      "cell_type": "markdown",
      "metadata": {
        "id": "6XmHBL3lAbj8"
      },
      "source": [
        "## Basic NN"
      ]
    },
    {
      "cell_type": "markdown",
      "metadata": {
        "id": "Mpa68snm9_Le"
      },
      "source": [
        "Before we continue with the modelling, note that we are focusing on the churned customer (1 / Positive Class). We don't want to falsely predict (F) a churned customer as stayed customer (N), as getting customer back / getting new customer is more costly rather than try to retain the existing customer\n",
        "\n",
        "As such, we'll focus on Recall value on the Churn prediction "
      ]
    },
    {
      "cell_type": "markdown",
      "source": [
        "### Sequential API"
      ],
      "metadata": {
        "id": "ujstsGiwxB0D"
      }
    },
    {
      "cell_type": "markdown",
      "metadata": {
        "id": "WAQC7Tw-4m8X"
      },
      "source": [
        "We'll do basic neural network architecture with 1 hidden layer containing 16 nodes using ReLU activation, with 1 output layer using sigmoid activation. First we try the Sequential API "
      ]
    },
    {
      "cell_type": "code",
      "execution_count": 25,
      "metadata": {
        "colab": {
          "base_uri": "https://localhost:8080/"
        },
        "id": "hclUCYLQBD0f",
        "outputId": "e9fdf7d4-02ee-4c71-aacc-02fc30fb4367"
      },
      "outputs": [
        {
          "output_type": "stream",
          "name": "stdout",
          "text": [
            "CPU times: user 47.5 s, sys: 3.71 s, total: 51.2 s\n",
            "Wall time: 59 s\n"
          ]
        }
      ],
      "source": [
        "%%time\n",
        "# basic NN\n",
        "model = Sequential()\n",
        "model.add(Dense(8, activation='relu', input_shape=(45,))) # hidden layer\n",
        "model.add(Dense(1, activation='sigmoid'))\n",
        "\n",
        "# compile\n",
        "model.compile(loss='binary_crossentropy',\n",
        "              optimizer='adam',\n",
        "              metrics=['accuracy'])\n",
        "\n",
        "# train\n",
        "history_base = model.fit(train_batches, epochs=100, validation_data=(val_prepared, y_val), verbose=0)"
      ]
    },
    {
      "cell_type": "markdown",
      "metadata": {
        "id": "oTcJEr7v43ze"
      },
      "source": [
        "Next we visualize the loss and val_loss progress per epoch"
      ]
    },
    {
      "cell_type": "code",
      "execution_count": 26,
      "metadata": {
        "colab": {
          "base_uri": "https://localhost:8080/",
          "height": 282
        },
        "id": "41SNqmi-w6pE",
        "outputId": "c780bce7-7e5d-4737-dbd6-d30479079e22"
      },
      "outputs": [
        {
          "output_type": "execute_result",
          "data": {
            "text/plain": [
              "<matplotlib.axes._subplots.AxesSubplot at 0x7fcd221e3890>"
            ]
          },
          "metadata": {},
          "execution_count": 26
        },
        {
          "output_type": "display_data",
          "data": {
            "image/png": "[encoded data removed]",
            "text/plain": [
              "<Figure size 432x288 with 1 Axes>"
            ]
          },
          "metadata": {
            "needs_background": "light"
          }
        }
      ],
      "source": [
        "metrics = pd.DataFrame(history_base.history)\n",
        "metrics[['loss', 'val_loss']].plot()"
      ]
    },
    {
      "cell_type": "markdown",
      "metadata": {
        "id": "I-Al7hv142L2"
      },
      "source": [
        "The model seems to do good, both loss and val_loss are convergent. Both losses is still around 0.4 tho, so we see if we can do something better "
      ]
    },
    {
      "cell_type": "markdown",
      "source": [
        "### Functional API"
      ],
      "metadata": {
        "id": "z91wm2U0xHQp"
      }
    },
    {
      "cell_type": "markdown",
      "metadata": {
        "id": "jEWvm7o15qFQ"
      },
      "source": [
        "Next we'll try the Functional API. Note that this is not into model improvement yet, just another way to do it"
      ]
    },
    {
      "cell_type": "code",
      "execution_count": 27,
      "metadata": {
        "colab": {
          "base_uri": "https://localhost:8080/"
        },
        "id": "9zRF-n_-g7bf",
        "outputId": "8d550d2d-c155-449a-aaec-1d18a4312158"
      },
      "outputs": [
        {
          "output_type": "stream",
          "name": "stdout",
          "text": [
            "CPU times: user 45.4 s, sys: 3.5 s, total: 48.9 s\n",
            "Wall time: 51 s\n"
          ]
        }
      ],
      "source": [
        "%%time\n",
        "input_data = Input(shape=(45,))\n",
        "hidden_1 = Dense(8, activation='relu')(input_data)\n",
        "output = Dense(1, activation='sigmoid')(hidden_1)\n",
        "\n",
        "model = Model(inputs=input_data, outputs=output)\n",
        "model.compile(loss='binary_crossentropy',\n",
        "              optimizer='adam',\n",
        "              metrics=['accuracy'])\n",
        "\n",
        "# train\n",
        "history_base = model.fit(train_batches, epochs=100, validation_data=(val_prepared, y_val), verbose=0)"
      ]
    },
    {
      "cell_type": "code",
      "execution_count": 28,
      "metadata": {
        "colab": {
          "base_uri": "https://localhost:8080/",
          "height": 282
        },
        "id": "_tqSETQM6ykH",
        "outputId": "1fe1bbe3-3273-4a18-8896-948e74c0bbfd"
      },
      "outputs": [
        {
          "output_type": "execute_result",
          "data": {
            "text/plain": [
              "<matplotlib.axes._subplots.AxesSubplot at 0x7fcd0c757c90>"
            ]
          },
          "metadata": {},
          "execution_count": 28
        },
        {
          "output_type": "display_data",
          "data": {
            "image/png": "[encoded data removed]",
            "text/plain": [
              "<Figure size 432x288 with 1 Axes>"
            ]
          },
          "metadata": {
            "needs_background": "light"
          }
        }
      ],
      "source": [
        "metrics = pd.DataFrame(history_base.history)\n",
        "metrics[['loss', 'val_loss']].plot()"
      ]
    },
    {
      "cell_type": "code",
      "execution_count": 29,
      "metadata": {
        "id": "BTL86m3O7WLj"
      },
      "outputs": [],
      "source": [
        "y_pred = model.predict(test_prepared)\n",
        "y_pred[y_pred < 0.5] = 0\n",
        "y_pred[y_pred >= 0.5] = 1\n",
        "y_pred = y_pred.squeeze()"
      ]
    },
    {
      "cell_type": "code",
      "execution_count": 30,
      "metadata": {
        "colab": {
          "base_uri": "https://localhost:8080/"
        },
        "id": "_-kbPzgD8gkq",
        "outputId": "3b01cdfa-fbbc-484c-8e6c-45462ad3258f"
      },
      "outputs": [
        {
          "output_type": "stream",
          "name": "stdout",
          "text": [
            "              precision    recall  f1-score   support\n",
            "\n",
            "           0       0.83      0.89      0.86      1033\n",
            "           1       0.63      0.51      0.56       374\n",
            "\n",
            "    accuracy                           0.79      1407\n",
            "   macro avg       0.73      0.70      0.71      1407\n",
            "weighted avg       0.78      0.79      0.78      1407\n",
            "\n"
          ]
        }
      ],
      "source": [
        "print(classification_report(y_test, y_pred))"
      ]
    },
    {
      "cell_type": "markdown",
      "metadata": {
        "id": "m3hStaNm_mct"
      },
      "source": [
        "The recall here is 0.51, which is just slightly better than a coinflip, with the F1 macro of 0.71."
      ]
    },
    {
      "cell_type": "markdown",
      "metadata": {
        "id": "Q8EeWhTSBO4e"
      },
      "source": [
        "## Model Improvement Trial-and-Error"
      ]
    },
    {
      "cell_type": "markdown",
      "metadata": {
        "id": "Krw25uzRDz8w"
      },
      "source": [
        "First, we'll try adding extra layer on the model"
      ]
    },
    {
      "cell_type": "code",
      "execution_count": 31,
      "metadata": {
        "colab": {
          "base_uri": "https://localhost:8080/"
        },
        "id": "QiGpCMTJh8wI",
        "outputId": "d2043004-2c86-47eb-99e5-13c5e8ffa293"
      },
      "outputs": [
        {
          "output_type": "stream",
          "name": "stdout",
          "text": [
            "CPU times: user 47.1 s, sys: 3.46 s, total: 50.6 s\n",
            "Wall time: 51.3 s\n"
          ]
        }
      ],
      "source": [
        "%%time\n",
        "# basic NN\n",
        "model = Sequential()\n",
        "model.add(Dense(8, activation='relu', input_shape=(45,))) # hidden layer\n",
        "model.add(Dense(4, activation='relu'))\n",
        "model.add(Dense(1, activation='sigmoid'))\n",
        "\n",
        "# compile\n",
        "model.compile(loss='binary_crossentropy',\n",
        "              optimizer='adam',\n",
        "              metrics=['accuracy'])\n",
        "\n",
        "# train\n",
        "history_layer = model.fit(train_batches, epochs=100, validation_data=(val_prepared, y_val), verbose=0)"
      ]
    },
    {
      "cell_type": "code",
      "execution_count": 32,
      "metadata": {
        "colab": {
          "base_uri": "https://localhost:8080/",
          "height": 282
        },
        "id": "10B_aO2viQ5r",
        "outputId": "bc3e2aa2-8c9f-4961-e478-858916a98104"
      },
      "outputs": [
        {
          "output_type": "execute_result",
          "data": {
            "text/plain": [
              "<matplotlib.axes._subplots.AxesSubplot at 0x7fcd900a3f90>"
            ]
          },
          "metadata": {},
          "execution_count": 32
        },
        {
          "output_type": "display_data",
          "data": {
            "image/png": "[encoded data removed]",
            "text/plain": [
              "<Figure size 432x288 with 1 Axes>"
            ]
          },
          "metadata": {
            "needs_background": "light"
          }
        }
      ],
      "source": [
        "metrics = pd.DataFrame(history_layer.history)\n",
        "metrics[['loss', 'val_loss']].plot()"
      ]
    },
    {
      "cell_type": "markdown",
      "metadata": {
        "id": "iKexBWD2jWZ-"
      },
      "source": [
        "Adding layer doesn't quite afecting anything. We'll try different way"
      ]
    },
    {
      "cell_type": "markdown",
      "metadata": {
        "id": "Y1wJgsHiEDV_"
      },
      "source": [
        "This time, we'll change the optimizer to NAdam"
      ]
    },
    {
      "cell_type": "code",
      "execution_count": 33,
      "metadata": {
        "colab": {
          "base_uri": "https://localhost:8080/"
        },
        "id": "7pkxlpeFkMPh",
        "outputId": "2299ca20-2f02-4c60-c2b2-e70b67404968"
      },
      "outputs": [
        {
          "output_type": "stream",
          "name": "stdout",
          "text": [
            "CPU times: user 53.5 s, sys: 3.71 s, total: 57.2 s\n",
            "Wall time: 52.5 s\n"
          ]
        }
      ],
      "source": [
        "%%time\n",
        "model = Sequential()\n",
        "model.add(Dense(8, activation='relu', input_shape=(45,))) # hidden layer\n",
        "model.add(Dense(1, activation='sigmoid'))\n",
        "\n",
        "model.compile(loss='binary_crossentropy',\n",
        "              optimizer='nadam',\n",
        "              metrics=['accuracy'])\n",
        "\n",
        "history_nadam = model.fit(train_batches, epochs=100, validation_data=(val_prepared, y_val), verbose=0)"
      ]
    },
    {
      "cell_type": "code",
      "execution_count": 34,
      "metadata": {
        "colab": {
          "base_uri": "https://localhost:8080/",
          "height": 282
        },
        "id": "mar0MOuZlB8Y",
        "outputId": "f3b93c7b-ade3-48bc-cec0-3863de20256b"
      },
      "outputs": [
        {
          "output_type": "execute_result",
          "data": {
            "text/plain": [
              "<matplotlib.axes._subplots.AxesSubplot at 0x7fcd0cc5b750>"
            ]
          },
          "metadata": {},
          "execution_count": 34
        },
        {
          "output_type": "display_data",
          "data": {
            "image/png": "[encoded data removed]",
            "text/plain": [
              "<Figure size 432x288 with 1 Axes>"
            ]
          },
          "metadata": {
            "needs_background": "light"
          }
        }
      ],
      "source": [
        "metrics = pd.DataFrame(history_nadam.history)\n",
        "metrics[['loss', 'val_loss']].plot()"
      ]
    },
    {
      "cell_type": "markdown",
      "metadata": {
        "id": "kIPLMlsJJANS"
      },
      "source": [
        "Now, we'll use the HeNormal weight initializer"
      ]
    },
    {
      "cell_type": "code",
      "execution_count": 35,
      "metadata": {
        "colab": {
          "base_uri": "https://localhost:8080/"
        },
        "id": "XCl1ZupwlMpj",
        "outputId": "980356fa-db64-4b23-e2f2-6d8d8abd5fb7"
      },
      "outputs": [
        {
          "output_type": "stream",
          "name": "stdout",
          "text": [
            "CPU times: user 53.9 s, sys: 3.94 s, total: 57.9 s\n",
            "Wall time: 54.5 s\n"
          ]
        }
      ],
      "source": [
        "%%time\n",
        "model = Sequential()\n",
        "model.add(Dense(8, activation='relu', input_shape=(45,), \n",
        "                kernel_initializer=tf.keras.initializers.HeNormal())) # hidden layer\n",
        "model.add(Dense(1, activation='sigmoid'))\n",
        "\n",
        "model.compile(loss='binary_crossentropy',\n",
        "              optimizer='nadam',\n",
        "              metrics=['accuracy'])\n",
        "\n",
        "history_wthe = model.fit(train_batches, epochs=100, validation_data=(val_prepared, y_val), verbose=0)"
      ]
    },
    {
      "cell_type": "code",
      "execution_count": 36,
      "metadata": {
        "colab": {
          "base_uri": "https://localhost:8080/",
          "height": 282
        },
        "id": "ans0TJGgmZ6-",
        "outputId": "37638600-014c-417d-8633-c353e8201604"
      },
      "outputs": [
        {
          "output_type": "execute_result",
          "data": {
            "text/plain": [
              "<matplotlib.axes._subplots.AxesSubplot at 0x7fcd0c9ba5d0>"
            ]
          },
          "metadata": {},
          "execution_count": 36
        },
        {
          "output_type": "display_data",
          "data": {
            "image/png": "[encoded data removed]",
            "text/plain": [
              "<Figure size 432x288 with 1 Axes>"
            ]
          },
          "metadata": {
            "needs_background": "light"
          }
        }
      ],
      "source": [
        "metrics = pd.DataFrame(history_wthe.history)\n",
        "metrics[['loss', 'val_loss']].plot()"
      ]
    },
    {
      "cell_type": "markdown",
      "metadata": {
        "id": "I_nJVivnJJO6"
      },
      "source": [
        "We'll try to use callback function on Keras, which is Reduce LR on Plateau. We'll turn on the verbose to see how the learning rate changed"
      ]
    },
    {
      "cell_type": "code",
      "execution_count": 37,
      "metadata": {
        "colab": {
          "base_uri": "https://localhost:8080/"
        },
        "id": "a06O0uF7JWqy",
        "outputId": "ac7e4e69-0f19-4bc0-83ac-7c499b6fb6b9"
      },
      "outputs": [
        {
          "output_type": "stream",
          "name": "stdout",
          "text": [
            "Epoch 1/100\n",
            "141/141 [==============================] - 1s 5ms/step - loss: 0.5974 - accuracy: 0.6904 - val_loss: 0.5145 - val_accuracy: 0.7351 - lr: 0.0010\n",
            "Epoch 2/100\n",
            "141/141 [==============================] - 1s 4ms/step - loss: 0.4868 - accuracy: 0.7578 - val_loss: 0.4578 - val_accuracy: 0.7893 - lr: 0.0010\n",
            "Epoch 3/100\n",
            "141/141 [==============================] - 1s 4ms/step - loss: 0.4496 - accuracy: 0.7833 - val_loss: 0.4341 - val_accuracy: 0.8000 - lr: 0.0010\n",
            "Epoch 4/100\n",
            "141/141 [==============================] - 1s 4ms/step - loss: 0.4356 - accuracy: 0.7924 - val_loss: 0.4253 - val_accuracy: 0.8000 - lr: 0.0010\n",
            "Epoch 5/100\n",
            "141/141 [==============================] - 1s 4ms/step - loss: 0.4296 - accuracy: 0.7973 - val_loss: 0.4210 - val_accuracy: 0.8018 - lr: 0.0010\n",
            "Epoch 6/100\n",
            "141/141 [==============================] - 1s 4ms/step - loss: 0.4259 - accuracy: 0.7978 - val_loss: 0.4190 - val_accuracy: 0.7991 - lr: 0.0010\n",
            "Epoch 7/100\n",
            "141/141 [==============================] - 1s 4ms/step - loss: 0.4236 - accuracy: 0.7978 - val_loss: 0.4170 - val_accuracy: 0.8009 - lr: 0.0010\n",
            "Epoch 8/100\n",
            "141/141 [==============================] - 1s 4ms/step - loss: 0.4218 - accuracy: 0.7980 - val_loss: 0.4154 - val_accuracy: 0.8018 - lr: 0.0010\n",
            "Epoch 9/100\n",
            "141/141 [==============================] - 1s 4ms/step - loss: 0.4203 - accuracy: 0.7993 - val_loss: 0.4148 - val_accuracy: 0.8044 - lr: 0.0010\n",
            "Epoch 10/100\n",
            "141/141 [==============================] - 1s 4ms/step - loss: 0.4192 - accuracy: 0.8016 - val_loss: 0.4134 - val_accuracy: 0.8027 - lr: 0.0010\n",
            "Epoch 11/100\n",
            "141/141 [==============================] - 1s 4ms/step - loss: 0.4180 - accuracy: 0.8011 - val_loss: 0.4137 - val_accuracy: 0.8018 - lr: 0.0010\n",
            "Epoch 12/100\n",
            "141/141 [==============================] - 1s 4ms/step - loss: 0.4173 - accuracy: 0.8040 - val_loss: 0.4123 - val_accuracy: 0.8018 - lr: 0.0010\n",
            "Epoch 13/100\n",
            "141/141 [==============================] - 1s 4ms/step - loss: 0.4166 - accuracy: 0.8038 - val_loss: 0.4117 - val_accuracy: 0.8018 - lr: 0.0010\n",
            "Epoch 14/100\n",
            "141/141 [==============================] - 1s 4ms/step - loss: 0.4161 - accuracy: 0.8047 - val_loss: 0.4117 - val_accuracy: 0.8009 - lr: 0.0010\n",
            "Epoch 15/100\n",
            "141/141 [==============================] - 1s 4ms/step - loss: 0.4155 - accuracy: 0.8047 - val_loss: 0.4111 - val_accuracy: 0.8000 - lr: 0.0010\n",
            "Epoch 16/100\n",
            "141/141 [==============================] - 1s 4ms/step - loss: 0.4150 - accuracy: 0.8053 - val_loss: 0.4111 - val_accuracy: 0.8000 - lr: 0.0010\n",
            "Epoch 17/100\n",
            "141/141 [==============================] - 1s 4ms/step - loss: 0.4142 - accuracy: 0.8073 - val_loss: 0.4107 - val_accuracy: 0.7991 - lr: 0.0010\n",
            "Epoch 18/100\n",
            "141/141 [==============================] - 1s 4ms/step - loss: 0.4138 - accuracy: 0.8064 - val_loss: 0.4103 - val_accuracy: 0.8009 - lr: 0.0010\n",
            "Epoch 19/100\n",
            "141/141 [==============================] - 1s 4ms/step - loss: 0.4133 - accuracy: 0.8087 - val_loss: 0.4107 - val_accuracy: 0.8018 - lr: 0.0010\n",
            "Epoch 20/100\n",
            "141/141 [==============================] - 1s 4ms/step - loss: 0.4128 - accuracy: 0.8091 - val_loss: 0.4102 - val_accuracy: 0.8027 - lr: 0.0010\n",
            "Epoch 21/100\n",
            "141/141 [==============================] - 1s 4ms/step - loss: 0.4121 - accuracy: 0.8093 - val_loss: 0.4101 - val_accuracy: 0.8027 - lr: 0.0010\n",
            "Epoch 22/100\n",
            "141/141 [==============================] - 1s 4ms/step - loss: 0.4119 - accuracy: 0.8078 - val_loss: 0.4092 - val_accuracy: 0.8018 - lr: 0.0010\n",
            "Epoch 23/100\n",
            "141/141 [==============================] - 1s 4ms/step - loss: 0.4108 - accuracy: 0.8104 - val_loss: 0.4089 - val_accuracy: 0.8036 - lr: 0.0010\n",
            "Epoch 24/100\n",
            "141/141 [==============================] - 1s 4ms/step - loss: 0.4100 - accuracy: 0.8091 - val_loss: 0.4088 - val_accuracy: 0.8027 - lr: 0.0010\n",
            "Epoch 25/100\n",
            "141/141 [==============================] - 1s 4ms/step - loss: 0.4095 - accuracy: 0.8104 - val_loss: 0.4085 - val_accuracy: 0.8009 - lr: 0.0010\n",
            "Epoch 26/100\n",
            "141/141 [==============================] - 1s 4ms/step - loss: 0.4090 - accuracy: 0.8109 - val_loss: 0.4083 - val_accuracy: 0.8000 - lr: 0.0010\n",
            "Epoch 27/100\n",
            "141/141 [==============================] - 1s 4ms/step - loss: 0.4083 - accuracy: 0.8111 - val_loss: 0.4083 - val_accuracy: 0.7982 - lr: 0.0010\n",
            "Epoch 28/100\n",
            "141/141 [==============================] - 1s 4ms/step - loss: 0.4079 - accuracy: 0.8116 - val_loss: 0.4086 - val_accuracy: 0.8009 - lr: 0.0010\n",
            "Epoch 29/100\n",
            "141/141 [==============================] - 1s 4ms/step - loss: 0.4074 - accuracy: 0.8111 - val_loss: 0.4092 - val_accuracy: 0.8009 - lr: 0.0010\n",
            "Epoch 30/100\n",
            "141/141 [==============================] - 1s 4ms/step - loss: 0.4069 - accuracy: 0.8078 - val_loss: 0.4088 - val_accuracy: 0.7991 - lr: 0.0010\n",
            "Epoch 31/100\n",
            "141/141 [==============================] - 1s 4ms/step - loss: 0.4068 - accuracy: 0.8118 - val_loss: 0.4096 - val_accuracy: 0.8000 - lr: 0.0010\n",
            "Epoch 32/100\n",
            "141/141 [==============================] - 1s 4ms/step - loss: 0.4049 - accuracy: 0.8116 - val_loss: 0.4085 - val_accuracy: 0.7982 - lr: 2.0000e-04\n",
            "Epoch 33/100\n",
            "141/141 [==============================] - 1s 4ms/step - loss: 0.4046 - accuracy: 0.8122 - val_loss: 0.4085 - val_accuracy: 0.7982 - lr: 2.0000e-04\n",
            "Epoch 34/100\n",
            "141/141 [==============================] - 1s 4ms/step - loss: 0.4046 - accuracy: 0.8116 - val_loss: 0.4085 - val_accuracy: 0.7982 - lr: 2.0000e-04\n",
            "Epoch 35/100\n",
            "141/141 [==============================] - 1s 4ms/step - loss: 0.4045 - accuracy: 0.8116 - val_loss: 0.4086 - val_accuracy: 0.7973 - lr: 2.0000e-04\n",
            "Epoch 36/100\n",
            "141/141 [==============================] - 1s 4ms/step - loss: 0.4044 - accuracy: 0.8113 - val_loss: 0.4085 - val_accuracy: 0.7964 - lr: 2.0000e-04\n",
            "Epoch 37/100\n",
            "141/141 [==============================] - 1s 4ms/step - loss: 0.4041 - accuracy: 0.8127 - val_loss: 0.4085 - val_accuracy: 0.7964 - lr: 1.0000e-04\n",
            "Epoch 38/100\n",
            "141/141 [==============================] - 1s 4ms/step - loss: 0.4040 - accuracy: 0.8124 - val_loss: 0.4085 - val_accuracy: 0.7964 - lr: 1.0000e-04\n",
            "Epoch 39/100\n",
            "141/141 [==============================] - 1s 4ms/step - loss: 0.4040 - accuracy: 0.8131 - val_loss: 0.4085 - val_accuracy: 0.7964 - lr: 1.0000e-04\n",
            "Epoch 40/100\n",
            "141/141 [==============================] - 1s 4ms/step - loss: 0.4039 - accuracy: 0.8131 - val_loss: 0.4085 - val_accuracy: 0.7964 - lr: 1.0000e-04\n",
            "Epoch 41/100\n",
            "141/141 [==============================] - 1s 4ms/step - loss: 0.4039 - accuracy: 0.8129 - val_loss: 0.4085 - val_accuracy: 0.7964 - lr: 1.0000e-04\n",
            "Epoch 42/100\n",
            "141/141 [==============================] - 1s 4ms/step - loss: 0.4039 - accuracy: 0.8127 - val_loss: 0.4085 - val_accuracy: 0.7964 - lr: 1.0000e-04\n",
            "Epoch 43/100\n",
            "141/141 [==============================] - 1s 4ms/step - loss: 0.4038 - accuracy: 0.8127 - val_loss: 0.4085 - val_accuracy: 0.7964 - lr: 1.0000e-04\n",
            "Epoch 44/100\n",
            "141/141 [==============================] - 1s 4ms/step - loss: 0.4038 - accuracy: 0.8131 - val_loss: 0.4085 - val_accuracy: 0.7964 - lr: 1.0000e-04\n",
            "Epoch 45/100\n",
            "141/141 [==============================] - 1s 4ms/step - loss: 0.4037 - accuracy: 0.8131 - val_loss: 0.4085 - val_accuracy: 0.7964 - lr: 1.0000e-04\n",
            "Epoch 46/100\n",
            "141/141 [==============================] - 1s 4ms/step - loss: 0.4038 - accuracy: 0.8127 - val_loss: 0.4085 - val_accuracy: 0.7964 - lr: 1.0000e-04\n",
            "Epoch 47/100\n",
            "141/141 [==============================] - 1s 4ms/step - loss: 0.4037 - accuracy: 0.8127 - val_loss: 0.4085 - val_accuracy: 0.7964 - lr: 1.0000e-04\n",
            "Epoch 48/100\n",
            "141/141 [==============================] - 1s 4ms/step - loss: 0.4036 - accuracy: 0.8131 - val_loss: 0.4085 - val_accuracy: 0.7964 - lr: 1.0000e-04\n",
            "Epoch 49/100\n",
            "141/141 [==============================] - 1s 4ms/step - loss: 0.4036 - accuracy: 0.8127 - val_loss: 0.4085 - val_accuracy: 0.7964 - lr: 1.0000e-04\n",
            "Epoch 50/100\n",
            "141/141 [==============================] - 1s 4ms/step - loss: 0.4036 - accuracy: 0.8131 - val_loss: 0.4085 - val_accuracy: 0.7964 - lr: 1.0000e-04\n",
            "Epoch 51/100\n",
            "141/141 [==============================] - 1s 4ms/step - loss: 0.4035 - accuracy: 0.8131 - val_loss: 0.4085 - val_accuracy: 0.7964 - lr: 1.0000e-04\n",
            "Epoch 52/100\n",
            "141/141 [==============================] - 1s 4ms/step - loss: 0.4035 - accuracy: 0.8133 - val_loss: 0.4085 - val_accuracy: 0.7964 - lr: 1.0000e-04\n",
            "Epoch 53/100\n",
            "141/141 [==============================] - 1s 4ms/step - loss: 0.4035 - accuracy: 0.8129 - val_loss: 0.4085 - val_accuracy: 0.7964 - lr: 1.0000e-04\n",
            "Epoch 54/100\n",
            "141/141 [==============================] - 1s 4ms/step - loss: 0.4035 - accuracy: 0.8131 - val_loss: 0.4085 - val_accuracy: 0.7964 - lr: 1.0000e-04\n",
            "Epoch 55/100\n",
            "141/141 [==============================] - 1s 4ms/step - loss: 0.4035 - accuracy: 0.8133 - val_loss: 0.4085 - val_accuracy: 0.7964 - lr: 1.0000e-04\n",
            "Epoch 56/100\n",
            "141/141 [==============================] - 1s 4ms/step - loss: 0.4034 - accuracy: 0.8131 - val_loss: 0.4085 - val_accuracy: 0.7964 - lr: 1.0000e-04\n",
            "Epoch 57/100\n",
            "141/141 [==============================] - 1s 4ms/step - loss: 0.4034 - accuracy: 0.8131 - val_loss: 0.4085 - val_accuracy: 0.7973 - lr: 1.0000e-04\n",
            "Epoch 58/100\n",
            "141/141 [==============================] - 1s 4ms/step - loss: 0.4033 - accuracy: 0.8131 - val_loss: 0.4085 - val_accuracy: 0.7973 - lr: 1.0000e-04\n",
            "Epoch 59/100\n",
            "141/141 [==============================] - 1s 4ms/step - loss: 0.4033 - accuracy: 0.8136 - val_loss: 0.4086 - val_accuracy: 0.7973 - lr: 1.0000e-04\n",
            "Epoch 60/100\n",
            "141/141 [==============================] - 1s 4ms/step - loss: 0.4033 - accuracy: 0.8131 - val_loss: 0.4086 - val_accuracy: 0.7973 - lr: 1.0000e-04\n",
            "Epoch 61/100\n",
            "141/141 [==============================] - 1s 4ms/step - loss: 0.4032 - accuracy: 0.8133 - val_loss: 0.4085 - val_accuracy: 0.7973 - lr: 1.0000e-04\n",
            "Epoch 62/100\n",
            "141/141 [==============================] - 1s 4ms/step - loss: 0.4032 - accuracy: 0.8138 - val_loss: 0.4086 - val_accuracy: 0.7973 - lr: 1.0000e-04\n",
            "Epoch 63/100\n",
            "141/141 [==============================] - 1s 4ms/step - loss: 0.4032 - accuracy: 0.8138 - val_loss: 0.4086 - val_accuracy: 0.7973 - lr: 1.0000e-04\n",
            "Epoch 64/100\n",
            "141/141 [==============================] - 1s 4ms/step - loss: 0.4031 - accuracy: 0.8133 - val_loss: 0.4086 - val_accuracy: 0.7973 - lr: 1.0000e-04\n",
            "Epoch 65/100\n",
            "141/141 [==============================] - 1s 4ms/step - loss: 0.4031 - accuracy: 0.8136 - val_loss: 0.4086 - val_accuracy: 0.7973 - lr: 1.0000e-04\n",
            "Epoch 66/100\n",
            "141/141 [==============================] - 1s 4ms/step - loss: 0.4031 - accuracy: 0.8136 - val_loss: 0.4085 - val_accuracy: 0.7973 - lr: 1.0000e-04\n",
            "Epoch 67/100\n",
            "141/141 [==============================] - 1s 4ms/step - loss: 0.4031 - accuracy: 0.8136 - val_loss: 0.4086 - val_accuracy: 0.7982 - lr: 1.0000e-04\n",
            "Epoch 68/100\n",
            "141/141 [==============================] - 1s 4ms/step - loss: 0.4030 - accuracy: 0.8136 - val_loss: 0.4085 - val_accuracy: 0.7973 - lr: 1.0000e-04\n",
            "Epoch 69/100\n",
            "141/141 [==============================] - 1s 4ms/step - loss: 0.4030 - accuracy: 0.8140 - val_loss: 0.4086 - val_accuracy: 0.7982 - lr: 1.0000e-04\n",
            "Epoch 70/100\n",
            "141/141 [==============================] - 1s 4ms/step - loss: 0.4030 - accuracy: 0.8136 - val_loss: 0.4086 - val_accuracy: 0.7982 - lr: 1.0000e-04\n",
            "Epoch 71/100\n",
            "141/141 [==============================] - 1s 4ms/step - loss: 0.4030 - accuracy: 0.8133 - val_loss: 0.4086 - val_accuracy: 0.7982 - lr: 1.0000e-04\n",
            "Epoch 72/100\n",
            "141/141 [==============================] - 1s 4ms/step - loss: 0.4029 - accuracy: 0.8136 - val_loss: 0.4086 - val_accuracy: 0.7982 - lr: 1.0000e-04\n",
            "Epoch 73/100\n",
            "141/141 [==============================] - 1s 4ms/step - loss: 0.4029 - accuracy: 0.8138 - val_loss: 0.4086 - val_accuracy: 0.7982 - lr: 1.0000e-04\n",
            "Epoch 74/100\n",
            "141/141 [==============================] - 1s 4ms/step - loss: 0.4028 - accuracy: 0.8133 - val_loss: 0.4086 - val_accuracy: 0.7991 - lr: 1.0000e-04\n",
            "Epoch 75/100\n",
            "141/141 [==============================] - 1s 4ms/step - loss: 0.4028 - accuracy: 0.8136 - val_loss: 0.4086 - val_accuracy: 0.7982 - lr: 1.0000e-04\n",
            "Epoch 76/100\n",
            "141/141 [==============================] - 1s 4ms/step - loss: 0.4028 - accuracy: 0.8140 - val_loss: 0.4086 - val_accuracy: 0.7982 - lr: 1.0000e-04\n",
            "Epoch 77/100\n",
            "141/141 [==============================] - 1s 4ms/step - loss: 0.4028 - accuracy: 0.8138 - val_loss: 0.4086 - val_accuracy: 0.7991 - lr: 1.0000e-04\n",
            "Epoch 78/100\n",
            "141/141 [==============================] - 1s 4ms/step - loss: 0.4027 - accuracy: 0.8138 - val_loss: 0.4086 - val_accuracy: 0.7991 - lr: 1.0000e-04\n",
            "Epoch 79/100\n",
            "141/141 [==============================] - 1s 4ms/step - loss: 0.4027 - accuracy: 0.8138 - val_loss: 0.4086 - val_accuracy: 0.7991 - lr: 1.0000e-04\n",
            "Epoch 80/100\n",
            "141/141 [==============================] - 1s 4ms/step - loss: 0.4027 - accuracy: 0.8140 - val_loss: 0.4087 - val_accuracy: 0.7991 - lr: 1.0000e-04\n",
            "Epoch 81/100\n",
            "141/141 [==============================] - 1s 4ms/step - loss: 0.4027 - accuracy: 0.8140 - val_loss: 0.4087 - val_accuracy: 0.7991 - lr: 1.0000e-04\n",
            "Epoch 82/100\n",
            "141/141 [==============================] - 1s 4ms/step - loss: 0.4026 - accuracy: 0.8136 - val_loss: 0.4087 - val_accuracy: 0.7991 - lr: 1.0000e-04\n",
            "Epoch 83/100\n",
            "141/141 [==============================] - 1s 4ms/step - loss: 0.4026 - accuracy: 0.8136 - val_loss: 0.4087 - val_accuracy: 0.7991 - lr: 1.0000e-04\n",
            "Epoch 84/100\n",
            "141/141 [==============================] - 1s 4ms/step - loss: 0.4026 - accuracy: 0.8136 - val_loss: 0.4087 - val_accuracy: 0.7991 - lr: 1.0000e-04\n",
            "Epoch 85/100\n",
            "141/141 [==============================] - 1s 4ms/step - loss: 0.4025 - accuracy: 0.8138 - val_loss: 0.4087 - val_accuracy: 0.7991 - lr: 1.0000e-04\n",
            "Epoch 86/100\n",
            "141/141 [==============================] - 1s 4ms/step - loss: 0.4025 - accuracy: 0.8136 - val_loss: 0.4087 - val_accuracy: 0.7991 - lr: 1.0000e-04\n",
            "Epoch 87/100\n",
            "141/141 [==============================] - 1s 4ms/step - loss: 0.4025 - accuracy: 0.8136 - val_loss: 0.4087 - val_accuracy: 0.7991 - lr: 1.0000e-04\n",
            "Epoch 88/100\n",
            "141/141 [==============================] - 1s 4ms/step - loss: 0.4025 - accuracy: 0.8133 - val_loss: 0.4087 - val_accuracy: 0.7991 - lr: 1.0000e-04\n",
            "Epoch 89/100\n",
            "141/141 [==============================] - 1s 4ms/step - loss: 0.4024 - accuracy: 0.8138 - val_loss: 0.4087 - val_accuracy: 0.7982 - lr: 1.0000e-04\n",
            "Epoch 90/100\n",
            "141/141 [==============================] - 1s 4ms/step - loss: 0.4024 - accuracy: 0.8138 - val_loss: 0.4087 - val_accuracy: 0.7991 - lr: 1.0000e-04\n",
            "Epoch 91/100\n",
            "141/141 [==============================] - 1s 4ms/step - loss: 0.4024 - accuracy: 0.8140 - val_loss: 0.4087 - val_accuracy: 0.7991 - lr: 1.0000e-04\n",
            "Epoch 92/100\n",
            "141/141 [==============================] - 1s 4ms/step - loss: 0.4024 - accuracy: 0.8138 - val_loss: 0.4087 - val_accuracy: 0.7991 - lr: 1.0000e-04\n",
            "Epoch 93/100\n",
            "141/141 [==============================] - 1s 4ms/step - loss: 0.4023 - accuracy: 0.8138 - val_loss: 0.4087 - val_accuracy: 0.7991 - lr: 1.0000e-04\n",
            "Epoch 94/100\n",
            "141/141 [==============================] - 1s 4ms/step - loss: 0.4023 - accuracy: 0.8131 - val_loss: 0.4087 - val_accuracy: 0.7991 - lr: 1.0000e-04\n",
            "Epoch 95/100\n",
            "141/141 [==============================] - 1s 4ms/step - loss: 0.4022 - accuracy: 0.8131 - val_loss: 0.4087 - val_accuracy: 0.7991 - lr: 1.0000e-04\n",
            "Epoch 96/100\n",
            "141/141 [==============================] - 1s 4ms/step - loss: 0.4022 - accuracy: 0.8133 - val_loss: 0.4088 - val_accuracy: 0.7991 - lr: 1.0000e-04\n",
            "Epoch 97/100\n",
            "141/141 [==============================] - 1s 4ms/step - loss: 0.4022 - accuracy: 0.8142 - val_loss: 0.4088 - val_accuracy: 0.7991 - lr: 1.0000e-04\n",
            "Epoch 98/100\n",
            "141/141 [==============================] - 1s 4ms/step - loss: 0.4022 - accuracy: 0.8133 - val_loss: 0.4088 - val_accuracy: 0.7991 - lr: 1.0000e-04\n",
            "Epoch 99/100\n",
            "141/141 [==============================] - 1s 4ms/step - loss: 0.4022 - accuracy: 0.8133 - val_loss: 0.4088 - val_accuracy: 0.7991 - lr: 1.0000e-04\n",
            "Epoch 100/100\n",
            "141/141 [==============================] - 1s 4ms/step - loss: 0.4021 - accuracy: 0.8140 - val_loss: 0.4088 - val_accuracy: 0.7991 - lr: 1.0000e-04\n",
            "CPU times: user 1min 1s, sys: 4.6 s, total: 1min 5s\n",
            "Wall time: 59.1 s\n"
          ]
        }
      ],
      "source": [
        "%%time\n",
        "reduce_lr = tf.keras.callbacks.ReduceLROnPlateau(monitor='val_loss', factor=0.2,\n",
        "                              patience=5, min_lr=0.0001)\n",
        "\n",
        "model = Sequential()\n",
        "model.add(Dense(8, activation='relu', input_shape=(45,), \n",
        "                kernel_initializer=tf.keras.initializers.HeNormal())) # hidden layer\n",
        "model.add(Dense(1, activation='sigmoid'))\n",
        "\n",
        "model.compile(loss='binary_crossentropy',\n",
        "              optimizer='nadam',\n",
        "              metrics=['accuracy'])\n",
        "\n",
        "history_call = model.fit(train_batches, epochs=100, validation_data=(val_prepared, y_val), callbacks=[reduce_lr])"
      ]
    },
    {
      "cell_type": "code",
      "source": [
        "metrics = pd.DataFrame(history_call.history)\n",
        "metrics[['loss', 'val_loss']].plot()"
      ],
      "metadata": {
        "colab": {
          "base_uri": "https://localhost:8080/",
          "height": 282
        },
        "id": "jzwPAv7odQ5J",
        "outputId": "22065899-5869-481f-84e2-287761e2648f"
      },
      "execution_count": 38,
      "outputs": [
        {
          "output_type": "execute_result",
          "data": {
            "text/plain": [
              "<matplotlib.axes._subplots.AxesSubplot at 0x7fcd0c893210>"
            ]
          },
          "metadata": {},
          "execution_count": 38
        },
        {
          "output_type": "display_data",
          "data": {
            "image/png": "[encoded data removed]",
            "text/plain": [
              "<Figure size 432x288 with 1 Axes>"
            ]
          },
          "metadata": {
            "needs_background": "light"
          }
        }
      ]
    },
    {
      "cell_type": "markdown",
      "source": [
        "This is not quite the improvement, but this one's val_loss is closest so far with the loss. We'll use this as the 'best' model"
      ],
      "metadata": {
        "id": "zvmsAkZ6dkOd"
      }
    },
    {
      "cell_type": "code",
      "source": [
        "y_pred = model.predict(test_prepared)\n",
        "y_pred[y_pred < 0.5] = 0\n",
        "y_pred[y_pred >= 0.5] = 1\n",
        "y_pred = y_pred.squeeze()\n",
        "\n",
        "print(classification_report(y_test, y_pred))"
      ],
      "metadata": {
        "colab": {
          "base_uri": "https://localhost:8080/"
        },
        "id": "Z-ZP8qdOd0x8",
        "outputId": "408053e5-c1b6-4118-f81b-b1fc8792aa77"
      },
      "execution_count": 39,
      "outputs": [
        {
          "output_type": "stream",
          "name": "stdout",
          "text": [
            "              precision    recall  f1-score   support\n",
            "\n",
            "           0       0.83      0.89      0.86      1033\n",
            "           1       0.62      0.51      0.56       374\n",
            "\n",
            "    accuracy                           0.79      1407\n",
            "   macro avg       0.73      0.70      0.71      1407\n",
            "weighted avg       0.78      0.79      0.78      1407\n",
            "\n"
          ]
        }
      ]
    },
    {
      "cell_type": "markdown",
      "source": [
        "We got 0.51 recall again on the 'Churn' label, and our f1-macro stayed by 0.71 again "
      ],
      "metadata": {
        "id": "_BqvYzmQeE2e"
      }
    },
    {
      "cell_type": "markdown",
      "source": [
        "## Model Inference"
      ],
      "metadata": {
        "id": "hPX8aizHebil"
      }
    },
    {
      "cell_type": "markdown",
      "source": [
        "Next we'll try one of the data from our test label to try to infer whether the customers are churned or not"
      ],
      "metadata": {
        "id": "uAEZCtb0fSBN"
      }
    },
    {
      "cell_type": "code",
      "source": [
        "infer_data = X_test.iloc[-1]\n",
        "infer_data = pd.DataFrame(infer_data).T\n",
        "infer_data"
      ],
      "metadata": {
        "colab": {
          "base_uri": "https://localhost:8080/",
          "height": 162
        },
        "id": "sTAKgfUZfd24",
        "outputId": "a026b244-6c8b-4889-e89b-5ceaa6b93105"
      },
      "execution_count": 40,
      "outputs": [
        {
          "output_type": "execute_result",
          "data": {
            "text/html": [
              "\n",
              "  <div id=\"df-e7110482-2703-4cf1-b416-d65ffe90f150\">\n",
              "    <div class=\"colab-df-container\">\n",
              "      <div>\n",
              "<style scoped>\n",
              "    .dataframe tbody tr th:only-of-type {\n",
              "        vertical-align: middle;\n",
              "    }\n",
              "\n",
              "    .dataframe tbody tr th {\n",
              "        vertical-align: top;\n",
              "    }\n",
              "\n",
              "    .dataframe thead th {\n",
              "        text-align: right;\n",
              "    }\n",
              "</style>\n",
              "<table border=\"1\" class=\"dataframe\">\n",
              "  <thead>\n",
              "    <tr style=\"text-align: right;\">\n",
              "      <th></th>\n",
              "      <th>gender</th>\n",
              "      <th>SeniorCitizen</th>\n",
              "      <th>Partner</th>\n",
              "      <th>Dependents</th>\n",
              "      <th>tenure</th>\n",
              "      <th>PhoneService</th>\n",
              "      <th>MultipleLines</th>\n",
              "      <th>InternetService</th>\n",
              "      <th>OnlineSecurity</th>\n",
              "      <th>OnlineBackup</th>\n",
              "      <th>DeviceProtection</th>\n",
              "      <th>TechSupport</th>\n",
              "      <th>StreamingTV</th>\n",
              "      <th>StreamingMovies</th>\n",
              "      <th>Contract</th>\n",
              "      <th>PaperlessBilling</th>\n",
              "      <th>PaymentMethod</th>\n",
              "      <th>MonthlyCharges</th>\n",
              "      <th>TotalCharges</th>\n",
              "    </tr>\n",
              "  </thead>\n",
              "  <tbody>\n",
              "    <tr>\n",
              "      <th>3984</th>\n",
              "      <td>Female</td>\n",
              "      <td>0</td>\n",
              "      <td>Yes</td>\n",
              "      <td>Yes</td>\n",
              "      <td>72</td>\n",
              "      <td>Yes</td>\n",
              "      <td>Yes</td>\n",
              "      <td>No</td>\n",
              "      <td>No internet service</td>\n",
              "      <td>No internet service</td>\n",
              "      <td>No internet service</td>\n",
              "      <td>No internet service</td>\n",
              "      <td>No internet service</td>\n",
              "      <td>No internet service</td>\n",
              "      <td>Two year</td>\n",
              "      <td>No</td>\n",
              "      <td>Bank transfer (automatic)</td>\n",
              "      <td>25.1</td>\n",
              "      <td>1857.85</td>\n",
              "    </tr>\n",
              "  </tbody>\n",
              "</table>\n",
              "</div>\n",
              "      <button class=\"colab-df-convert\" onclick=\"convertToInteractive('df-e7110482-2703-4cf1-b416-d65ffe90f150')\"\n",
              "              title=\"Convert this dataframe to an interactive table.\"\n",
              "              style=\"display:none;\">\n",
              "        \n",
              "  <svg xmlns=\"http://www.w3.org/2000/svg\" height=\"24px\"viewBox=\"0 0 24 24\"\n",
              "       width=\"24px\">\n",
              "    <path d=\"M0 0h24v24H0V0z\" fill=\"none\"/>\n",
              "    <path d=\"M18.56 5.44l.94 2.06.94-2.06 2.06-.94-2.06-.94-.94-2.06-.94 2.06-2.06.94zm-11 1L8.5 8.5l.94-2.06 2.06-.94-2.06-.94L8.5 2.5l-.94 2.06-2.06.94zm10 10l.94 2.06.94-2.06 2.06-.94-2.06-.94-.94-2.06-.94 2.06-2.06.94z\"/><path d=\"M17.41 7.96l-1.37-1.37c-.4-.4-.92-.59-1.43-.59-.52 0-1.04.2-1.43.59L10.3 9.45l-7.72 7.72c-.78.78-.78 2.05 0 2.83L4 21.41c.39.39.9.59 1.41.59.51 0 1.02-.2 1.41-.59l7.78-7.78 2.81-2.81c.8-.78.8-2.07 0-2.86zM5.41 20L4 18.59l7.72-7.72 1.47 1.35L5.41 20z\"/>\n",
              "  </svg>\n",
              "      </button>\n",
              "      \n",
              "  <style>\n",
              "    .colab-df-container {\n",
              "      display:flex;\n",
              "      flex-wrap:wrap;\n",
              "      gap: 12px;\n",
              "    }\n",
              "\n",
              "    .colab-df-convert {\n",
              "      background-color: #E8F0FE;\n",
              "      border: none;\n",
              "      border-radius: 50%;\n",
              "      cursor: pointer;\n",
              "      display: none;\n",
              "      fill: #1967D2;\n",
              "      height: 32px;\n",
              "      padding: 0 0 0 0;\n",
              "      width: 32px;\n",
              "    }\n",
              "\n",
              "    .colab-df-convert:hover {\n",
              "      background-color: #E2EBFA;\n",
              "      box-shadow: 0px 1px 2px rgba(60, 64, 67, 0.3), 0px 1px 3px 1px rgba(60, 64, 67, 0.15);\n",
              "      fill: #174EA6;\n",
              "    }\n",
              "\n",
              "    [theme=dark] .colab-df-convert {\n",
              "      background-color: #3B4455;\n",
              "      fill: #D2E3FC;\n",
              "    }\n",
              "\n",
              "    [theme=dark] .colab-df-convert:hover {\n",
              "      background-color: #434B5C;\n",
              "      box-shadow: 0px 1px 3px 1px rgba(0, 0, 0, 0.15);\n",
              "      filter: drop-shadow(0px 1px 2px rgba(0, 0, 0, 0.3));\n",
              "      fill: #FFFFFF;\n",
              "    }\n",
              "  </style>\n",
              "\n",
              "      <script>\n",
              "        const buttonEl =\n",
              "          document.querySelector('#df-e7110482-2703-4cf1-b416-d65ffe90f150 button.colab-df-convert');\n",
              "        buttonEl.style.display =\n",
              "          google.colab.kernel.accessAllowed ? 'block' : 'none';\n",
              "\n",
              "        async function convertToInteractive(key) {\n",
              "          const element = document.querySelector('#df-e7110482-2703-4cf1-b416-d65ffe90f150');\n",
              "          const dataTable =\n",
              "            await google.colab.kernel.invokeFunction('convertToInteractive',\n",
              "                                                     [key], {});\n",
              "          if (!dataTable) return;\n",
              "\n",
              "          const docLinkHtml = 'Like what you see? Visit the ' +\n",
              "            '<a target=\"_blank\" href=https://colab.research.google.com/notebooks/data_table.ipynb>data table notebook</a>'\n",
              "            + ' to learn more about interactive tables.';\n",
              "          element.innerHTML = '';\n",
              "          dataTable['output_type'] = 'display_data';\n",
              "          await google.colab.output.renderOutput(dataTable, element);\n",
              "          const docLink = document.createElement('div');\n",
              "          docLink.innerHTML = docLinkHtml;\n",
              "          element.appendChild(docLink);\n",
              "        }\n",
              "      </script>\n",
              "    </div>\n",
              "  </div>\n",
              "  "
            ],
            "text/plain": [
              "      gender SeniorCitizen  ... MonthlyCharges TotalCharges\n",
              "3984  Female             0  ...           25.1      1857.85\n",
              "\n",
              "[1 rows x 19 columns]"
            ]
          },
          "metadata": {},
          "execution_count": 40
        }
      ]
    },
    {
      "cell_type": "markdown",
      "source": [
        "Our female customer, whom is:\n",
        "1. Not a senior citizen\n",
        "2. Have a partner \n",
        "3. Have a family to take care (possibly is a mother)\n",
        "4. Have been using the service for 72 months\n",
        "5. Have phone service and multiple lines\n",
        "6. Have no internet service installed\n",
        "7. Have signed to a 2-year subscription\n",
        "8. Billed with printed billing\n",
        "9. Paid with bank transfer\n",
        "10. Currently billed of 25.1 dollar per month\n",
        "11. Have been billed for a total of 1857.85 dollar"
      ],
      "metadata": {
        "id": "oVEBfO3rf5AE"
      }
    },
    {
      "cell_type": "code",
      "source": [
        "infer_prep = full_prep.transform(infer_data)\n",
        "pred_prob = model.predict(infer_prep)\n",
        "if (pred_prob < 0.5):\n",
        "  print('Customer stays')\n",
        "else:\n",
        "  print('Customer churns')"
      ],
      "metadata": {
        "colab": {
          "base_uri": "https://localhost:8080/"
        },
        "id": "nkermXJjf4VV",
        "outputId": "812155b9-5a25-4de7-eb47-32afa6825748"
      },
      "execution_count": 41,
      "outputs": [
        {
          "output_type": "stream",
          "name": "stdout",
          "text": [
            "Customer stays\n"
          ]
        }
      ]
    },
    {
      "cell_type": "markdown",
      "source": [
        "Our model predict that this customer will stays"
      ],
      "metadata": {
        "id": "vS5AwTljhcrE"
      }
    },
    {
      "cell_type": "markdown",
      "metadata": {
        "id": "CV2VbootBRiD"
      },
      "source": [
        "## General Conclusion"
      ]
    },
    {
      "cell_type": "markdown",
      "source": [
        "1. In accordance to the EDA, the suggestion is to analyze the possible characteristic that causes churn, such as:\n",
        "* High monthly cost (is it worth the service?)\n",
        "* Fiber optic user (is this causing high monthly cost? Are there any trouble with fiber optic use?), \n",
        "* Month-by-month subscriber (why are they choosing to leave? Is the service considered not worth it? Is it 'too easy' for our customer to leave?)\n",
        "\n",
        "2. The model seemingly converge 'enough' from the baseline structure (1 hidden layer with relu activation and 8 nodes). Adding the layer made it worse, and other attempt results in almost no difference.\n",
        "\n",
        "3. Further experiment should try to preprocess the data better (discarding several features) or using other types of model"
      ],
      "metadata": {
        "id": "ox1TqMgJlBd5"
      }
    }
  ],
  "metadata": {
    "accelerator": "GPU",
    "colab": {
      "collapsed_sections": [],
      "name": "h8dsft_Milestone1P2_ari_riscahyo_nugroho.ipynb",
      "provenance": [],
      "toc_visible": true
    },
    "kernelspec": {
      "display_name": "Python 3",
      "name": "python3"
    },
    "language_info": {
      "name": "python"
    }
  },
  "nbformat": 4,
  "nbformat_minor": 0
}